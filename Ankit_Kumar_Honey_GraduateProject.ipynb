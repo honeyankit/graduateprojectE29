{
 "cells": [
  {
   "cell_type": "markdown",
   "metadata": {},
   "source": [
    "# Movie Classification Based On Plot Summaries"
   ]
  },
  {
   "cell_type": "code",
   "execution_count": 238,
   "metadata": {},
   "outputs": [],
   "source": [
    "#Importing python libraries\n",
    "import re\n",
    "import csv\n",
    "import fileinput\n",
    "import numpy as np\n",
    "import pandas as pd\n",
    "from IPython.display import Image\n",
    "\n",
    "#Importing ML classifiers\n",
    "from sklearn.svm import LinearSVC\n",
    "from sklearn.pipeline import Pipeline\n",
    "from sklearn.naive_bayes import MultinomialNB\n",
    "from sklearn.multiclass import OneVsRestClassifier\n",
    "from sklearn.linear_model import LogisticRegression\n",
    "\n",
    "#Importing libraries for ML model evaluation and improvements\n",
    "from sklearn.feature_extraction.text import TfidfVectorizer\n",
    "from sklearn.metrics import confusion_matrix, classification_report, accuracy_score\n",
    "from sklearn.model_selection import train_test_split, cross_val_score, StratifiedShuffleSplit, GridSearchCV"
   ]
  },
  {
   "cell_type": "markdown",
   "metadata": {},
   "source": [
    "# Data Gathering\n",
    "\n",
    "In order to create the dataset for this project we need to download genres.list and plot.list files from IMDB Database (ftp://ftp.fu-berlin.de/pub/misc/movies/database) and then parse files in order to associate the Title, Plot, and Genre.\n",
    "\n",
    "The data in genre.list conatins the 'Title' and 'Genre' of the movies and data in plot.list contains 'Title' and 'Plot' of the movies.\n",
    "* genre.list -- It contains the 'Title' and 'Genre' of the movies\n",
    "* plot.list  -- It contains the 'Title' and 'Plot' of the movies\n",
    "\n",
    "From the above two files data is extracted and stored in csv format.\n",
    "* moviesGenre.csv -- It contains the 'Title' and 'Genre' of the movies in csv format.\n",
    "* moviesPlot.csv  -- It contains the 'Title' and 'Plot' of the movies in csv format.\n",
    "\n",
    "As a part of data gathering, I am also cleaing the data from unwanted spaces, comments, tabs etc.\n",
    "\n",
    "For this project, Instead of using the plot.list directly from the IMDB database, kindly use the plot.list file provided with this project as one manual step for data cleaning on plot.list was performed. "
   ]
  },
  {
   "cell_type": "code",
   "execution_count": 212,
   "metadata": {
    "collapsed": true
   },
   "outputs": [],
   "source": [
    "#Initilization\n",
    "mName = \"\"\n",
    "moviePlot = \"\"\n",
    "movideDict = {}\n",
    "\n",
    "#File path\n",
    "plotFile=\"data/plot.list\"\n",
    "file = fileinput.input([plotFile],openhook=fileinput.hook_encoded('latin-1'))\n",
    "\n",
    "#Extracting movies and its plot from the raw file. \n",
    "for line in file:\n",
    "    #If line contains \"MV:\", then extract the movie name from it. \n",
    "    if line.find(\"MV:\") == 0:\n",
    "        if mName != \"\":\n",
    "            movideDict[mName] = moviePlot\n",
    "            mName = \"\"\n",
    "            moviePlot = \"\"\n",
    "        mName = str(re.findall('\"([^\"]*)\"',line)).strip('[]').strip(\"'\").strip('#')\n",
    "    #If line contains \"PL:\", then extract the plot of the movie.    \n",
    "    elif line.find(\"PL:\") == 0:\n",
    "        moviePlot += line.split('PL:',1)[1].strip('\\n')\n",
    "file.close()\n",
    "\n",
    "#Writing movies and its plot in csv format. \n",
    "#Format of csv file: <movie name>,<plot>\n",
    "plotCsvFile = \"data/moviesPlot.csv\"\n",
    "with open(plotCsvFile, \"w\") as csv_file:\n",
    "        writer = csv.writer(csv_file)\n",
    "        for key,value in movideDict.items():\n",
    "            writer.writerow([key,value])"
   ]
  },
  {
   "cell_type": "code",
   "execution_count": 213,
   "metadata": {
    "collapsed": true
   },
   "outputs": [],
   "source": [
    "#File path\n",
    "genreFile=\"data/genres.list\"\n",
    "file = fileinput.input([genreFile],openhook=fileinput.hook_encoded('latin-1'))\n",
    "\n",
    "movieGenreDict = {}\n",
    "#Extracting movies and its plot from the raw file. \n",
    "for line in file:\n",
    "    mName = str(re.findall('\"([^\"]*)\"',line)).strip('[]').strip(\"'\").strip('#')\n",
    "    lineList = line.split('\\t')\n",
    "    movieGenreDict[mName] = lineList[-1].strip('\\n').strip('\\t')\n",
    "file.close()\n",
    "\n",
    "#Writing movies genre and its plot in csv format. \n",
    "#Format of csv file: <movie name>,<genre>\n",
    "genreCsvFile = \"data/moviesGenre.csv\"\n",
    "with open(genreCsvFile, \"w\") as csv_file:\n",
    "        writer = csv.writer(csv_file)\n",
    "        for key,value in movieGenreDict.items():\n",
    "            writer.writerow([key,value])"
   ]
  },
  {
   "cell_type": "markdown",
   "metadata": {},
   "source": [
    "Loading data into dataframes:\n",
    "* moviesPlot.csv  ---------> moviePlotsDF\n",
    "* moviesGenre.csv ---------> movieGenreDF\n",
    "* movieDFAnother  ---------> movieDFAnother"
   ]
  },
  {
   "cell_type": "code",
   "execution_count": 222,
   "metadata": {},
   "outputs": [
    {
     "data": {
      "text/html": [
       "<div>\n",
       "<style>\n",
       "    .dataframe thead tr:only-child th {\n",
       "        text-align: right;\n",
       "    }\n",
       "\n",
       "    .dataframe thead th {\n",
       "        text-align: left;\n",
       "    }\n",
       "\n",
       "    .dataframe tbody tr th {\n",
       "        vertical-align: top;\n",
       "    }\n",
       "</style>\n",
       "<table border=\"1\" class=\"dataframe\">\n",
       "  <thead>\n",
       "    <tr style=\"text-align: right;\">\n",
       "      <th></th>\n",
       "      <th>Title</th>\n",
       "      <th>Plot</th>\n",
       "    </tr>\n",
       "  </thead>\n",
       "  <tbody>\n",
       "    <tr>\n",
       "      <th>0</th>\n",
       "      <td>BlackLove</td>\n",
       "      <td>Follows five dynamic black women in New York ...</td>\n",
       "    </tr>\n",
       "    <tr>\n",
       "      <th>1</th>\n",
       "      <td>Cake</td>\n",
       "      <td>Cake, Amy and Benjamin discover they all have...</td>\n",
       "    </tr>\n",
       "    <tr>\n",
       "      <th>2</th>\n",
       "      <td>CandidlyNicole</td>\n",
       "      <td>When you're married to a sports nut, sometime...</td>\n",
       "    </tr>\n",
       "    <tr>\n",
       "      <th>3</th>\n",
       "      <td>DaddyLeaks</td>\n",
       "      <td>The life of four close friends in their late ...</td>\n",
       "    </tr>\n",
       "    <tr>\n",
       "      <th>4</th>\n",
       "      <td>DearGeorgette</td>\n",
       "      <td>My conversations with my guy friends have led...</td>\n",
       "    </tr>\n",
       "  </tbody>\n",
       "</table>\n",
       "</div>"
      ],
      "text/plain": [
       "            Title                                               Plot\n",
       "0       BlackLove   Follows five dynamic black women in New York ...\n",
       "1            Cake   Cake, Amy and Benjamin discover they all have...\n",
       "2  CandidlyNicole   When you're married to a sports nut, sometime...\n",
       "3      DaddyLeaks   The life of four close friends in their late ...\n",
       "4   DearGeorgette   My conversations with my guy friends have led..."
      ]
     },
     "metadata": {},
     "output_type": "display_data"
    },
    {
     "name": "stdout",
     "output_type": "stream",
     "text": [
      "Shape: (35702, 2) \n",
      "\n"
     ]
    },
    {
     "data": {
      "text/html": [
       "<div>\n",
       "<style>\n",
       "    .dataframe thead tr:only-child th {\n",
       "        text-align: right;\n",
       "    }\n",
       "\n",
       "    .dataframe thead th {\n",
       "        text-align: left;\n",
       "    }\n",
       "\n",
       "    .dataframe tbody tr th {\n",
       "        vertical-align: top;\n",
       "    }\n",
       "</style>\n",
       "<table border=\"1\" class=\"dataframe\">\n",
       "  <thead>\n",
       "    <tr style=\"text-align: right;\">\n",
       "      <th></th>\n",
       "      <th>Title</th>\n",
       "      <th>Genre</th>\n",
       "    </tr>\n",
       "  </thead>\n",
       "  <tbody>\n",
       "    <tr>\n",
       "      <th>0</th>\n",
       "      <td>1 Single</td>\n",
       "      <td>Reality-TV</td>\n",
       "    </tr>\n",
       "    <tr>\n",
       "      <th>1</th>\n",
       "      <td>15SecondScare</td>\n",
       "      <td>Thriller</td>\n",
       "    </tr>\n",
       "    <tr>\n",
       "      <th>2</th>\n",
       "      <td>1MinuteNightmare</td>\n",
       "      <td>Horror</td>\n",
       "    </tr>\n",
       "    <tr>\n",
       "      <th>3</th>\n",
       "      <td>2G1S</td>\n",
       "      <td>Crime</td>\n",
       "    </tr>\n",
       "    <tr>\n",
       "      <th>4</th>\n",
       "      <td>2WheelzNHeelz</td>\n",
       "      <td>Reality-TV</td>\n",
       "    </tr>\n",
       "  </tbody>\n",
       "</table>\n",
       "</div>"
      ],
      "text/plain": [
       "              Title       Genre\n",
       "0          1 Single  Reality-TV\n",
       "1     15SecondScare    Thriller\n",
       "2  1MinuteNightmare      Horror\n",
       "3              2G1S       Crime\n",
       "4     2WheelzNHeelz  Reality-TV"
      ]
     },
     "metadata": {},
     "output_type": "display_data"
    },
    {
     "name": "stdout",
     "output_type": "stream",
     "text": [
      "Shape: (134050, 2) \n",
      "\n"
     ]
    },
    {
     "data": {
      "text/html": [
       "<div>\n",
       "<style>\n",
       "    .dataframe thead tr:only-child th {\n",
       "        text-align: right;\n",
       "    }\n",
       "\n",
       "    .dataframe thead th {\n",
       "        text-align: left;\n",
       "    }\n",
       "\n",
       "    .dataframe tbody tr th {\n",
       "        vertical-align: top;\n",
       "    }\n",
       "</style>\n",
       "<table border=\"1\" class=\"dataframe\">\n",
       "  <thead>\n",
       "    <tr style=\"text-align: right;\">\n",
       "      <th></th>\n",
       "      <th>Title</th>\n",
       "      <th>Plot</th>\n",
       "      <th>Genre</th>\n",
       "    </tr>\n",
       "  </thead>\n",
       "  <tbody>\n",
       "    <tr>\n",
       "      <th>0</th>\n",
       "      <td>Toy Story</td>\n",
       "      <td>A little boy named Andy loves to be in his roo...</td>\n",
       "      <td>Animation</td>\n",
       "    </tr>\n",
       "    <tr>\n",
       "      <th>1</th>\n",
       "      <td>Jumanji</td>\n",
       "      <td>After being trapped in a jungle board game for...</td>\n",
       "      <td>Action</td>\n",
       "    </tr>\n",
       "    <tr>\n",
       "      <th>2</th>\n",
       "      <td>Grumpier Old Men</td>\n",
       "      <td>Things don't seem to change much in Wabasha Co...</td>\n",
       "      <td>Comedy</td>\n",
       "    </tr>\n",
       "    <tr>\n",
       "      <th>3</th>\n",
       "      <td>Waiting to Exhale</td>\n",
       "      <td>This story based on the best selling novel by ...</td>\n",
       "      <td>Comedy</td>\n",
       "    </tr>\n",
       "    <tr>\n",
       "      <th>4</th>\n",
       "      <td>Father of the Bride Part II</td>\n",
       "      <td>In this sequel to \"Father of the Bride\", Georg...</td>\n",
       "      <td>Comedy</td>\n",
       "    </tr>\n",
       "  </tbody>\n",
       "</table>\n",
       "</div>"
      ],
      "text/plain": [
       "                         Title  \\\n",
       "0                    Toy Story   \n",
       "1                      Jumanji   \n",
       "2             Grumpier Old Men   \n",
       "3            Waiting to Exhale   \n",
       "4  Father of the Bride Part II   \n",
       "\n",
       "                                                Plot      Genre  \n",
       "0  A little boy named Andy loves to be in his roo...  Animation  \n",
       "1  After being trapped in a jungle board game for...     Action  \n",
       "2  Things don't seem to change much in Wabasha Co...     Comedy  \n",
       "3  This story based on the best selling novel by ...     Comedy  \n",
       "4  In this sequel to \"Father of the Bride\", Georg...     Comedy  "
      ]
     },
     "metadata": {},
     "output_type": "display_data"
    },
    {
     "name": "stdout",
     "output_type": "stream",
     "text": [
      "Shape: (4456, 3) \n",
      "\n"
     ]
    }
   ],
   "source": [
    "#Path of csv files.\n",
    "genreCsvFile = \"data/moviesGenre.csv\"\n",
    "plotCsvFile = \"data/moviesPlot.csv\"\n",
    "\n",
    "#Read the plot file into dataframes\n",
    "moviePlotsDF = pd.read_csv(plotCsvFile)\n",
    "moviePlotsDF.columns=[\"Title\",\"Plot\"]\n",
    "display(moviePlotsDF.head())\n",
    "print (\"Shape:\",moviePlotsDF.shape,\"\\n\")\n",
    "\n",
    "#Read the genre file into dataframes\n",
    "movieGenreDF = pd.read_csv(genreCsvFile)\n",
    "movieGenreDF.columns=[\"Title\",\"Genre\"]\n",
    "display (movieGenreDF.head())\n",
    "print (\"Shape:\",movieGenreDF.shape,\"\\n\")\n",
    "\n",
    "#Read another movies database\n",
    "movieDFAnother = pd.read_csv('data/trainingSet.csv')\n",
    "movieDFAnother = movieDFAnother[['Title', 'Plot','Genre1']]\n",
    "movieDFAnother.rename(columns={'Genre1':'Genre'},inplace=True)\n",
    "display(movieDFAnother.head())\n",
    "print (\"Shape:\",movieDFAnother.shape,\"\\n\")"
   ]
  },
  {
   "cell_type": "markdown",
   "metadata": {},
   "source": [
    "# Data Cleaning\n",
    "\n",
    "As a part of this step data in moviesDF dataframe is cleaned.\n",
    "\n",
    "There is a difference in the shape of moviePlotsDF and movieGenreDF data. It means movieGenreDF dataframe contains more movies Title and Genre but for many movies their respective plots are missing in moviePlotsDF. So while merging we will only take movies which has plot summary."
   ]
  },
  {
   "cell_type": "code",
   "execution_count": 223,
   "metadata": {},
   "outputs": [
    {
     "data": {
      "text/html": [
       "<div>\n",
       "<style>\n",
       "    .dataframe thead tr:only-child th {\n",
       "        text-align: right;\n",
       "    }\n",
       "\n",
       "    .dataframe thead th {\n",
       "        text-align: left;\n",
       "    }\n",
       "\n",
       "    .dataframe tbody tr th {\n",
       "        vertical-align: top;\n",
       "    }\n",
       "</style>\n",
       "<table border=\"1\" class=\"dataframe\">\n",
       "  <thead>\n",
       "    <tr style=\"text-align: right;\">\n",
       "      <th></th>\n",
       "      <th>Title</th>\n",
       "      <th>Plot</th>\n",
       "      <th>Genre</th>\n",
       "    </tr>\n",
       "  </thead>\n",
       "  <tbody>\n",
       "    <tr>\n",
       "      <th>0</th>\n",
       "      <td>BlackLove</td>\n",
       "      <td>Follows five dynamic black women in New York ...</td>\n",
       "      <td>Reality-TV</td>\n",
       "    </tr>\n",
       "    <tr>\n",
       "      <th>1</th>\n",
       "      <td>Cake</td>\n",
       "      <td>Cake, Amy and Benjamin discover they all have...</td>\n",
       "      <td>Family</td>\n",
       "    </tr>\n",
       "    <tr>\n",
       "      <th>2</th>\n",
       "      <td>CandidlyNicole</td>\n",
       "      <td>When you're married to a sports nut, sometime...</td>\n",
       "      <td>Reality-TV</td>\n",
       "    </tr>\n",
       "    <tr>\n",
       "      <th>3</th>\n",
       "      <td>DaddyLeaks</td>\n",
       "      <td>The life of four close friends in their late ...</td>\n",
       "      <td>Comedy</td>\n",
       "    </tr>\n",
       "    <tr>\n",
       "      <th>4</th>\n",
       "      <td>DearGeorgette</td>\n",
       "      <td>My conversations with my guy friends have led...</td>\n",
       "      <td>Romance</td>\n",
       "    </tr>\n",
       "  </tbody>\n",
       "</table>\n",
       "</div>"
      ],
      "text/plain": [
       "            Title                                               Plot  \\\n",
       "0       BlackLove   Follows five dynamic black women in New York ...   \n",
       "1            Cake   Cake, Amy and Benjamin discover they all have...   \n",
       "2  CandidlyNicole   When you're married to a sports nut, sometime...   \n",
       "3      DaddyLeaks   The life of four close friends in their late ...   \n",
       "4   DearGeorgette   My conversations with my guy friends have led...   \n",
       "\n",
       "        Genre  \n",
       "0  Reality-TV  \n",
       "1      Family  \n",
       "2  Reality-TV  \n",
       "3      Comedy  \n",
       "4     Romance  "
      ]
     },
     "metadata": {},
     "output_type": "display_data"
    },
    {
     "name": "stdout",
     "output_type": "stream",
     "text": [
      "Shape: (37994, 3)\n"
     ]
    }
   ],
   "source": [
    "#Merge three dataframes in one based on Title of the movies\n",
    "moviesDF = pd.merge(moviePlotsDF,movieGenreDF,on='Title')\n",
    "moviesDF = pd.concat([moviesDF,movieDFAnother], axis=0)\n",
    "display(moviesDF.head())\n",
    "print (\"Shape:\", moviesDF.shape)"
   ]
  },
  {
   "cell_type": "markdown",
   "metadata": {},
   "source": [
    "Checking for any null value in moviesDF so that it can be removed."
   ]
  },
  {
   "cell_type": "code",
   "execution_count": 230,
   "metadata": {},
   "outputs": [
    {
     "name": "stdout",
     "output_type": "stream",
     "text": [
      "Title    False\n",
      "Plot     False\n",
      "Genre    False\n",
      "dtype: bool \n",
      "\n"
     ]
    },
    {
     "data": {
      "text/plain": [
       "'Movies count based on Genre:'"
      ]
     },
     "metadata": {},
     "output_type": "display_data"
    },
    {
     "data": {
      "text/plain": [
       "Comedy         6603\n",
       "Drama          5354\n",
       "Documentary    3886\n",
       "Reality-TV     3552\n",
       "Romance        1814\n",
       "Sci-Fi         1737\n",
       "Family         1673\n",
       "Thriller       1501\n",
       "Talk-Show      1465\n",
       "Action         1010\n",
       "Animation       934\n",
       "Fantasy         876\n",
       "Crime           852\n",
       "Mystery         756\n",
       "Sport           684\n",
       "Music           672\n",
       "History         630\n",
       "Short           609\n",
       "Adventure       587\n",
       "Game-Show       545\n",
       "Horror          543\n",
       "News            496\n",
       "War             427\n",
       "Biography       331\n",
       "Western         223\n",
       "Musical         209\n",
       "Adult            23\n",
       "Reality-tv        1\n",
       "Sci-fi            1\n",
       "Name: Genre, dtype: int64"
      ]
     },
     "metadata": {},
     "output_type": "display_data"
    }
   ],
   "source": [
    "#Checking for the null data in moviesDF dataframe\n",
    "print (moviesDF.isnull().any(),\"\\n\")\n",
    "\n",
    "# Displaying total movies count based on Genres\n",
    "display('Movies count based on Genre:',moviesDF.Genre.value_counts())"
   ]
  },
  {
   "cell_type": "markdown",
   "metadata": {},
   "source": [
    "For this project I am only considering data which are movies, so the below genres which I think are not movies are removed from moviesDF dataframe:\n",
    "* Reality-TV\n",
    "* Reality-tv\n",
    "* Talk-Show\n",
    "* News"
   ]
  },
  {
   "cell_type": "code",
   "execution_count": 231,
   "metadata": {},
   "outputs": [
    {
     "name": "stdout",
     "output_type": "stream",
     "text": [
      "Shape: (31935, 3) \n",
      "\n",
      "           Title                                               Plot    Genre\n",
      "1           Cake   Cake, Amy and Benjamin discover they all have...   Family\n",
      "3     DaddyLeaks   The life of four close friends in their late ...   Comedy\n",
      "4  DearGeorgette   My conversations with my guy friends have led...  Romance\n",
      "5         Elmira   #Elmira follows the story of a bunch of stran...   Comedy\n",
      "6           Fuga   Months after an apocalyptic event, a group of...   Horror\n"
     ]
    }
   ],
   "source": [
    "#For this project, I am just considering prediction of movies based on movies plots. \n",
    "#Hence I will remove all the data which are not movies (Ex: Reality-TV, Talk-Show,News,Game-Show)\n",
    "\n",
    "#Removing genres which are not part of movies.\n",
    "moviesDF = moviesDF.loc[moviesDF.Genre != 'Reality-TV']\n",
    "moviesDF = moviesDF.loc[moviesDF.Genre != 'Reality-tv']\n",
    "moviesDF = moviesDF.loc[moviesDF.Genre != 'Talk-Show']\n",
    "moviesDF = moviesDF.loc[moviesDF.Genre != 'Game-Show']\n",
    "moviesDF = moviesDF.loc[(moviesDF.Genre != 'News')]\n",
    "\n",
    "#Renaming Sci-fi with Sci-Fi as both are same genre.\n",
    "moviesDF['Genre'] = moviesDF['Genre'].replace('Sci-fi','Sci-Fi')\n",
    "\n",
    "print (\"Shape:\", moviesDF.shape,\"\\n\")\n",
    "print (moviesDF.head())"
   ]
  },
  {
   "cell_type": "markdown",
   "metadata": {},
   "source": [
    "# Final Numbers For Movie Dataset\n",
    "\n",
    "Here are some numbers of my movie dataset:\n",
    "* Total Movies (rows)  : 31935\n",
    "* Features    (columns): 3\n",
    "* Total Genres         : 23"
   ]
  },
  {
   "cell_type": "code",
   "execution_count": 299,
   "metadata": {},
   "outputs": [
    {
     "data": {
      "image/png": "[encoded data removed]",
      "text/plain": [
       "<IPython.core.display.Image object>"
      ]
     },
     "execution_count": 299,
     "metadata": {},
     "output_type": "execute_result"
    }
   ],
   "source": [
    "Image(filename='images/movie_genre.png')"
   ]
  },
  {
   "cell_type": "code",
   "execution_count": 244,
   "metadata": {},
   "outputs": [
    {
     "data": {
      "image/png": "[encoded data removed]",
      "text/plain": [
       "<IPython.core.display.Image object>"
      ]
     },
     "execution_count": 244,
     "metadata": {},
     "output_type": "execute_result"
    }
   ],
   "source": [
    "Image(filename='images/movies_genre_histogram.png')"
   ]
  },
  {
   "cell_type": "code",
   "execution_count": 298,
   "metadata": {},
   "outputs": [],
   "source": [
    "#import plotly\n",
    "#plotly.offline.init_notebook_mode(connected=True)\n",
    "#import plotly.graph_objs as go\n",
    "\n",
    "#Create a pivot tables for medals\n",
    "#moviesGenrePivot = moviesDF.pivot_table(index=['Genre'],values='Title',aggfunc='count')\n",
    "\n",
    "#Prepare the data from bar chart.\n",
    "#moviesGenreG = [go.Bar(x=moviesGenrePivot.index,y=moviesGenrePivot['Title'],)]\n",
    "\n",
    "#Plot the graph.\n",
    "#plotly.offline.iplot(moviesGenreG, filename='bar-chart')"
   ]
  },
  {
   "cell_type": "markdown",
   "metadata": {},
   "source": [
    "# Data Split \n",
    "\n",
    "I have used 90-10 train-test split ratio for test and train sets respectively"
   ]
  },
  {
   "cell_type": "code",
   "execution_count": 279,
   "metadata": {},
   "outputs": [
    {
     "name": "stdout",
     "output_type": "stream",
     "text": [
      "X Training Shape  : (28741,)\n",
      "y Training Shape: (28741,) \n",
      "\n",
      "X_Testing Shape : (3194,)\n",
      "y Testing Shape : (3194,)\n"
     ]
    }
   ],
   "source": [
    "#Split the data\n",
    "X = moviesDF['Plot']\n",
    "y = moviesDF['Genre']\n",
    "X_train, X_test, y_train, y_test = train_test_split(X, y,test_size = 0.1)\n",
    "print(\"X Training Shape  :\", X_train.shape)\n",
    "print(\"y Training Shape:\", y_train.shape,\"\\n\")\n",
    "\n",
    "print(\"X_Testing Shape :\", X_test.shape)\n",
    "print(\"y Testing Shape :\", y_test.shape)"
   ]
  },
  {
   "cell_type": "markdown",
   "metadata": {},
   "source": [
    "# TF-IDF Vectorization\n",
    "\n",
    "This is an acronym than stands for “Term Frequency – Inverse Document” Frequency which are the components of the resulting scores assigned to each word. \n",
    "* Term Frequency: This is based on bag-of-words representations. This summarizes how often a given word appears within                   a document. In bag-of-words representations order of words does not matters.\n",
    "\n",
    "                  Bag-of-words representations consists of three steps:\n",
    "                   * Tokenization: Split each document into the words that appear in it (called tokens).\n",
    "                                   For example by spliting them on whitespaces and punctuations\n",
    "                   * Vocabulary building: Collect a vocabulary of all words that appears in any of the documents,\n",
    "                                          and number them\n",
    "                   * Encoding           : For each document, count how often each of the word in the vocabulary\n",
    "                                          appears in this dcouments.\n",
    "\n",
    "* Inverse Document Frequency: This downscales words that appear a lot across documents."
   ]
  },
  {
   "cell_type": "code",
   "execution_count": 280,
   "metadata": {},
   "outputs": [
    {
     "name": "stdout",
     "output_type": "stream",
     "text": [
      "  (0, 80762)\t0.221577564888\n",
      "  (0, 79326)\t0.234502389097\n",
      "  (0, 79230)\t0.274021181176\n",
      "  (0, 75239)\t0.0838291829618\n",
      "  (0, 67447)\t0.184538745391\n",
      "  (0, 61046)\t0.154288675589\n",
      "  (0, 56006)\t0.18389703204\n",
      "  (0, 54496)\t0.211081221676\n",
      "  (0, 53592)\t0.145145130907\n",
      "  (0, 51744)\t0.0744052350473\n",
      "  (0, 44103)\t0.171629387862\n",
      "  (0, 42527)\t0.178983340742\n",
      "  (0, 40729)\t0.207051238645\n",
      "  (0, 35711)\t0.201643025446\n",
      "  (0, 31000)\t0.241573286394\n",
      "  (0, 30987)\t0.215821596058\n",
      "  (0, 30577)\t0.228906365469\n",
      "  (0, 29538)\t0.234502389097\n",
      "  (0, 23028)\t0.162792072185\n",
      "  (0, 15693)\t0.260254079434\n",
      "  (0, 9242)\t0.157661908338\n",
      "  (0, 6749)\t0.236659595097\n",
      "  (0, 5261)\t0.274021181176\n",
      "  (0, 2538)\t0.145754211914\n",
      "  (0, 1777)\t0.148938172663\n"
     ]
    }
   ],
   "source": [
    "#The TfidfVectorizer will tokenize documents, learn the vocabulary and\n",
    "#inverse document frequency weightings,and allow to encode new documents. \n",
    "\n",
    "#stop_words='english' means all the stop words like (a, an, is, the) are \n",
    "#removed as they hold no meaning in this proces.\n",
    "vecModel = TfidfVectorizer(stop_words='english')\n",
    "                           \n",
    "#Combine fit and transform into a single step this is faster.\n",
    "X_train_dtm = vecModel.fit_transform(X_train)\n",
    "\n",
    "#Transform testing data (using fitted vocabulary) into a document-term matrix\n",
    "X_test_dtm = vecModel.transform(X_test)\n",
    "\n",
    "#The below commented command will display all the words that appear in the documents and number assigned to them.\n",
    "#print (vecModel.vocabulary_)\n",
    "\n",
    "#This command displays the assigned number to word along with Inverse Document Frequency\n",
    "print (X_test_dtm[0])"
   ]
  },
  {
   "cell_type": "markdown",
   "metadata": {},
   "source": [
    "Let decode above output:\n",
    "(0, 82480)\t0.412519622729\n",
    "\n",
    "(0, 82480)       ——> It represents the word \"wright\". It has been assigned the number 82480.\n",
    "                     You can search it with command \"print (vecModel.vocabulary_)\"\n",
    "\n",
    "0.412519622729   ——> It represents the downscale frequency of word \"wright\" based on how \n",
    "                     often it appears in the documents."
   ]
  },
  {
   "cell_type": "markdown",
   "metadata": {},
   "source": [
    "# Machine Learning Methods\n",
    "\n",
    "For this project, I experiment with 3 machine learning methods:\n",
    "* MultinomialNB -- The first method is to use Naive Bayes, a simple approach that was shown very effective for many text classification tasks. Naive Bayes makes two key assumptions. The first is the bag-of-words assumption, meaning that the order of words does not matter. We already have completed it with TF-IDF Vectorization. The second is the conditional independence assumption. For the document d = W1 W2...Wn and given the class c, the probabilites P(Wi|c) are independent.\n",
    "\n",
    "* The other two most common linear classification algorithms, I used to solve text classification problem are LogisticRegression and LinearSVC"
   ]
  },
  {
   "cell_type": "code",
   "execution_count": 281,
   "metadata": {},
   "outputs": [
    {
     "name": "stdout",
     "output_type": "stream",
     "text": [
      "CPU times: user 154 ms, sys: 28.9 ms, total: 183 ms\n",
      "Wall time: 181 ms\n"
     ]
    },
    {
     "data": {
      "text/plain": [
       "MultinomialNB(alpha=1.0, class_prior=None, fit_prior=True)"
      ]
     },
     "execution_count": 281,
     "metadata": {},
     "output_type": "execute_result"
    }
   ],
   "source": [
    "#Supervised Classifier: Naive Bayes (MultinomialNB)\n",
    "nb = MultinomialNB()\n",
    "%time nb.fit(X_train_dtm, y_train)"
   ]
  },
  {
   "cell_type": "code",
   "execution_count": 282,
   "metadata": {},
   "outputs": [
    {
     "name": "stdout",
     "output_type": "stream",
     "text": [
      "Accuracy Score: 0.324045084534\n",
      "             precision    recall  f1-score   support\n",
      "\n",
      "     Action       0.00      0.00      0.00       100\n",
      "      Adult       0.00      0.00      0.00         1\n",
      "  Adventure       0.00      0.00      0.00        60\n",
      "  Animation       0.00      0.00      0.00        94\n",
      "  Biography       0.00      0.00      0.00        38\n",
      "     Comedy       0.29      0.94      0.45       659\n",
      "      Crime       0.00      0.00      0.00       108\n",
      "Documentary       0.65      0.43      0.52       391\n",
      "      Drama       0.30      0.48      0.37       505\n",
      "     Family       0.00      0.00      0.00       164\n",
      "    Fantasy       0.00      0.00      0.00       101\n",
      "    History       0.00      0.00      0.00        53\n",
      "     Horror       0.00      0.00      0.00        46\n",
      "      Music       0.00      0.00      0.00        55\n",
      "    Musical       0.00      0.00      0.00        20\n",
      "    Mystery       0.00      0.00      0.00        75\n",
      "    Romance       0.00      0.00      0.00       193\n",
      "     Sci-Fi       1.00      0.01      0.01       174\n",
      "      Short       0.00      0.00      0.00        60\n",
      "      Sport       0.00      0.00      0.00        87\n",
      "   Thriller       0.00      0.00      0.00       149\n",
      "        War       0.00      0.00      0.00        41\n",
      "    Western       0.00      0.00      0.00        20\n",
      "\n",
      "avg / total       0.24      0.32      0.21      3194\n",
      " \n",
      "\n"
     ]
    },
    {
     "name": "stderr",
     "output_type": "stream",
     "text": [
      "/Users/v824975/anaconda3/lib/python3.6/site-packages/sklearn/metrics/classification.py:1135: UndefinedMetricWarning:\n",
      "\n",
      "Precision and F-score are ill-defined and being set to 0.0 in labels with no predicted samples.\n",
      "\n"
     ]
    }
   ],
   "source": [
    "#Make class predictions for X_test_dtm\n",
    "y_pred_class = nb.predict(X_test_dtm)\n",
    "print(\"Accuracy Score:\", accuracy_score(y_test, y_pred_class,\"\\n\"))\n",
    "print(classification_report(y_test, y_pred_class),\"\\n\")"
   ]
  },
  {
   "cell_type": "code",
   "execution_count": 283,
   "metadata": {},
   "outputs": [
    {
     "name": "stdout",
     "output_type": "stream",
     "text": [
      "CPU times: user 20.4 s, sys: 4.43 s, total: 24.9 s\n",
      "Wall time: 6.39 s\n"
     ]
    },
    {
     "data": {
      "text/plain": [
       "LogisticRegression(C=1.0, class_weight=None, dual=False, fit_intercept=True,\n",
       "          intercept_scaling=1, max_iter=100, multi_class='ovr', n_jobs=1,\n",
       "          penalty='l2', random_state=None, solver='liblinear', tol=0.0001,\n",
       "          verbose=0, warm_start=False)"
      ]
     },
     "execution_count": 283,
     "metadata": {},
     "output_type": "execute_result"
    }
   ],
   "source": [
    "#Supervised Classifier: LogisticRegression\n",
    "logreg = LogisticRegression()\n",
    "\n",
    "#Train the model using X_train_dtm\n",
    "%time logreg.fit(X_train_dtm, y_train)"
   ]
  },
  {
   "cell_type": "code",
   "execution_count": 284,
   "metadata": {},
   "outputs": [
    {
     "name": "stdout",
     "output_type": "stream",
     "text": [
      "Accuracy Score: 0.40106449593\n",
      "             precision    recall  f1-score   support\n",
      "\n",
      "     Action       0.55      0.12      0.20       100\n",
      "      Adult       0.00      0.00      0.00         1\n",
      "  Adventure       0.00      0.00      0.00        60\n",
      "  Animation       0.36      0.04      0.08        94\n",
      "  Biography       0.00      0.00      0.00        38\n",
      "     Comedy       0.40      0.75      0.52       659\n",
      "      Crime       0.10      0.01      0.02       108\n",
      "Documentary       0.51      0.69      0.59       391\n",
      "      Drama       0.31      0.58      0.41       505\n",
      "     Family       0.44      0.20      0.27       164\n",
      "    Fantasy       0.52      0.11      0.18       101\n",
      "    History       0.25      0.02      0.04        53\n",
      "     Horror       0.40      0.04      0.08        46\n",
      "      Music       0.45      0.24      0.31        55\n",
      "    Musical       0.00      0.00      0.00        20\n",
      "    Mystery       0.20      0.01      0.03        75\n",
      "    Romance       0.57      0.19      0.29       193\n",
      "     Sci-Fi       0.43      0.38      0.40       174\n",
      "      Short       0.00      0.00      0.00        60\n",
      "      Sport       0.81      0.33      0.47        87\n",
      "   Thriller       0.20      0.06      0.09       149\n",
      "        War       0.33      0.07      0.12        41\n",
      "    Western       0.00      0.00      0.00        20\n",
      "\n",
      "avg / total       0.38      0.40      0.34      3194\n",
      "\n"
     ]
    },
    {
     "name": "stderr",
     "output_type": "stream",
     "text": [
      "/Users/v824975/anaconda3/lib/python3.6/site-packages/sklearn/metrics/classification.py:1135: UndefinedMetricWarning:\n",
      "\n",
      "Precision and F-score are ill-defined and being set to 0.0 in labels with no predicted samples.\n",
      "\n"
     ]
    }
   ],
   "source": [
    "#Make class predictions for X_test_dtm\n",
    "y_pred_class = logreg.predict(X_test_dtm)\n",
    "\n",
    "#Calculate accuracy\n",
    "print (\"Accuracy Score:\",accuracy_score(y_test, y_pred_class,\"\\n\"))\n",
    "print(classification_report(y_test, y_pred_class))"
   ]
  },
  {
   "cell_type": "code",
   "execution_count": 285,
   "metadata": {},
   "outputs": [
    {
     "name": "stdout",
     "output_type": "stream",
     "text": [
      "CPU times: user 2.65 s, sys: 16.2 ms, total: 2.66 s\n",
      "Wall time: 2.66 s\n"
     ]
    },
    {
     "data": {
      "text/plain": [
       "LinearSVC(C=1.0, class_weight=None, dual=True, fit_intercept=True,\n",
       "     intercept_scaling=1, loss='squared_hinge', max_iter=1000,\n",
       "     multi_class='ovr', penalty='l2', random_state=None, tol=0.0001,\n",
       "     verbose=0)"
      ]
     },
     "execution_count": 285,
     "metadata": {},
     "output_type": "execute_result"
    }
   ],
   "source": [
    "#Supervised Classifier: LogisticRegression\n",
    "svcCls = LinearSVC()\n",
    "\n",
    "#Train the model using X_train_dtm\n",
    "%time svcCls.fit(X_train_dtm, y_train)"
   ]
  },
  {
   "cell_type": "code",
   "execution_count": 287,
   "metadata": {
    "scrolled": true
   },
   "outputs": [
    {
     "name": "stdout",
     "output_type": "stream",
     "text": [
      "Accuracy Score: 0.394489668128\n",
      "             precision    recall  f1-score   support\n",
      "\n",
      "     Action       0.37      0.28      0.32       100\n",
      "      Adult       0.00      0.00      0.00         1\n",
      "  Adventure       0.21      0.07      0.10        60\n",
      "  Animation       0.25      0.15      0.19        94\n",
      "  Biography       0.50      0.03      0.05        38\n",
      "     Comedy       0.45      0.60      0.51       659\n",
      "      Crime       0.18      0.08      0.11       108\n",
      "Documentary       0.52      0.64      0.57       391\n",
      "      Drama       0.34      0.47      0.40       505\n",
      "     Family       0.32      0.28      0.30       164\n",
      "    Fantasy       0.28      0.18      0.22       101\n",
      "    History       0.33      0.15      0.21        53\n",
      "     Horror       0.24      0.22      0.23        46\n",
      "      Music       0.46      0.40      0.43        55\n",
      "    Musical       0.00      0.00      0.00        20\n",
      "    Mystery       0.18      0.09      0.12        75\n",
      "    Romance       0.38      0.30      0.34       193\n",
      "     Sci-Fi       0.40      0.38      0.39       174\n",
      "      Short       0.25      0.05      0.08        60\n",
      "      Sport       0.60      0.55      0.57        87\n",
      "   Thriller       0.18      0.15      0.17       149\n",
      "        War       0.33      0.20      0.25        41\n",
      "    Western       0.30      0.15      0.20        20\n",
      "\n",
      "avg / total       0.37      0.39      0.37      3194\n",
      "\n"
     ]
    }
   ],
   "source": [
    "#Make class predictions for X_test_dtm\n",
    "y_pred_class = svcCls.predict(X_test_dtm)\n",
    "\n",
    "#Calculate accuracy\n",
    "print (\"Accuracy Score:\",accuracy_score(y_test, y_pred_class,\"\\n\"))\n",
    "print(classification_report(y_test, y_pred_class))"
   ]
  },
  {
   "cell_type": "markdown",
   "metadata": {},
   "source": [
    "# Pipeline And GridSearchCV\n",
    "\n",
    "Instead of simply spliting the data, I now use StratifiedShuffleSplit class which return randomized folds, preserving the percentage of samples for each class.\n",
    "\n",
    "In order to experiment with different features for the text representation and tuning the different parameters of the classifiers I used sklearn Pipeline and GridSearchCV. I also use another class, to help transform binary classifiers into multi-label/multi-output classifiers, concretely OneVsRestClassifier, this class wraps ups the process of training a classifier for each possible class.\n",
    "\n",
    "I again considered the following supervise algorithms:\n",
    "* SVM - LinearSVC\n",
    "* Naive Bayes - MultinominalNB\n",
    "* Linear -  Logistic Regression"
   ]
  },
  {
   "cell_type": "code",
   "execution_count": 293,
   "metadata": {},
   "outputs": [],
   "source": [
    "#Printing the cross value score\n",
    "data_x = moviesDF['Plot'].as_matrix()\n",
    "data_y = moviesDF['Genre'].as_matrix()\n",
    "\n",
    "stratified_split = StratifiedShuffleSplit(n_splits=2, test_size=0.33)\n",
    "for train_index, test_index in stratified_split.split(data_x, data_y):\n",
    "    x_train, x_test = data_x[train_index], data_x[test_index]\n",
    "    y_train, y_test = data_y[train_index], data_y[test_index]\n",
    "\n",
    "# Transform matrix of plots into lists to pass to a TfidfVectorizer\n",
    "train_x = [x.strip() for x in x_train.tolist()]\n",
    "test_x = [x.strip() for x in x_test.tolist()]"
   ]
  },
  {
   "cell_type": "code",
   "execution_count": 294,
   "metadata": {
    "collapsed": true
   },
   "outputs": [],
   "source": [
    "def gridSearch(pipeline,parameters,train_x, train_y, test_x, test_y):\n",
    "    \"\"\"To fine tune the parameters to via grid search to get better prediction model\n",
    "       @pipeline: (Ti-IDF vectorization, classifier)\n",
    "       @parameters: To fine tune the Ti-IDF vectorization and classifiers\n",
    "       @train_x: Data to train\n",
    "       @train_y: Label data to test the training data\n",
    "       @test_x: Test data used for prediction\n",
    "       @test_y: Test label data used to compare the result of prediction\"\"\"\n",
    "     \n",
    "    grid_search_tune = GridSearchCV(pipeline, parameters, cv=2, n_jobs=3, verbose=10)\n",
    "    grid_search_tune.fit(train_x, train_y)\n",
    "    \n",
    "    #Measuring performance on test set\n",
    "    print(\"Best parameters set:\")\n",
    "    print (grid_search_tune.best_estimator_.steps)\n",
    "    \n",
    "    print (\"\\nApplying best classifier on test data:\")\n",
    "    best_clf = grid_search_tune.best_estimator_\n",
    "    predictions = best_clf.predict(test_x)\n",
    "\n",
    "    print (\"\\nAccuracy Score:\", accuracy_score(y_test, predictions),\"\\n\")\n",
    "    print (classification_report(test_y, predictions))"
   ]
  },
  {
   "cell_type": "code",
   "execution_count": 295,
   "metadata": {},
   "outputs": [
    {
     "name": "stdout",
     "output_type": "stream",
     "text": [
      "Fitting 2 folds for each of 18 candidates, totalling 36 fits\n",
      "[CV] clf__estimator__alpha=0.01, tfidf__max_df=0.25, tfidf__ngram_range=(1, 1) \n",
      "[CV] clf__estimator__alpha=0.01, tfidf__max_df=0.25, tfidf__ngram_range=(1, 1) \n",
      "[CV] clf__estimator__alpha=0.01, tfidf__max_df=0.25, tfidf__ngram_range=(1, 2) \n",
      "[CV]  clf__estimator__alpha=0.01, tfidf__max_df=0.25, tfidf__ngram_range=(1, 1), score=0.3694291320190601, total=   1.7s\n",
      "[CV] clf__estimator__alpha=0.01, tfidf__max_df=0.25, tfidf__ngram_range=(1, 2) \n",
      "[CV]  clf__estimator__alpha=0.01, tfidf__max_df=0.25, tfidf__ngram_range=(1, 1), score=0.369494061535584, total=   1.7s\n",
      "[CV] clf__estimator__alpha=0.01, tfidf__max_df=0.25, tfidf__ngram_range=(1, 3) \n"
     ]
    },
    {
     "name": "stderr",
     "output_type": "stream",
     "text": [
      "[Parallel(n_jobs=3)]: Done   2 tasks      | elapsed:    2.7s\n"
     ]
    },
    {
     "name": "stdout",
     "output_type": "stream",
     "text": [
      "[CV]  clf__estimator__alpha=0.01, tfidf__max_df=0.25, tfidf__ngram_range=(1, 2), score=0.37045688124824816, total=   5.2s\n",
      "[CV] clf__estimator__alpha=0.01, tfidf__max_df=0.25, tfidf__ngram_range=(1, 3) \n",
      "[CV]  clf__estimator__alpha=0.01, tfidf__max_df=0.25, tfidf__ngram_range=(1, 2), score=0.369868138034228, total=   5.1s\n",
      "[CV] clf__estimator__alpha=0.01, tfidf__max_df=0.5, tfidf__ngram_range=(1, 1) \n",
      "[CV]  clf__estimator__alpha=0.01, tfidf__max_df=0.5, tfidf__ngram_range=(1, 1), score=0.3694291320190601, total=   1.7s\n",
      "[CV] clf__estimator__alpha=0.01, tfidf__max_df=0.5, tfidf__ngram_range=(1, 1) \n",
      "[CV]  clf__estimator__alpha=0.01, tfidf__max_df=0.25, tfidf__ngram_range=(1, 3), score=0.36363636363636365, total=   8.7s\n",
      "[CV] clf__estimator__alpha=0.01, tfidf__max_df=0.5, tfidf__ngram_range=(1, 2) \n",
      "[CV]  clf__estimator__alpha=0.01, tfidf__max_df=0.5, tfidf__ngram_range=(1, 1), score=0.369494061535584, total=   1.8s\n",
      "[CV] clf__estimator__alpha=0.01, tfidf__max_df=0.5, tfidf__ngram_range=(1, 2) \n"
     ]
    },
    {
     "name": "stderr",
     "output_type": "stream",
     "text": [
      "[Parallel(n_jobs=3)]: Done   7 tasks      | elapsed:   14.7s\n"
     ]
    },
    {
     "name": "stdout",
     "output_type": "stream",
     "text": [
      "[CV]  clf__estimator__alpha=0.01, tfidf__max_df=0.25, tfidf__ngram_range=(1, 3), score=0.36089030206677264, total=   8.9s\n",
      "[CV] clf__estimator__alpha=0.01, tfidf__max_df=0.5, tfidf__ngram_range=(1, 3) \n",
      "[CV]  clf__estimator__alpha=0.01, tfidf__max_df=0.5, tfidf__ngram_range=(1, 2), score=0.37045688124824816, total=   5.7s\n",
      "[CV] clf__estimator__alpha=0.01, tfidf__max_df=0.5, tfidf__ngram_range=(1, 3) \n",
      "[CV]  clf__estimator__alpha=0.01, tfidf__max_df=0.5, tfidf__ngram_range=(1, 2), score=0.369868138034228, total=   5.7s\n",
      "[CV] clf__estimator__alpha=0.01, tfidf__max_df=0.75, tfidf__ngram_range=(1, 1) \n",
      "[CV]  clf__estimator__alpha=0.01, tfidf__max_df=0.75, tfidf__ngram_range=(1, 1), score=0.3694291320190601, total=   1.8s\n",
      "[CV] clf__estimator__alpha=0.01, tfidf__max_df=0.75, tfidf__ngram_range=(1, 1) \n",
      "[CV]  clf__estimator__alpha=0.01, tfidf__max_df=0.75, tfidf__ngram_range=(1, 1), score=0.369494061535584, total=   2.0s\n",
      "[CV] clf__estimator__alpha=0.01, tfidf__max_df=0.75, tfidf__ngram_range=(1, 2) \n"
     ]
    },
    {
     "name": "stderr",
     "output_type": "stream",
     "text": [
      "[Parallel(n_jobs=3)]: Done  12 tasks      | elapsed:   28.0s\n"
     ]
    },
    {
     "name": "stdout",
     "output_type": "stream",
     "text": [
      "[CV]  clf__estimator__alpha=0.01, tfidf__max_df=0.5, tfidf__ngram_range=(1, 3), score=0.36363636363636365, total=   9.6s\n",
      "[CV] clf__estimator__alpha=0.01, tfidf__max_df=0.75, tfidf__ngram_range=(1, 2) \n",
      "[CV]  clf__estimator__alpha=0.01, tfidf__max_df=0.5, tfidf__ngram_range=(1, 3), score=0.36089030206677264, total=  10.5s\n",
      "[CV] clf__estimator__alpha=0.01, tfidf__max_df=0.75, tfidf__ngram_range=(1, 3) \n",
      "[CV]  clf__estimator__alpha=0.01, tfidf__max_df=0.75, tfidf__ngram_range=(1, 2), score=0.37045688124824816, total=   6.7s\n",
      "[CV] clf__estimator__alpha=0.01, tfidf__max_df=0.75, tfidf__ngram_range=(1, 3) \n",
      "[CV]  clf__estimator__alpha=0.01, tfidf__max_df=0.75, tfidf__ngram_range=(1, 2), score=0.369868138034228, total=   6.1s\n",
      "[CV] clf__estimator__alpha=0.001, tfidf__max_df=0.25, tfidf__ngram_range=(1, 1) \n",
      "[CV]  clf__estimator__alpha=0.001, tfidf__max_df=0.25, tfidf__ngram_range=(1, 1), score=0.3485938521909745, total=   1.9s\n",
      "[CV] clf__estimator__alpha=0.001, tfidf__max_df=0.25, tfidf__ngram_range=(1, 1) \n",
      "[CV]  clf__estimator__alpha=0.001, tfidf__max_df=0.25, tfidf__ngram_range=(1, 1), score=0.3511643131020294, total=   1.9s\n",
      "[CV] clf__estimator__alpha=0.001, tfidf__max_df=0.25, tfidf__ngram_range=(1, 2) \n",
      "[CV]  clf__estimator__alpha=0.01, tfidf__max_df=0.75, tfidf__ngram_range=(1, 3), score=0.36363636363636365, total=   9.7s\n"
     ]
    },
    {
     "name": "stderr",
     "output_type": "stream",
     "text": [
      "[Parallel(n_jobs=3)]: Done  19 tasks      | elapsed:   48.1s\n"
     ]
    },
    {
     "name": "stdout",
     "output_type": "stream",
     "text": [
      "[CV] clf__estimator__alpha=0.001, tfidf__max_df=0.25, tfidf__ngram_range=(1, 2) \n",
      "[CV]  clf__estimator__alpha=0.01, tfidf__max_df=0.75, tfidf__ngram_range=(1, 3), score=0.36089030206677264, total=   9.9s\n",
      "[CV] clf__estimator__alpha=0.001, tfidf__max_df=0.25, tfidf__ngram_range=(1, 3) \n",
      "[CV]  clf__estimator__alpha=0.001, tfidf__max_df=0.25, tfidf__ngram_range=(1, 2), score=0.36363636363636365, total=   5.6s\n",
      "[CV] clf__estimator__alpha=0.001, tfidf__max_df=0.25, tfidf__ngram_range=(1, 3) \n",
      "[CV]  clf__estimator__alpha=0.001, tfidf__max_df=0.25, tfidf__ngram_range=(1, 2), score=0.3670625642943982, total=   5.9s\n",
      "[CV] clf__estimator__alpha=0.001, tfidf__max_df=0.5, tfidf__ngram_range=(1, 1) \n",
      "[CV]  clf__estimator__alpha=0.001, tfidf__max_df=0.5, tfidf__ngram_range=(1, 1), score=0.3485938521909745, total=   2.0s\n",
      "[CV] clf__estimator__alpha=0.001, tfidf__max_df=0.5, tfidf__ngram_range=(1, 1) \n",
      "[CV]  clf__estimator__alpha=0.001, tfidf__max_df=0.5, tfidf__ngram_range=(1, 1), score=0.3511643131020294, total=   1.9s\n",
      "[CV] clf__estimator__alpha=0.001, tfidf__max_df=0.5, tfidf__ngram_range=(1, 2) \n",
      "[CV]  clf__estimator__alpha=0.001, tfidf__max_df=0.25, tfidf__ngram_range=(1, 3), score=0.36120713818555544, total=  10.1s\n",
      "[CV] clf__estimator__alpha=0.001, tfidf__max_df=0.5, tfidf__ngram_range=(1, 2) \n",
      "[CV]  clf__estimator__alpha=0.001, tfidf__max_df=0.25, tfidf__ngram_range=(1, 3), score=0.36294772280931453, total=  10.0s\n"
     ]
    },
    {
     "name": "stderr",
     "output_type": "stream",
     "text": [
      "[Parallel(n_jobs=3)]: Done  26 tasks      | elapsed:  1.1min\n"
     ]
    },
    {
     "name": "stdout",
     "output_type": "stream",
     "text": [
      "[CV] clf__estimator__alpha=0.001, tfidf__max_df=0.5, tfidf__ngram_range=(1, 3) \n",
      "[CV]  clf__estimator__alpha=0.001, tfidf__max_df=0.5, tfidf__ngram_range=(1, 2), score=0.36363636363636365, total=   6.0s\n",
      "[CV] clf__estimator__alpha=0.001, tfidf__max_df=0.5, tfidf__ngram_range=(1, 3) \n",
      "[CV]  clf__estimator__alpha=0.001, tfidf__max_df=0.5, tfidf__ngram_range=(1, 2), score=0.3670625642943982, total=   6.0s\n",
      "[CV] clf__estimator__alpha=0.001, tfidf__max_df=0.75, tfidf__ngram_range=(1, 1) \n",
      "[CV]  clf__estimator__alpha=0.001, tfidf__max_df=0.75, tfidf__ngram_range=(1, 1), score=0.3485938521909745, total=   1.9s\n",
      "[CV] clf__estimator__alpha=0.001, tfidf__max_df=0.75, tfidf__ngram_range=(1, 1) \n",
      "[CV]  clf__estimator__alpha=0.001, tfidf__max_df=0.75, tfidf__ngram_range=(1, 1), score=0.3511643131020294, total=   2.6s\n",
      "[CV] clf__estimator__alpha=0.001, tfidf__max_df=0.75, tfidf__ngram_range=(1, 2) \n",
      "[CV]  clf__estimator__alpha=0.001, tfidf__max_df=0.5, tfidf__ngram_range=(1, 3), score=0.36120713818555544, total=  10.5s\n",
      "[CV] clf__estimator__alpha=0.001, tfidf__max_df=0.75, tfidf__ngram_range=(1, 2) \n",
      "[CV]  clf__estimator__alpha=0.001, tfidf__max_df=0.5, tfidf__ngram_range=(1, 3), score=0.36294772280931453, total=  10.6s\n",
      "[CV] clf__estimator__alpha=0.001, tfidf__max_df=0.75, tfidf__ngram_range=(1, 3) \n",
      "[CV]  clf__estimator__alpha=0.001, tfidf__max_df=0.75, tfidf__ngram_range=(1, 2), score=0.36363636363636365, total=   6.2s\n",
      "[CV] clf__estimator__alpha=0.001, tfidf__max_df=0.75, tfidf__ngram_range=(1, 3) \n",
      "[CV]  clf__estimator__alpha=0.001, tfidf__max_df=0.75, tfidf__ngram_range=(1, 2), score=0.3670625642943982, total=   5.8s\n",
      "[CV]  clf__estimator__alpha=0.001, tfidf__max_df=0.75, tfidf__ngram_range=(1, 3), score=0.36120713818555544, total=   9.5s\n",
      "[CV]  clf__estimator__alpha=0.001, tfidf__max_df=0.75, tfidf__ngram_range=(1, 3), score=0.36294772280931453, total=   9.5s\n"
     ]
    },
    {
     "name": "stderr",
     "output_type": "stream",
     "text": [
      "[Parallel(n_jobs=3)]: Done  36 out of  36 | elapsed:  1.6min finished\n"
     ]
    },
    {
     "name": "stdout",
     "output_type": "stream",
     "text": [
      "Best parameters set:\n",
      "[('tfidf', TfidfVectorizer(analyzer='word', binary=False, decode_error='strict',\n",
      "        dtype=<class 'numpy.int64'>, encoding='utf-8', input='content',\n",
      "        lowercase=True, max_df=0.25, max_features=None, min_df=1,\n",
      "        ngram_range=(1, 2), norm='l2', preprocessor=None, smooth_idf=True,\n",
      "        stop_words='english', strip_accents=None, sublinear_tf=False,\n",
      "        token_pattern='(?u)\\\\b\\\\w\\\\w+\\\\b', tokenizer=None, use_idf=True,\n",
      "        vocabulary=None)), ('clf', OneVsRestClassifier(estimator=MultinomialNB(alpha=0.01, class_prior=None, fit_prior=True),\n",
      "          n_jobs=1))]\n",
      "\n",
      "Applying best classifier on test data:\n",
      "\n",
      "Accuracy Score: 0.378498908815 \n",
      "\n",
      "             precision    recall  f1-score   support\n",
      "\n",
      "     Action       0.48      0.09      0.15       333\n",
      "      Adult       0.00      0.00      0.00         8\n",
      "  Adventure       0.43      0.02      0.03       194\n",
      "  Animation       0.23      0.02      0.04       308\n",
      "  Biography       0.00      0.00      0.00       109\n",
      "     Comedy       0.38      0.71      0.49      2179\n",
      "      Crime       0.33      0.02      0.05       281\n",
      "Documentary       0.47      0.70      0.56      1282\n",
      "      Drama       0.29      0.53      0.38      1767\n",
      "     Family       0.40      0.11      0.17       552\n",
      "    Fantasy       0.39      0.05      0.09       289\n",
      "    History       0.60      0.03      0.06       208\n",
      "     Horror       0.71      0.03      0.05       179\n",
      "      Music       0.75      0.24      0.37       222\n",
      "    Musical       0.00      0.00      0.00        69\n",
      "    Mystery       0.38      0.01      0.02       249\n",
      "    Romance       0.43      0.20      0.27       599\n",
      "     Sci-Fi       0.48      0.38      0.43       574\n",
      "      Short       0.67      0.01      0.02       201\n",
      "      Sport       0.81      0.23      0.35       226\n",
      "   Thriller       0.23      0.05      0.09       495\n",
      "        War       0.44      0.03      0.05       141\n",
      "    Western       0.00      0.00      0.00        74\n",
      "\n",
      "avg / total       0.40      0.38      0.31     10539\n",
      "\n"
     ]
    },
    {
     "name": "stderr",
     "output_type": "stream",
     "text": [
      "/Users/v824975/anaconda3/lib/python3.6/site-packages/sklearn/metrics/classification.py:1135: UndefinedMetricWarning:\n",
      "\n",
      "Precision and F-score are ill-defined and being set to 0.0 in labels with no predicted samples.\n",
      "\n"
     ]
    }
   ],
   "source": [
    "#MultinomialNB: Multi-Class OneVsRestClassifier\n",
    "pipeline = Pipeline([('tfidf', TfidfVectorizer(stop_words='english')),\n",
    "                         ('clf', OneVsRestClassifier(MultinomialNB(fit_prior=True, class_prior=None)))])\n",
    "\n",
    "parameters = {'tfidf__max_df': (0.25, 0.5, 0.75),\n",
    "              'tfidf__ngram_range': [(1, 1), (1, 2), (1, 3)],\n",
    "              'clf__estimator__alpha': (1e-2, 1e-3)\n",
    "             }\n",
    "\n",
    "gridSearch(pipeline,parameters,train_x,y_train, x_test, y_test)"
   ]
  },
  {
   "cell_type": "code",
   "execution_count": 297,
   "metadata": {},
   "outputs": [
    {
     "name": "stdout",
     "output_type": "stream",
     "text": [
      "Fitting 2 folds for each of 54 candidates, totalling 108 fits\n",
      "[CV] clf__estimator__C=0.01, clf__estimator__class_weight=balanced, tfidf__max_df=0.25, tfidf__ngram_range=(1, 1) \n",
      "[CV] clf__estimator__C=0.01, clf__estimator__class_weight=balanced, tfidf__max_df=0.25, tfidf__ngram_range=(1, 1) \n",
      "[CV] clf__estimator__C=0.01, clf__estimator__class_weight=balanced, tfidf__max_df=0.25, tfidf__ngram_range=(1, 2) \n"
     ]
    },
    {
     "name": "stderr",
     "output_type": "stream",
     "text": [
      "/Users/v824975/anaconda3/lib/python3.6/site-packages/sklearn/linear_model/sag.py:326: ConvergenceWarning:\n",
      "\n",
      "The max_iter was reached which means the coef_ did not converge\n",
      "\n",
      "/Users/v824975/anaconda3/lib/python3.6/site-packages/sklearn/linear_model/sag.py:326: ConvergenceWarning:\n",
      "\n",
      "The max_iter was reached which means the coef_ did not converge\n",
      "\n"
     ]
    },
    {
     "name": "stdout",
     "output_type": "stream",
     "text": [
      "[CV]  clf__estimator__C=0.01, clf__estimator__class_weight=balanced, tfidf__max_df=0.25, tfidf__ngram_range=(1, 1), score=0.0006546338726269522, total=  57.0s\n",
      "[CV] clf__estimator__C=0.01, clf__estimator__class_weight=balanced, tfidf__max_df=0.25, tfidf__ngram_range=(1, 2) \n",
      "[CV]  clf__estimator__C=0.01, clf__estimator__class_weight=balanced, tfidf__max_df=0.25, tfidf__ngram_range=(1, 1), score=0.0014014762216201064, total=  57.2s\n",
      "[CV] clf__estimator__C=0.01, clf__estimator__class_weight=balanced, tfidf__max_df=0.25, tfidf__ngram_range=(1, 3) \n"
     ]
    },
    {
     "name": "stderr",
     "output_type": "stream",
     "text": [
      "[Parallel(n_jobs=3)]: Done   2 tasks      | elapsed:   58.1s\n",
      "/Users/v824975/anaconda3/lib/python3.6/site-packages/sklearn/linear_model/sag.py:326: ConvergenceWarning:\n",
      "\n",
      "The max_iter was reached which means the coef_ did not converge\n",
      "\n"
     ]
    },
    {
     "name": "stdout",
     "output_type": "stream",
     "text": [
      "[CV]  clf__estimator__C=0.01, clf__estimator__class_weight=balanced, tfidf__max_df=0.25, tfidf__ngram_range=(1, 2), score=0.38708773241147343, total= 4.5min\n",
      "[CV] clf__estimator__C=0.01, clf__estimator__class_weight=balanced, tfidf__max_df=0.25, tfidf__ngram_range=(1, 3) \n"
     ]
    },
    {
     "name": "stderr",
     "output_type": "stream",
     "text": [
      "/Users/v824975/anaconda3/lib/python3.6/site-packages/sklearn/linear_model/sag.py:326: ConvergenceWarning:\n",
      "\n",
      "The max_iter was reached which means the coef_ did not converge\n",
      "\n"
     ]
    },
    {
     "name": "stdout",
     "output_type": "stream",
     "text": [
      "[CV]  clf__estimator__C=0.01, clf__estimator__class_weight=balanced, tfidf__max_df=0.25, tfidf__ngram_range=(1, 2), score=0.3931544000748153, total= 4.5min\n",
      "[CV] clf__estimator__C=0.01, clf__estimator__class_weight=balanced, tfidf__max_df=0.5, tfidf__ngram_range=(1, 1) \n"
     ]
    },
    {
     "name": "stderr",
     "output_type": "stream",
     "text": [
      "/Users/v824975/anaconda3/lib/python3.6/site-packages/sklearn/linear_model/sag.py:326: ConvergenceWarning:\n",
      "\n",
      "The max_iter was reached which means the coef_ did not converge\n",
      "\n"
     ]
    },
    {
     "name": "stdout",
     "output_type": "stream",
     "text": [
      "[CV]  clf__estimator__C=0.01, clf__estimator__class_weight=balanced, tfidf__max_df=0.5, tfidf__ngram_range=(1, 1), score=0.38110810053256094, total=  59.7s\n",
      "[CV] clf__estimator__C=0.01, clf__estimator__class_weight=balanced, tfidf__max_df=0.5, tfidf__ngram_range=(1, 1) \n"
     ]
    },
    {
     "name": "stderr",
     "output_type": "stream",
     "text": [
      "/Users/v824975/anaconda3/lib/python3.6/site-packages/sklearn/linear_model/sag.py:326: ConvergenceWarning:\n",
      "\n",
      "The max_iter was reached which means the coef_ did not converge\n",
      "\n"
     ]
    },
    {
     "name": "stdout",
     "output_type": "stream",
     "text": [
      "[CV]  clf__estimator__C=0.01, clf__estimator__class_weight=balanced, tfidf__max_df=0.5, tfidf__ngram_range=(1, 1), score=0.0006546338726269522, total= 1.1min\n",
      "[CV] clf__estimator__C=0.01, clf__estimator__class_weight=balanced, tfidf__max_df=0.5, tfidf__ngram_range=(1, 2) \n"
     ]
    },
    {
     "name": "stderr",
     "output_type": "stream",
     "text": [
      "/Users/v824975/anaconda3/lib/python3.6/site-packages/sklearn/linear_model/sag.py:326: ConvergenceWarning:\n",
      "\n",
      "The max_iter was reached which means the coef_ did not converge\n",
      "\n"
     ]
    },
    {
     "name": "stdout",
     "output_type": "stream",
     "text": [
      "[CV]  clf__estimator__C=0.01, clf__estimator__class_weight=balanced, tfidf__max_df=0.25, tfidf__ngram_range=(1, 3), score=0.38605998318228535, total= 8.2min\n",
      "[CV] clf__estimator__C=0.01, clf__estimator__class_weight=balanced, tfidf__max_df=0.5, tfidf__ngram_range=(1, 2) \n"
     ]
    },
    {
     "name": "stderr",
     "output_type": "stream",
     "text": [
      "[Parallel(n_jobs=3)]: Done   7 tasks      | elapsed:  9.2min\n",
      "/Users/v824975/anaconda3/lib/python3.6/site-packages/sklearn/linear_model/sag.py:326: ConvergenceWarning:\n",
      "\n",
      "The max_iter was reached which means the coef_ did not converge\n",
      "\n",
      "/Users/v824975/anaconda3/lib/python3.6/site-packages/sklearn/linear_model/sag.py:326: ConvergenceWarning:\n",
      "\n",
      "The max_iter was reached which means the coef_ did not converge\n",
      "\n"
     ]
    },
    {
     "name": "stdout",
     "output_type": "stream",
     "text": [
      "[CV]  clf__estimator__C=0.01, clf__estimator__class_weight=balanced, tfidf__max_df=0.5, tfidf__ngram_range=(1, 2), score=0.3872745959076894, total= 4.7min\n",
      "[CV] clf__estimator__C=0.01, clf__estimator__class_weight=balanced, tfidf__max_df=0.5, tfidf__ngram_range=(1, 3) \n",
      "[CV]  clf__estimator__C=0.01, clf__estimator__class_weight=balanced, tfidf__max_df=0.25, tfidf__ngram_range=(1, 3), score=0.3918451323295614, total= 8.3min\n",
      "[CV] clf__estimator__C=0.01, clf__estimator__class_weight=balanced, tfidf__max_df=0.5, tfidf__ngram_range=(1, 3) \n"
     ]
    },
    {
     "name": "stderr",
     "output_type": "stream",
     "text": [
      "/Users/v824975/anaconda3/lib/python3.6/site-packages/sklearn/linear_model/sag.py:326: ConvergenceWarning:\n",
      "\n",
      "The max_iter was reached which means the coef_ did not converge\n",
      "\n"
     ]
    },
    {
     "name": "stdout",
     "output_type": "stream",
     "text": [
      "[CV]  clf__estimator__C=0.01, clf__estimator__class_weight=balanced, tfidf__max_df=0.5, tfidf__ngram_range=(1, 2), score=0.39240624707752736, total= 4.6min\n",
      "[CV] clf__estimator__C=0.01, clf__estimator__class_weight=balanced, tfidf__max_df=0.75, tfidf__ngram_range=(1, 1) \n"
     ]
    },
    {
     "name": "stderr",
     "output_type": "stream",
     "text": [
      "/Users/v824975/anaconda3/lib/python3.6/site-packages/sklearn/linear_model/sag.py:326: ConvergenceWarning:\n",
      "\n",
      "The max_iter was reached which means the coef_ did not converge\n",
      "\n"
     ]
    },
    {
     "name": "stdout",
     "output_type": "stream",
     "text": [
      "[CV]  clf__estimator__C=0.01, clf__estimator__class_weight=balanced, tfidf__max_df=0.75, tfidf__ngram_range=(1, 1), score=0.38092123703634495, total=  58.5s\n",
      "[CV] clf__estimator__C=0.01, clf__estimator__class_weight=balanced, tfidf__max_df=0.75, tfidf__ngram_range=(1, 1) \n"
     ]
    },
    {
     "name": "stderr",
     "output_type": "stream",
     "text": [
      "/Users/v824975/anaconda3/lib/python3.6/site-packages/sklearn/linear_model/sag.py:326: ConvergenceWarning:\n",
      "\n",
      "The max_iter was reached which means the coef_ did not converge\n",
      "\n"
     ]
    },
    {
     "name": "stdout",
     "output_type": "stream",
     "text": [
      "[CV]  clf__estimator__C=0.01, clf__estimator__class_weight=balanced, tfidf__max_df=0.75, tfidf__ngram_range=(1, 1), score=0.38585990835125783, total=  59.8s\n",
      "[CV] clf__estimator__C=0.01, clf__estimator__class_weight=balanced, tfidf__max_df=0.75, tfidf__ngram_range=(1, 2) \n"
     ]
    },
    {
     "name": "stderr",
     "output_type": "stream",
     "text": [
      "[Parallel(n_jobs=3)]: Done  12 tasks      | elapsed: 15.9min\n",
      "/Users/v824975/anaconda3/lib/python3.6/site-packages/sklearn/linear_model/sag.py:326: ConvergenceWarning:\n",
      "\n",
      "The max_iter was reached which means the coef_ did not converge\n",
      "\n",
      "/Users/v824975/anaconda3/lib/python3.6/site-packages/sklearn/linear_model/sag.py:326: ConvergenceWarning:\n",
      "\n",
      "The max_iter was reached which means the coef_ did not converge\n",
      "\n",
      "/Users/v824975/anaconda3/lib/python3.6/site-packages/sklearn/linear_model/sag.py:326: ConvergenceWarning:\n",
      "\n",
      "The max_iter was reached which means the coef_ did not converge\n",
      "\n"
     ]
    },
    {
     "name": "stdout",
     "output_type": "stream",
     "text": [
      "[CV]  clf__estimator__C=0.01, clf__estimator__class_weight=balanced, tfidf__max_df=0.5, tfidf__ngram_range=(1, 3), score=0.3857796879379613, total= 8.2min\n",
      "[CV] clf__estimator__C=0.01, clf__estimator__class_weight=balanced, tfidf__max_df=0.75, tfidf__ngram_range=(1, 2) \n",
      "[CV]  clf__estimator__C=0.01, clf__estimator__class_weight=balanced, tfidf__max_df=0.75, tfidf__ngram_range=(1, 2), score=0.3648509763617677, total= 4.6min\n",
      "[CV] clf__estimator__C=0.01, clf__estimator__class_weight=balanced, tfidf__max_df=0.75, tfidf__ngram_range=(1, 3) \n",
      "[CV]  clf__estimator__C=0.01, clf__estimator__class_weight=balanced, tfidf__max_df=0.5, tfidf__ngram_range=(1, 3), score=0.3918451323295614, total= 8.1min\n",
      "[CV] clf__estimator__C=0.01, clf__estimator__class_weight=balanced, tfidf__max_df=0.75, tfidf__ngram_range=(1, 3) \n"
     ]
    },
    {
     "name": "stderr",
     "output_type": "stream",
     "text": [
      "/Users/v824975/anaconda3/lib/python3.6/site-packages/sklearn/linear_model/sag.py:326: ConvergenceWarning:\n",
      "\n",
      "The max_iter was reached which means the coef_ did not converge\n",
      "\n"
     ]
    },
    {
     "name": "stdout",
     "output_type": "stream",
     "text": [
      "[CV]  clf__estimator__C=0.01, clf__estimator__class_weight=balanced, tfidf__max_df=0.75, tfidf__ngram_range=(1, 2), score=0.3936219956981203, total= 4.6min\n",
      "[CV] clf__estimator__C=0.01, clf__estimator__class_weight=None, tfidf__max_df=0.25, tfidf__ngram_range=(1, 1) \n",
      "[CV]  clf__estimator__C=0.01, clf__estimator__class_weight=None, tfidf__max_df=0.25, tfidf__ngram_range=(1, 1), score=0.2066710268149117, total=   7.1s\n",
      "[CV] clf__estimator__C=0.01, clf__estimator__class_weight=None, tfidf__max_df=0.25, tfidf__ngram_range=(1, 1) \n",
      "[CV]  clf__estimator__C=0.01, clf__estimator__class_weight=None, tfidf__max_df=0.25, tfidf__ngram_range=(1, 1), score=0.2068643037501169, total=   8.2s\n",
      "[CV] clf__estimator__C=0.01, clf__estimator__class_weight=None, tfidf__max_df=0.25, tfidf__ngram_range=(1, 2) \n",
      "[CV]  clf__estimator__C=0.01, clf__estimator__class_weight=None, tfidf__max_df=0.25, tfidf__ngram_range=(1, 2), score=0.2066710268149117, total=  35.0s\n",
      "[CV] clf__estimator__C=0.01, clf__estimator__class_weight=None, tfidf__max_df=0.25, tfidf__ngram_range=(1, 2) \n"
     ]
    },
    {
     "name": "stderr",
     "output_type": "stream",
     "text": [
      "[Parallel(n_jobs=3)]: Done  19 tasks      | elapsed: 25.9min\n"
     ]
    },
    {
     "name": "stdout",
     "output_type": "stream",
     "text": [
      "[CV]  clf__estimator__C=0.01, clf__estimator__class_weight=None, tfidf__max_df=0.25, tfidf__ngram_range=(1, 2), score=0.2068643037501169, total=  33.0s\n",
      "[CV] clf__estimator__C=0.01, clf__estimator__class_weight=None, tfidf__max_df=0.25, tfidf__ngram_range=(1, 3) \n",
      "[CV]  clf__estimator__C=0.01, clf__estimator__class_weight=None, tfidf__max_df=0.25, tfidf__ngram_range=(1, 3), score=0.2066710268149117, total=  59.1s\n",
      "[CV] clf__estimator__C=0.01, clf__estimator__class_weight=None, tfidf__max_df=0.25, tfidf__ngram_range=(1, 3) \n"
     ]
    },
    {
     "name": "stderr",
     "output_type": "stream",
     "text": [
      "/Users/v824975/anaconda3/lib/python3.6/site-packages/sklearn/linear_model/sag.py:326: ConvergenceWarning:\n",
      "\n",
      "The max_iter was reached which means the coef_ did not converge\n",
      "\n",
      "/Users/v824975/anaconda3/lib/python3.6/site-packages/sklearn/linear_model/sag.py:326: ConvergenceWarning:\n",
      "\n",
      "The max_iter was reached which means the coef_ did not converge\n",
      "\n"
     ]
    },
    {
     "name": "stdout",
     "output_type": "stream",
     "text": [
      "[CV]  clf__estimator__C=0.01, clf__estimator__class_weight=None, tfidf__max_df=0.25, tfidf__ngram_range=(1, 3), score=0.2068643037501169, total= 1.0min\n",
      "[CV] clf__estimator__C=0.01, clf__estimator__class_weight=None, tfidf__max_df=0.5, tfidf__ngram_range=(1, 1) \n",
      "[CV]  clf__estimator__C=0.01, clf__estimator__class_weight=None, tfidf__max_df=0.5, tfidf__ngram_range=(1, 1), score=0.2066710268149117, total=   7.5s\n",
      "[CV] clf__estimator__C=0.01, clf__estimator__class_weight=None, tfidf__max_df=0.5, tfidf__ngram_range=(1, 1) \n",
      "[CV]  clf__estimator__C=0.01, clf__estimator__class_weight=balanced, tfidf__max_df=0.75, tfidf__ngram_range=(1, 3), score=0.0007474539848640568, total= 8.3min\n",
      "[CV] clf__estimator__C=0.01, clf__estimator__class_weight=None, tfidf__max_df=0.5, tfidf__ngram_range=(1, 2) \n",
      "[CV]  clf__estimator__C=0.01, clf__estimator__class_weight=None, tfidf__max_df=0.5, tfidf__ngram_range=(1, 1), score=0.2068643037501169, total=   7.2s\n",
      "[CV] clf__estimator__C=0.01, clf__estimator__class_weight=None, tfidf__max_df=0.5, tfidf__ngram_range=(1, 2) \n",
      "[CV]  clf__estimator__C=0.01, clf__estimator__class_weight=balanced, tfidf__max_df=0.75, tfidf__ngram_range=(1, 3), score=0.3915645749555784, total= 8.3min\n",
      "[CV] clf__estimator__C=0.01, clf__estimator__class_weight=None, tfidf__max_df=0.5, tfidf__ngram_range=(1, 3) \n"
     ]
    },
    {
     "name": "stderr",
     "output_type": "stream",
     "text": [
      "[Parallel(n_jobs=3)]: Done  26 tasks      | elapsed: 29.3min\n"
     ]
    },
    {
     "name": "stdout",
     "output_type": "stream",
     "text": [
      "[CV]  clf__estimator__C=0.01, clf__estimator__class_weight=None, tfidf__max_df=0.5, tfidf__ngram_range=(1, 2), score=0.2066710268149117, total=  32.1s\n",
      "[CV] clf__estimator__C=0.01, clf__estimator__class_weight=None, tfidf__max_df=0.5, tfidf__ngram_range=(1, 3) \n",
      "[CV]  clf__estimator__C=0.01, clf__estimator__class_weight=None, tfidf__max_df=0.5, tfidf__ngram_range=(1, 2), score=0.2068643037501169, total=  32.0s\n",
      "[CV] clf__estimator__C=0.01, clf__estimator__class_weight=None, tfidf__max_df=0.75, tfidf__ngram_range=(1, 1) \n",
      "[CV]  clf__estimator__C=0.01, clf__estimator__class_weight=None, tfidf__max_df=0.75, tfidf__ngram_range=(1, 1), score=0.2066710268149117, total=   8.2s\n",
      "[CV] clf__estimator__C=0.01, clf__estimator__class_weight=None, tfidf__max_df=0.75, tfidf__ngram_range=(1, 1) \n",
      "[CV]  clf__estimator__C=0.01, clf__estimator__class_weight=None, tfidf__max_df=0.75, tfidf__ngram_range=(1, 1), score=0.2068643037501169, total=   7.9s\n",
      "[CV] clf__estimator__C=0.01, clf__estimator__class_weight=None, tfidf__max_df=0.75, tfidf__ngram_range=(1, 2) \n",
      "[CV]  clf__estimator__C=0.01, clf__estimator__class_weight=None, tfidf__max_df=0.75, tfidf__ngram_range=(1, 2), score=0.2066710268149117, total=  34.4s\n",
      "[CV] clf__estimator__C=0.01, clf__estimator__class_weight=None, tfidf__max_df=0.75, tfidf__ngram_range=(1, 2) \n",
      "[CV]  clf__estimator__C=0.01, clf__estimator__class_weight=None, tfidf__max_df=0.5, tfidf__ngram_range=(1, 3), score=0.2066710268149117, total=  59.4s\n",
      "[CV] clf__estimator__C=0.01, clf__estimator__class_weight=None, tfidf__max_df=0.75, tfidf__ngram_range=(1, 3) \n",
      "[CV]  clf__estimator__C=0.01, clf__estimator__class_weight=None, tfidf__max_df=0.5, tfidf__ngram_range=(1, 3), score=0.2068643037501169, total= 1.0min\n",
      "[CV] clf__estimator__C=0.01, clf__estimator__class_weight=None, tfidf__max_df=0.75, tfidf__ngram_range=(1, 3) \n",
      "[CV]  clf__estimator__C=0.01, clf__estimator__class_weight=None, tfidf__max_df=0.75, tfidf__ngram_range=(1, 2), score=0.2068643037501169, total=  32.5s\n",
      "[CV] clf__estimator__C=0.1, clf__estimator__class_weight=balanced, tfidf__max_df=0.25, tfidf__ngram_range=(1, 1) \n",
      "[CV]  clf__estimator__C=0.01, clf__estimator__class_weight=None, tfidf__max_df=0.75, tfidf__ngram_range=(1, 3), score=0.2066710268149117, total=  57.5s\n",
      "[CV] clf__estimator__C=0.1, clf__estimator__class_weight=balanced, tfidf__max_df=0.25, tfidf__ngram_range=(1, 1) \n"
     ]
    },
    {
     "name": "stderr",
     "output_type": "stream",
     "text": [
      "[Parallel(n_jobs=3)]: Done  35 tasks      | elapsed: 31.4min\n"
     ]
    },
    {
     "name": "stdout",
     "output_type": "stream",
     "text": [
      "[CV]  clf__estimator__C=0.01, clf__estimator__class_weight=None, tfidf__max_df=0.75, tfidf__ngram_range=(1, 3), score=0.2068643037501169, total=  57.0s\n",
      "[CV] clf__estimator__C=0.1, clf__estimator__class_weight=balanced, tfidf__max_df=0.25, tfidf__ngram_range=(1, 2) \n"
     ]
    },
    {
     "name": "stderr",
     "output_type": "stream",
     "text": [
      "/Users/v824975/anaconda3/lib/python3.6/site-packages/sklearn/linear_model/sag.py:326: ConvergenceWarning:\n",
      "\n",
      "The max_iter was reached which means the coef_ did not converge\n",
      "\n",
      "/Users/v824975/anaconda3/lib/python3.6/site-packages/sklearn/linear_model/sag.py:326: ConvergenceWarning:\n",
      "\n",
      "The max_iter was reached which means the coef_ did not converge\n",
      "\n",
      "/Users/v824975/anaconda3/lib/python3.6/site-packages/sklearn/linear_model/sag.py:326: ConvergenceWarning:\n",
      "\n",
      "The max_iter was reached which means the coef_ did not converge\n",
      "\n",
      "/Users/v824975/anaconda3/lib/python3.6/site-packages/sklearn/linear_model/sag.py:326: ConvergenceWarning:\n",
      "\n",
      "The max_iter was reached which means the coef_ did not converge\n",
      "\n",
      "/Users/v824975/anaconda3/lib/python3.6/site-packages/sklearn/linear_model/sag.py:326: ConvergenceWarning:\n",
      "\n",
      "The max_iter was reached which means the coef_ did not converge\n",
      "\n",
      "/Users/v824975/anaconda3/lib/python3.6/site-packages/sklearn/linear_model/sag.py:326: ConvergenceWarning:\n",
      "\n",
      "The max_iter was reached which means the coef_ did not converge\n",
      "\n",
      "/Users/v824975/anaconda3/lib/python3.6/site-packages/sklearn/linear_model/sag.py:326: ConvergenceWarning:\n",
      "\n",
      "The max_iter was reached which means the coef_ did not converge\n",
      "\n",
      "/Users/v824975/anaconda3/lib/python3.6/site-packages/sklearn/linear_model/sag.py:326: ConvergenceWarning:\n",
      "\n",
      "The max_iter was reached which means the coef_ did not converge\n",
      "\n"
     ]
    },
    {
     "name": "stdout",
     "output_type": "stream",
     "text": [
      "[CV]  clf__estimator__C=0.1, clf__estimator__class_weight=balanced, tfidf__max_df=0.25, tfidf__ngram_range=(1, 1), score=0.39213304680930583, total= 2.7min\n",
      "[CV] clf__estimator__C=0.1, clf__estimator__class_weight=balanced, tfidf__max_df=0.25, tfidf__ngram_range=(1, 2) \n"
     ]
    },
    {
     "name": "stderr",
     "output_type": "stream",
     "text": [
      "/Users/v824975/anaconda3/lib/python3.6/site-packages/sklearn/linear_model/sag.py:326: ConvergenceWarning:\n",
      "\n",
      "The max_iter was reached which means the coef_ did not converge\n",
      "\n"
     ]
    },
    {
     "name": "stdout",
     "output_type": "stream",
     "text": [
      "[CV]  clf__estimator__C=0.1, clf__estimator__class_weight=balanced, tfidf__max_df=0.25, tfidf__ngram_range=(1, 1), score=0.0006546338726269522, total= 2.7min\n",
      "[CV] clf__estimator__C=0.1, clf__estimator__class_weight=balanced, tfidf__max_df=0.25, tfidf__ngram_range=(1, 3) \n"
     ]
    },
    {
     "name": "stderr",
     "output_type": "stream",
     "text": [
      "/Users/v824975/anaconda3/lib/python3.6/site-packages/sklearn/linear_model/sag.py:326: ConvergenceWarning:\n",
      "\n",
      "The max_iter was reached which means the coef_ did not converge\n",
      "\n",
      "/Users/v824975/anaconda3/lib/python3.6/site-packages/sklearn/linear_model/sag.py:326: ConvergenceWarning:\n",
      "\n",
      "The max_iter was reached which means the coef_ did not converge\n",
      "\n",
      "/Users/v824975/anaconda3/lib/python3.6/site-packages/sklearn/linear_model/sag.py:326: ConvergenceWarning:\n",
      "\n",
      "The max_iter was reached which means the coef_ did not converge\n",
      "\n",
      "/Users/v824975/anaconda3/lib/python3.6/site-packages/sklearn/linear_model/sag.py:326: ConvergenceWarning:\n",
      "\n",
      "The max_iter was reached which means the coef_ did not converge\n",
      "\n",
      "/Users/v824975/anaconda3/lib/python3.6/site-packages/sklearn/linear_model/sag.py:326: ConvergenceWarning:\n",
      "\n",
      "The max_iter was reached which means the coef_ did not converge\n",
      "\n",
      "/Users/v824975/anaconda3/lib/python3.6/site-packages/sklearn/linear_model/sag.py:326: ConvergenceWarning:\n",
      "\n",
      "The max_iter was reached which means the coef_ did not converge\n",
      "\n",
      "/Users/v824975/anaconda3/lib/python3.6/site-packages/sklearn/linear_model/sag.py:326: ConvergenceWarning:\n",
      "\n",
      "The max_iter was reached which means the coef_ did not converge\n",
      "\n"
     ]
    },
    {
     "name": "stdout",
     "output_type": "stream",
     "text": [
      "[CV]  clf__estimator__C=0.1, clf__estimator__class_weight=balanced, tfidf__max_df=0.25, tfidf__ngram_range=(1, 2), score=0.39381481827524994, total= 8.6min\n",
      "[CV] clf__estimator__C=0.1, clf__estimator__class_weight=balanced, tfidf__max_df=0.25, tfidf__ngram_range=(1, 3) \n"
     ]
    },
    {
     "name": "stderr",
     "output_type": "stream",
     "text": [
      "/Users/v824975/anaconda3/lib/python3.6/site-packages/sklearn/linear_model/sag.py:326: ConvergenceWarning:\n",
      "\n",
      "The max_iter was reached which means the coef_ did not converge\n",
      "\n",
      "/Users/v824975/anaconda3/lib/python3.6/site-packages/sklearn/linear_model/sag.py:326: ConvergenceWarning:\n",
      "\n",
      "The max_iter was reached which means the coef_ did not converge\n",
      "\n"
     ]
    },
    {
     "name": "stdout",
     "output_type": "stream",
     "text": [
      "[CV]  clf__estimator__C=0.1, clf__estimator__class_weight=balanced, tfidf__max_df=0.25, tfidf__ngram_range=(1, 2), score=0.3945571869447302, total= 8.4min\n",
      "[CV] clf__estimator__C=0.1, clf__estimator__class_weight=balanced, tfidf__max_df=0.5, tfidf__ngram_range=(1, 1) \n"
     ]
    },
    {
     "name": "stderr",
     "output_type": "stream",
     "text": [
      "/Users/v824975/anaconda3/lib/python3.6/site-packages/sklearn/linear_model/sag.py:326: ConvergenceWarning:\n",
      "\n",
      "The max_iter was reached which means the coef_ did not converge\n",
      "\n",
      "/Users/v824975/anaconda3/lib/python3.6/site-packages/sklearn/linear_model/sag.py:326: ConvergenceWarning:\n",
      "\n",
      "The max_iter was reached which means the coef_ did not converge\n",
      "\n",
      "/Users/v824975/anaconda3/lib/python3.6/site-packages/sklearn/linear_model/sag.py:326: ConvergenceWarning:\n",
      "\n",
      "The max_iter was reached which means the coef_ did not converge\n",
      "\n",
      "/Users/v824975/anaconda3/lib/python3.6/site-packages/sklearn/linear_model/sag.py:326: ConvergenceWarning:\n",
      "\n",
      "The max_iter was reached which means the coef_ did not converge\n",
      "\n",
      "/Users/v824975/anaconda3/lib/python3.6/site-packages/sklearn/linear_model/sag.py:326: ConvergenceWarning:\n",
      "\n",
      "The max_iter was reached which means the coef_ did not converge\n",
      "\n",
      "/Users/v824975/anaconda3/lib/python3.6/site-packages/sklearn/linear_model/sag.py:326: ConvergenceWarning:\n",
      "\n",
      "The max_iter was reached which means the coef_ did not converge\n",
      "\n"
     ]
    },
    {
     "name": "stdout",
     "output_type": "stream",
     "text": [
      "[CV]  clf__estimator__C=0.1, clf__estimator__class_weight=balanced, tfidf__max_df=0.5, tfidf__ngram_range=(1, 1), score=0.24535177053162666, total= 2.6min\n",
      "[CV] clf__estimator__C=0.1, clf__estimator__class_weight=balanced, tfidf__max_df=0.5, tfidf__ngram_range=(1, 1) \n"
     ]
    },
    {
     "name": "stderr",
     "output_type": "stream",
     "text": [
      "/Users/v824975/anaconda3/lib/python3.6/site-packages/sklearn/linear_model/sag.py:326: ConvergenceWarning:\n",
      "\n",
      "The max_iter was reached which means the coef_ did not converge\n",
      "\n",
      "/Users/v824975/anaconda3/lib/python3.6/site-packages/sklearn/linear_model/sag.py:326: ConvergenceWarning:\n",
      "\n",
      "The max_iter was reached which means the coef_ did not converge\n",
      "\n",
      "/Users/v824975/anaconda3/lib/python3.6/site-packages/sklearn/linear_model/sag.py:326: ConvergenceWarning:\n",
      "\n",
      "The max_iter was reached which means the coef_ did not converge\n",
      "\n",
      "/Users/v824975/anaconda3/lib/python3.6/site-packages/sklearn/linear_model/sag.py:326: ConvergenceWarning:\n",
      "\n",
      "The max_iter was reached which means the coef_ did not converge\n",
      "\n",
      "/Users/v824975/anaconda3/lib/python3.6/site-packages/sklearn/linear_model/sag.py:326: ConvergenceWarning:\n",
      "\n",
      "The max_iter was reached which means the coef_ did not converge\n",
      "\n"
     ]
    },
    {
     "name": "stdout",
     "output_type": "stream",
     "text": [
      "[CV]  clf__estimator__C=0.1, clf__estimator__class_weight=balanced, tfidf__max_df=0.25, tfidf__ngram_range=(1, 3), score=0.38755489115201347, total=12.7min\n",
      "[CV] clf__estimator__C=0.1, clf__estimator__class_weight=balanced, tfidf__max_df=0.5, tfidf__ngram_range=(1, 2) \n"
     ]
    },
    {
     "name": "stderr",
     "output_type": "stream",
     "text": [
      "/Users/v824975/anaconda3/lib/python3.6/site-packages/sklearn/linear_model/sag.py:326: ConvergenceWarning:\n",
      "\n",
      "The max_iter was reached which means the coef_ did not converge\n",
      "\n"
     ]
    },
    {
     "name": "stdout",
     "output_type": "stream",
     "text": [
      "[CV]  clf__estimator__C=0.1, clf__estimator__class_weight=balanced, tfidf__max_df=0.5, tfidf__ngram_range=(1, 1), score=0.3931544000748153, total= 2.6min\n",
      "[CV] clf__estimator__C=0.1, clf__estimator__class_weight=balanced, tfidf__max_df=0.5, tfidf__ngram_range=(1, 2) \n"
     ]
    },
    {
     "name": "stderr",
     "output_type": "stream",
     "text": [
      "/Users/v824975/anaconda3/lib/python3.6/site-packages/sklearn/linear_model/sag.py:326: ConvergenceWarning:\n",
      "\n",
      "The max_iter was reached which means the coef_ did not converge\n",
      "\n",
      "/Users/v824975/anaconda3/lib/python3.6/site-packages/sklearn/linear_model/sag.py:326: ConvergenceWarning:\n",
      "\n",
      "The max_iter was reached which means the coef_ did not converge\n",
      "\n",
      "/Users/v824975/anaconda3/lib/python3.6/site-packages/sklearn/linear_model/sag.py:326: ConvergenceWarning:\n",
      "\n",
      "The max_iter was reached which means the coef_ did not converge\n",
      "\n",
      "/Users/v824975/anaconda3/lib/python3.6/site-packages/sklearn/linear_model/sag.py:326: ConvergenceWarning:\n",
      "\n",
      "The max_iter was reached which means the coef_ did not converge\n",
      "\n",
      "/Users/v824975/anaconda3/lib/python3.6/site-packages/sklearn/linear_model/sag.py:326: ConvergenceWarning:\n",
      "\n",
      "The max_iter was reached which means the coef_ did not converge\n",
      "\n",
      "/Users/v824975/anaconda3/lib/python3.6/site-packages/sklearn/linear_model/sag.py:326: ConvergenceWarning:\n",
      "\n",
      "The max_iter was reached which means the coef_ did not converge\n",
      "\n"
     ]
    },
    {
     "name": "stdout",
     "output_type": "stream",
     "text": [
      "[CV]  clf__estimator__C=0.1, clf__estimator__class_weight=balanced, tfidf__max_df=0.25, tfidf__ngram_range=(1, 3), score=0.0013092677452539044, total=12.5min\n",
      "[CV] clf__estimator__C=0.1, clf__estimator__class_weight=balanced, tfidf__max_df=0.5, tfidf__ngram_range=(1, 3) \n"
     ]
    },
    {
     "name": "stderr",
     "output_type": "stream",
     "text": [
      "[Parallel(n_jobs=3)]: Done  44 tasks      | elapsed: 52.5min\n",
      "/Users/v824975/anaconda3/lib/python3.6/site-packages/sklearn/linear_model/sag.py:326: ConvergenceWarning:\n",
      "\n",
      "The max_iter was reached which means the coef_ did not converge\n",
      "\n",
      "/Users/v824975/anaconda3/lib/python3.6/site-packages/sklearn/linear_model/sag.py:326: ConvergenceWarning:\n",
      "\n",
      "The max_iter was reached which means the coef_ did not converge\n",
      "\n",
      "/Users/v824975/anaconda3/lib/python3.6/site-packages/sklearn/linear_model/sag.py:326: ConvergenceWarning:\n",
      "\n",
      "The max_iter was reached which means the coef_ did not converge\n",
      "\n"
     ]
    },
    {
     "name": "stdout",
     "output_type": "stream",
     "text": [
      "[CV]  clf__estimator__C=0.1, clf__estimator__class_weight=balanced, tfidf__max_df=0.5, tfidf__ngram_range=(1, 2), score=0.0007474539848640568, total= 8.3min\n",
      "[CV] clf__estimator__C=0.1, clf__estimator__class_weight=balanced, tfidf__max_df=0.5, tfidf__ngram_range=(1, 3) \n"
     ]
    },
    {
     "name": "stderr",
     "output_type": "stream",
     "text": [
      "/Users/v824975/anaconda3/lib/python3.6/site-packages/sklearn/linear_model/sag.py:326: ConvergenceWarning:\n",
      "\n",
      "The max_iter was reached which means the coef_ did not converge\n",
      "\n"
     ]
    },
    {
     "name": "stdout",
     "output_type": "stream",
     "text": [
      "[CV]  clf__estimator__C=0.1, clf__estimator__class_weight=balanced, tfidf__max_df=0.5, tfidf__ngram_range=(1, 2), score=0.0006546338726269522, total= 8.3min\n",
      "[CV] clf__estimator__C=0.1, clf__estimator__class_weight=balanced, tfidf__max_df=0.75, tfidf__ngram_range=(1, 1) \n"
     ]
    },
    {
     "name": "stderr",
     "output_type": "stream",
     "text": [
      "/Users/v824975/anaconda3/lib/python3.6/site-packages/sklearn/linear_model/sag.py:326: ConvergenceWarning:\n",
      "\n",
      "The max_iter was reached which means the coef_ did not converge\n",
      "\n",
      "/Users/v824975/anaconda3/lib/python3.6/site-packages/sklearn/linear_model/sag.py:326: ConvergenceWarning:\n",
      "\n",
      "The max_iter was reached which means the coef_ did not converge\n",
      "\n",
      "/Users/v824975/anaconda3/lib/python3.6/site-packages/sklearn/linear_model/sag.py:326: ConvergenceWarning:\n",
      "\n",
      "The max_iter was reached which means the coef_ did not converge\n",
      "\n",
      "/Users/v824975/anaconda3/lib/python3.6/site-packages/sklearn/linear_model/sag.py:326: ConvergenceWarning:\n",
      "\n",
      "The max_iter was reached which means the coef_ did not converge\n",
      "\n",
      "/Users/v824975/anaconda3/lib/python3.6/site-packages/sklearn/linear_model/sag.py:326: ConvergenceWarning:\n",
      "\n",
      "The max_iter was reached which means the coef_ did not converge\n",
      "\n",
      "/Users/v824975/anaconda3/lib/python3.6/site-packages/sklearn/linear_model/sag.py:326: ConvergenceWarning:\n",
      "\n",
      "The max_iter was reached which means the coef_ did not converge\n",
      "\n"
     ]
    },
    {
     "name": "stdout",
     "output_type": "stream",
     "text": [
      "[CV]  clf__estimator__C=0.1, clf__estimator__class_weight=balanced, tfidf__max_df=0.75, tfidf__ngram_range=(1, 1), score=0.3919461833130898, total= 2.6min\n",
      "[CV] clf__estimator__C=0.1, clf__estimator__class_weight=balanced, tfidf__max_df=0.75, tfidf__ngram_range=(1, 1) \n"
     ]
    },
    {
     "name": "stderr",
     "output_type": "stream",
     "text": [
      "/Users/v824975/anaconda3/lib/python3.6/site-packages/sklearn/linear_model/sag.py:326: ConvergenceWarning:\n",
      "\n",
      "The max_iter was reached which means the coef_ did not converge\n",
      "\n",
      "/Users/v824975/anaconda3/lib/python3.6/site-packages/sklearn/linear_model/sag.py:326: ConvergenceWarning:\n",
      "\n",
      "The max_iter was reached which means the coef_ did not converge\n",
      "\n",
      "/Users/v824975/anaconda3/lib/python3.6/site-packages/sklearn/linear_model/sag.py:326: ConvergenceWarning:\n",
      "\n",
      "The max_iter was reached which means the coef_ did not converge\n",
      "\n",
      "/Users/v824975/anaconda3/lib/python3.6/site-packages/sklearn/linear_model/sag.py:326: ConvergenceWarning:\n",
      "\n",
      "The max_iter was reached which means the coef_ did not converge\n",
      "\n",
      "/Users/v824975/anaconda3/lib/python3.6/site-packages/sklearn/linear_model/sag.py:326: ConvergenceWarning:\n",
      "\n",
      "The max_iter was reached which means the coef_ did not converge\n",
      "\n"
     ]
    },
    {
     "name": "stdout",
     "output_type": "stream",
     "text": [
      "[CV]  clf__estimator__C=0.1, clf__estimator__class_weight=balanced, tfidf__max_df=0.75, tfidf__ngram_range=(1, 1), score=0.1179276161975124, total= 2.5min\n",
      "[CV] clf__estimator__C=0.1, clf__estimator__class_weight=balanced, tfidf__max_df=0.75, tfidf__ngram_range=(1, 2) \n"
     ]
    },
    {
     "name": "stderr",
     "output_type": "stream",
     "text": [
      "/Users/v824975/anaconda3/lib/python3.6/site-packages/sklearn/linear_model/sag.py:326: ConvergenceWarning:\n",
      "\n",
      "The max_iter was reached which means the coef_ did not converge\n",
      "\n",
      "/Users/v824975/anaconda3/lib/python3.6/site-packages/sklearn/linear_model/sag.py:326: ConvergenceWarning:\n",
      "\n",
      "The max_iter was reached which means the coef_ did not converge\n",
      "\n",
      "/Users/v824975/anaconda3/lib/python3.6/site-packages/sklearn/linear_model/sag.py:326: ConvergenceWarning:\n",
      "\n",
      "The max_iter was reached which means the coef_ did not converge\n",
      "\n",
      "/Users/v824975/anaconda3/lib/python3.6/site-packages/sklearn/linear_model/sag.py:326: ConvergenceWarning:\n",
      "\n",
      "The max_iter was reached which means the coef_ did not converge\n",
      "\n",
      "/Users/v824975/anaconda3/lib/python3.6/site-packages/sklearn/linear_model/sag.py:326: ConvergenceWarning:\n",
      "\n",
      "The max_iter was reached which means the coef_ did not converge\n",
      "\n",
      "/Users/v824975/anaconda3/lib/python3.6/site-packages/sklearn/linear_model/sag.py:326: ConvergenceWarning:\n",
      "\n",
      "The max_iter was reached which means the coef_ did not converge\n",
      "\n"
     ]
    },
    {
     "name": "stdout",
     "output_type": "stream",
     "text": [
      "[CV]  clf__estimator__C=0.1, clf__estimator__class_weight=balanced, tfidf__max_df=0.5, tfidf__ngram_range=(1, 3), score=0.3751284686536485, total=12.4min\n",
      "[CV] clf__estimator__C=0.1, clf__estimator__class_weight=balanced, tfidf__max_df=0.75, tfidf__ngram_range=(1, 2) \n"
     ]
    },
    {
     "name": "stderr",
     "output_type": "stream",
     "text": [
      "/Users/v824975/anaconda3/lib/python3.6/site-packages/sklearn/linear_model/sag.py:326: ConvergenceWarning:\n",
      "\n",
      "The max_iter was reached which means the coef_ did not converge\n",
      "\n",
      "/Users/v824975/anaconda3/lib/python3.6/site-packages/sklearn/linear_model/sag.py:326: ConvergenceWarning:\n",
      "\n",
      "The max_iter was reached which means the coef_ did not converge\n",
      "\n",
      "/Users/v824975/anaconda3/lib/python3.6/site-packages/sklearn/linear_model/sag.py:326: ConvergenceWarning:\n",
      "\n",
      "The max_iter was reached which means the coef_ did not converge\n",
      "\n"
     ]
    },
    {
     "name": "stdout",
     "output_type": "stream",
     "text": [
      "[CV]  clf__estimator__C=0.1, clf__estimator__class_weight=balanced, tfidf__max_df=0.5, tfidf__ngram_range=(1, 3), score=0.3849247171046479, total=12.3min\n",
      "[CV] clf__estimator__C=0.1, clf__estimator__class_weight=balanced, tfidf__max_df=0.75, tfidf__ngram_range=(1, 3) \n"
     ]
    },
    {
     "name": "stderr",
     "output_type": "stream",
     "text": [
      "/Users/v824975/anaconda3/lib/python3.6/site-packages/sklearn/linear_model/sag.py:326: ConvergenceWarning:\n",
      "\n",
      "The max_iter was reached which means the coef_ did not converge\n",
      "\n",
      "/Users/v824975/anaconda3/lib/python3.6/site-packages/sklearn/linear_model/sag.py:326: ConvergenceWarning:\n",
      "\n",
      "The max_iter was reached which means the coef_ did not converge\n",
      "\n"
     ]
    },
    {
     "name": "stdout",
     "output_type": "stream",
     "text": [
      "[CV]  clf__estimator__C=0.1, clf__estimator__class_weight=balanced, tfidf__max_df=0.75, tfidf__ngram_range=(1, 2), score=0.16126319723442026, total= 8.2min\n",
      "[CV] clf__estimator__C=0.1, clf__estimator__class_weight=balanced, tfidf__max_df=0.75, tfidf__ngram_range=(1, 3) \n"
     ]
    },
    {
     "name": "stderr",
     "output_type": "stream",
     "text": [
      "/Users/v824975/anaconda3/lib/python3.6/site-packages/sklearn/linear_model/sag.py:326: ConvergenceWarning:\n",
      "\n",
      "The max_iter was reached which means the coef_ did not converge\n",
      "\n",
      "/Users/v824975/anaconda3/lib/python3.6/site-packages/sklearn/linear_model/sag.py:326: ConvergenceWarning:\n",
      "\n",
      "The max_iter was reached which means the coef_ did not converge\n",
      "\n",
      "/Users/v824975/anaconda3/lib/python3.6/site-packages/sklearn/linear_model/sag.py:326: ConvergenceWarning:\n",
      "\n",
      "The max_iter was reached which means the coef_ did not converge\n",
      "\n",
      "/Users/v824975/anaconda3/lib/python3.6/site-packages/sklearn/linear_model/sag.py:326: ConvergenceWarning:\n",
      "\n",
      "The max_iter was reached which means the coef_ did not converge\n",
      "\n"
     ]
    },
    {
     "name": "stdout",
     "output_type": "stream",
     "text": [
      "[CV]  clf__estimator__C=0.1, clf__estimator__class_weight=balanced, tfidf__max_df=0.75, tfidf__ngram_range=(1, 2), score=0.0006546338726269522, total= 8.1min\n",
      "[CV] clf__estimator__C=0.1, clf__estimator__class_weight=None, tfidf__max_df=0.25, tfidf__ngram_range=(1, 1) \n",
      "[CV]  clf__estimator__C=0.1, clf__estimator__class_weight=None, tfidf__max_df=0.25, tfidf__ngram_range=(1, 1), score=0.2588059422591797, total=   5.4s\n",
      "[CV] clf__estimator__C=0.1, clf__estimator__class_weight=None, tfidf__max_df=0.25, tfidf__ngram_range=(1, 1) \n",
      "[CV]  clf__estimator__C=0.1, clf__estimator__class_weight=None, tfidf__max_df=0.25, tfidf__ngram_range=(1, 1), score=0.2618535490507809, total=   5.3s\n",
      "[CV] clf__estimator__C=0.1, clf__estimator__class_weight=None, tfidf__max_df=0.25, tfidf__ngram_range=(1, 2) \n",
      "[CV]  clf__estimator__C=0.1, clf__estimator__class_weight=None, tfidf__max_df=0.25, tfidf__ngram_range=(1, 2), score=0.22591796692516117, total=  16.8s\n",
      "[CV] clf__estimator__C=0.1, clf__estimator__class_weight=None, tfidf__max_df=0.25, tfidf__ngram_range=(1, 2) \n"
     ]
    },
    {
     "name": "stderr",
     "output_type": "stream",
     "text": [
      "[Parallel(n_jobs=3)]: Done  55 tasks      | elapsed: 73.6min\n",
      "/Users/v824975/anaconda3/lib/python3.6/site-packages/sklearn/linear_model/sag.py:326: ConvergenceWarning:\n",
      "\n",
      "The max_iter was reached which means the coef_ did not converge\n",
      "\n"
     ]
    },
    {
     "name": "stdout",
     "output_type": "stream",
     "text": [
      "[CV]  clf__estimator__C=0.1, clf__estimator__class_weight=None, tfidf__max_df=0.25, tfidf__ngram_range=(1, 2), score=0.22388478443841767, total=  16.7s\n",
      "[CV] clf__estimator__C=0.1, clf__estimator__class_weight=None, tfidf__max_df=0.25, tfidf__ngram_range=(1, 3) \n",
      "[CV]  clf__estimator__C=0.1, clf__estimator__class_weight=None, tfidf__max_df=0.25, tfidf__ngram_range=(1, 3), score=0.21750910959544054, total=  27.0s\n",
      "[CV] clf__estimator__C=0.1, clf__estimator__class_weight=None, tfidf__max_df=0.25, tfidf__ngram_range=(1, 3) \n",
      "[CV]  clf__estimator__C=0.1, clf__estimator__class_weight=None, tfidf__max_df=0.25, tfidf__ngram_range=(1, 3), score=0.21621621621621623, total=  26.9s\n",
      "[CV] clf__estimator__C=0.1, clf__estimator__class_weight=None, tfidf__max_df=0.5, tfidf__ngram_range=(1, 1) \n",
      "[CV]  clf__estimator__C=0.1, clf__estimator__class_weight=None, tfidf__max_df=0.5, tfidf__ngram_range=(1, 1), score=0.2588059422591797, total=   5.3s\n",
      "[CV] clf__estimator__C=0.1, clf__estimator__class_weight=None, tfidf__max_df=0.5, tfidf__ngram_range=(1, 1) \n"
     ]
    },
    {
     "name": "stderr",
     "output_type": "stream",
     "text": [
      "/Users/v824975/anaconda3/lib/python3.6/site-packages/sklearn/linear_model/sag.py:326: ConvergenceWarning:\n",
      "\n",
      "The max_iter was reached which means the coef_ did not converge\n",
      "\n"
     ]
    },
    {
     "name": "stdout",
     "output_type": "stream",
     "text": [
      "[CV]  clf__estimator__C=0.1, clf__estimator__class_weight=None, tfidf__max_df=0.5, tfidf__ngram_range=(1, 1), score=0.2616665108014589, total=   5.2s\n",
      "[CV] clf__estimator__C=0.1, clf__estimator__class_weight=None, tfidf__max_df=0.5, tfidf__ngram_range=(1, 2) \n",
      "[CV]  clf__estimator__C=0.1, clf__estimator__class_weight=None, tfidf__max_df=0.5, tfidf__ngram_range=(1, 2), score=0.22582453517705317, total=  16.9s\n",
      "[CV] clf__estimator__C=0.1, clf__estimator__class_weight=None, tfidf__max_df=0.5, tfidf__ngram_range=(1, 2) \n",
      "[CV]  clf__estimator__C=0.1, clf__estimator__class_weight=None, tfidf__max_df=0.5, tfidf__ngram_range=(1, 2), score=0.22379126531375668, total=  16.7s\n",
      "[CV] clf__estimator__C=0.1, clf__estimator__class_weight=None, tfidf__max_df=0.5, tfidf__ngram_range=(1, 3) \n",
      "[CV]  clf__estimator__C=0.1, clf__estimator__class_weight=None, tfidf__max_df=0.5, tfidf__ngram_range=(1, 3), score=0.21750910959544054, total=  26.8s\n",
      "[CV] clf__estimator__C=0.1, clf__estimator__class_weight=None, tfidf__max_df=0.5, tfidf__ngram_range=(1, 3) \n",
      "[CV]  clf__estimator__C=0.1, clf__estimator__class_weight=None, tfidf__max_df=0.5, tfidf__ngram_range=(1, 3), score=0.21621621621621623, total=  26.6s\n",
      "[CV] clf__estimator__C=0.1, clf__estimator__class_weight=None, tfidf__max_df=0.75, tfidf__ngram_range=(1, 1) \n",
      "[CV]  clf__estimator__C=0.1, clf__estimator__class_weight=None, tfidf__max_df=0.75, tfidf__ngram_range=(1, 1), score=0.2588059422591797, total=   5.3s\n",
      "[CV] clf__estimator__C=0.1, clf__estimator__class_weight=None, tfidf__max_df=0.75, tfidf__ngram_range=(1, 1) \n",
      "[CV]  clf__estimator__C=0.1, clf__estimator__class_weight=None, tfidf__max_df=0.75, tfidf__ngram_range=(1, 1), score=0.2616665108014589, total=   5.3s\n",
      "[CV] clf__estimator__C=0.1, clf__estimator__class_weight=None, tfidf__max_df=0.75, tfidf__ngram_range=(1, 2) \n"
     ]
    },
    {
     "name": "stderr",
     "output_type": "stream",
     "text": [
      "[Parallel(n_jobs=3)]: Done  66 tasks      | elapsed: 76.9min\n",
      "/Users/v824975/anaconda3/lib/python3.6/site-packages/sklearn/linear_model/sag.py:326: ConvergenceWarning:\n",
      "\n",
      "The max_iter was reached which means the coef_ did not converge\n",
      "\n"
     ]
    },
    {
     "name": "stdout",
     "output_type": "stream",
     "text": [
      "[CV]  clf__estimator__C=0.1, clf__estimator__class_weight=None, tfidf__max_df=0.75, tfidf__ngram_range=(1, 2), score=0.22582453517705317, total=  16.8s\n",
      "[CV] clf__estimator__C=0.1, clf__estimator__class_weight=None, tfidf__max_df=0.75, tfidf__ngram_range=(1, 2) \n",
      "[CV]  clf__estimator__C=0.1, clf__estimator__class_weight=None, tfidf__max_df=0.75, tfidf__ngram_range=(1, 2), score=0.22388478443841767, total=  16.8s\n",
      "[CV] clf__estimator__C=0.1, clf__estimator__class_weight=None, tfidf__max_df=0.75, tfidf__ngram_range=(1, 3) \n",
      "[CV]  clf__estimator__C=0.1, clf__estimator__class_weight=None, tfidf__max_df=0.75, tfidf__ngram_range=(1, 3), score=0.21750910959544054, total=  27.4s\n",
      "[CV] clf__estimator__C=0.1, clf__estimator__class_weight=None, tfidf__max_df=0.75, tfidf__ngram_range=(1, 3) \n"
     ]
    },
    {
     "name": "stderr",
     "output_type": "stream",
     "text": [
      "/Users/v824975/anaconda3/lib/python3.6/site-packages/sklearn/linear_model/sag.py:326: ConvergenceWarning:\n",
      "\n",
      "The max_iter was reached which means the coef_ did not converge\n",
      "\n"
     ]
    },
    {
     "name": "stdout",
     "output_type": "stream",
     "text": [
      "[CV]  clf__estimator__C=0.1, clf__estimator__class_weight=None, tfidf__max_df=0.75, tfidf__ngram_range=(1, 3), score=0.21630973534087722, total=  26.6s\n",
      "[CV] clf__estimator__C=1, clf__estimator__class_weight=balanced, tfidf__max_df=0.25, tfidf__ngram_range=(1, 1) \n"
     ]
    },
    {
     "name": "stderr",
     "output_type": "stream",
     "text": [
      "/Users/v824975/anaconda3/lib/python3.6/site-packages/sklearn/linear_model/sag.py:326: ConvergenceWarning:\n",
      "\n",
      "The max_iter was reached which means the coef_ did not converge\n",
      "\n",
      "/Users/v824975/anaconda3/lib/python3.6/site-packages/sklearn/linear_model/sag.py:326: ConvergenceWarning:\n",
      "\n",
      "The max_iter was reached which means the coef_ did not converge\n",
      "\n",
      "/Users/v824975/anaconda3/lib/python3.6/site-packages/sklearn/linear_model/sag.py:326: ConvergenceWarning:\n",
      "\n",
      "The max_iter was reached which means the coef_ did not converge\n",
      "\n"
     ]
    },
    {
     "name": "stdout",
     "output_type": "stream",
     "text": [
      "[CV]  clf__estimator__C=0.1, clf__estimator__class_weight=balanced, tfidf__max_df=0.75, tfidf__ngram_range=(1, 3), score=0.0007474539848640568, total=12.6min\n",
      "[CV] clf__estimator__C=1, clf__estimator__class_weight=balanced, tfidf__max_df=0.25, tfidf__ngram_range=(1, 1) \n"
     ]
    },
    {
     "name": "stderr",
     "output_type": "stream",
     "text": [
      "/Users/v824975/anaconda3/lib/python3.6/site-packages/sklearn/linear_model/sag.py:326: ConvergenceWarning:\n",
      "\n",
      "The max_iter was reached which means the coef_ did not converge\n",
      "\n",
      "/Users/v824975/anaconda3/lib/python3.6/site-packages/sklearn/linear_model/sag.py:326: ConvergenceWarning:\n",
      "\n",
      "The max_iter was reached which means the coef_ did not converge\n",
      "\n",
      "/Users/v824975/anaconda3/lib/python3.6/site-packages/sklearn/linear_model/sag.py:326: ConvergenceWarning:\n",
      "\n",
      "The max_iter was reached which means the coef_ did not converge\n",
      "\n",
      "/Users/v824975/anaconda3/lib/python3.6/site-packages/sklearn/linear_model/sag.py:326: ConvergenceWarning:\n",
      "\n",
      "The max_iter was reached which means the coef_ did not converge\n",
      "\n"
     ]
    },
    {
     "name": "stdout",
     "output_type": "stream",
     "text": [
      "[CV]  clf__estimator__C=0.1, clf__estimator__class_weight=balanced, tfidf__max_df=0.75, tfidf__ngram_range=(1, 3), score=0.21733844571214814, total=12.3min\n",
      "[CV] clf__estimator__C=1, clf__estimator__class_weight=balanced, tfidf__max_df=0.25, tfidf__ngram_range=(1, 2) \n"
     ]
    },
    {
     "name": "stderr",
     "output_type": "stream",
     "text": [
      "/Users/v824975/anaconda3/lib/python3.6/site-packages/sklearn/linear_model/sag.py:326: ConvergenceWarning:\n",
      "\n",
      "The max_iter was reached which means the coef_ did not converge\n",
      "\n",
      "/Users/v824975/anaconda3/lib/python3.6/site-packages/sklearn/linear_model/sag.py:326: ConvergenceWarning:\n",
      "\n",
      "The max_iter was reached which means the coef_ did not converge\n",
      "\n",
      "/Users/v824975/anaconda3/lib/python3.6/site-packages/sklearn/linear_model/sag.py:326: ConvergenceWarning:\n",
      "\n",
      "The max_iter was reached which means the coef_ did not converge\n",
      "\n",
      "/Users/v824975/anaconda3/lib/python3.6/site-packages/sklearn/linear_model/sag.py:326: ConvergenceWarning:\n",
      "\n",
      "The max_iter was reached which means the coef_ did not converge\n",
      "\n",
      "/Users/v824975/anaconda3/lib/python3.6/site-packages/sklearn/linear_model/sag.py:326: ConvergenceWarning:\n",
      "\n",
      "The max_iter was reached which means the coef_ did not converge\n",
      "\n",
      "/Users/v824975/anaconda3/lib/python3.6/site-packages/sklearn/linear_model/sag.py:326: ConvergenceWarning:\n",
      "\n",
      "The max_iter was reached which means the coef_ did not converge\n",
      "\n",
      "/Users/v824975/anaconda3/lib/python3.6/site-packages/sklearn/linear_model/sag.py:326: ConvergenceWarning:\n",
      "\n",
      "The max_iter was reached which means the coef_ did not converge\n",
      "\n",
      "/Users/v824975/anaconda3/lib/python3.6/site-packages/sklearn/linear_model/sag.py:326: ConvergenceWarning:\n",
      "\n",
      "The max_iter was reached which means the coef_ did not converge\n",
      "\n",
      "/Users/v824975/anaconda3/lib/python3.6/site-packages/sklearn/linear_model/sag.py:326: ConvergenceWarning:\n",
      "\n",
      "The max_iter was reached which means the coef_ did not converge\n",
      "\n",
      "/Users/v824975/anaconda3/lib/python3.6/site-packages/sklearn/linear_model/sag.py:326: ConvergenceWarning:\n",
      "\n",
      "The max_iter was reached which means the coef_ did not converge\n",
      "\n",
      "/Users/v824975/anaconda3/lib/python3.6/site-packages/sklearn/linear_model/sag.py:326: ConvergenceWarning:\n",
      "\n",
      "The max_iter was reached which means the coef_ did not converge\n",
      "\n",
      "/Users/v824975/anaconda3/lib/python3.6/site-packages/sklearn/linear_model/sag.py:326: ConvergenceWarning:\n",
      "\n",
      "The max_iter was reached which means the coef_ did not converge\n",
      "\n",
      "/Users/v824975/anaconda3/lib/python3.6/site-packages/sklearn/linear_model/sag.py:326: ConvergenceWarning:\n",
      "\n",
      "The max_iter was reached which means the coef_ did not converge\n",
      "\n",
      "/Users/v824975/anaconda3/lib/python3.6/site-packages/sklearn/linear_model/sag.py:326: ConvergenceWarning:\n",
      "\n",
      "The max_iter was reached which means the coef_ did not converge\n",
      "\n",
      "/Users/v824975/anaconda3/lib/python3.6/site-packages/sklearn/linear_model/sag.py:326: ConvergenceWarning:\n",
      "\n",
      "The max_iter was reached which means the coef_ did not converge\n",
      "\n",
      "/Users/v824975/anaconda3/lib/python3.6/site-packages/sklearn/linear_model/sag.py:326: ConvergenceWarning:\n",
      "\n",
      "The max_iter was reached which means the coef_ did not converge\n",
      "\n",
      "/Users/v824975/anaconda3/lib/python3.6/site-packages/sklearn/linear_model/sag.py:326: ConvergenceWarning:\n",
      "\n",
      "The max_iter was reached which means the coef_ did not converge\n",
      "\n",
      "/Users/v824975/anaconda3/lib/python3.6/site-packages/sklearn/linear_model/sag.py:326: ConvergenceWarning:\n",
      "\n",
      "The max_iter was reached which means the coef_ did not converge\n",
      "\n",
      "/Users/v824975/anaconda3/lib/python3.6/site-packages/sklearn/linear_model/sag.py:326: ConvergenceWarning:\n",
      "\n",
      "The max_iter was reached which means the coef_ did not converge\n",
      "\n",
      "/Users/v824975/anaconda3/lib/python3.6/site-packages/sklearn/linear_model/sag.py:326: ConvergenceWarning:\n",
      "\n",
      "The max_iter was reached which means the coef_ did not converge\n",
      "\n",
      "/Users/v824975/anaconda3/lib/python3.6/site-packages/sklearn/linear_model/sag.py:326: ConvergenceWarning:\n",
      "\n",
      "The max_iter was reached which means the coef_ did not converge\n",
      "\n",
      "/Users/v824975/anaconda3/lib/python3.6/site-packages/sklearn/linear_model/sag.py:326: ConvergenceWarning:\n",
      "\n",
      "The max_iter was reached which means the coef_ did not converge\n",
      "\n",
      "/Users/v824975/anaconda3/lib/python3.6/site-packages/sklearn/linear_model/sag.py:326: ConvergenceWarning:\n",
      "\n",
      "The max_iter was reached which means the coef_ did not converge\n",
      "\n",
      "/Users/v824975/anaconda3/lib/python3.6/site-packages/sklearn/linear_model/sag.py:326: ConvergenceWarning:\n",
      "\n",
      "The max_iter was reached which means the coef_ did not converge\n",
      "\n",
      "/Users/v824975/anaconda3/lib/python3.6/site-packages/sklearn/linear_model/sag.py:326: ConvergenceWarning:\n",
      "\n",
      "The max_iter was reached which means the coef_ did not converge\n",
      "\n",
      "/Users/v824975/anaconda3/lib/python3.6/site-packages/sklearn/linear_model/sag.py:326: ConvergenceWarning:\n",
      "\n",
      "The max_iter was reached which means the coef_ did not converge\n",
      "\n",
      "/Users/v824975/anaconda3/lib/python3.6/site-packages/sklearn/linear_model/sag.py:326: ConvergenceWarning:\n",
      "\n",
      "The max_iter was reached which means the coef_ did not converge\n",
      "\n",
      "/Users/v824975/anaconda3/lib/python3.6/site-packages/sklearn/linear_model/sag.py:326: ConvergenceWarning:\n",
      "\n",
      "The max_iter was reached which means the coef_ did not converge\n",
      "\n",
      "/Users/v824975/anaconda3/lib/python3.6/site-packages/sklearn/linear_model/sag.py:326: ConvergenceWarning:\n",
      "\n",
      "The max_iter was reached which means the coef_ did not converge\n",
      "\n",
      "/Users/v824975/anaconda3/lib/python3.6/site-packages/sklearn/linear_model/sag.py:326: ConvergenceWarning:\n",
      "\n",
      "The max_iter was reached which means the coef_ did not converge\n",
      "\n",
      "/Users/v824975/anaconda3/lib/python3.6/site-packages/sklearn/linear_model/sag.py:326: ConvergenceWarning:\n",
      "\n",
      "The max_iter was reached which means the coef_ did not converge\n",
      "\n",
      "/Users/v824975/anaconda3/lib/python3.6/site-packages/sklearn/linear_model/sag.py:326: ConvergenceWarning:\n",
      "\n",
      "The max_iter was reached which means the coef_ did not converge\n",
      "\n",
      "/Users/v824975/anaconda3/lib/python3.6/site-packages/sklearn/linear_model/sag.py:326: ConvergenceWarning:\n",
      "\n",
      "The max_iter was reached which means the coef_ did not converge\n",
      "\n",
      "/Users/v824975/anaconda3/lib/python3.6/site-packages/sklearn/linear_model/sag.py:326: ConvergenceWarning:\n",
      "\n",
      "The max_iter was reached which means the coef_ did not converge\n",
      "\n",
      "/Users/v824975/anaconda3/lib/python3.6/site-packages/sklearn/linear_model/sag.py:326: ConvergenceWarning:\n",
      "\n",
      "The max_iter was reached which means the coef_ did not converge\n",
      "\n",
      "/Users/v824975/anaconda3/lib/python3.6/site-packages/sklearn/linear_model/sag.py:326: ConvergenceWarning:\n",
      "\n",
      "The max_iter was reached which means the coef_ did not converge\n",
      "\n",
      "/Users/v824975/anaconda3/lib/python3.6/site-packages/sklearn/linear_model/sag.py:326: ConvergenceWarning:\n",
      "\n",
      "The max_iter was reached which means the coef_ did not converge\n",
      "\n"
     ]
    },
    {
     "name": "stdout",
     "output_type": "stream",
     "text": [
      "[CV]  clf__estimator__C=1, clf__estimator__class_weight=balanced, tfidf__max_df=0.25, tfidf__ngram_range=(1, 1), score=0.15565729234793982, total=12.3min\n",
      "[CV] clf__estimator__C=1, clf__estimator__class_weight=balanced, tfidf__max_df=0.25, tfidf__ngram_range=(1, 2) \n"
     ]
    },
    {
     "name": "stderr",
     "output_type": "stream",
     "text": [
      "/Users/v824975/anaconda3/lib/python3.6/site-packages/sklearn/linear_model/sag.py:326: ConvergenceWarning:\n",
      "\n",
      "The max_iter was reached which means the coef_ did not converge\n",
      "\n",
      "/Users/v824975/anaconda3/lib/python3.6/site-packages/sklearn/linear_model/sag.py:326: ConvergenceWarning:\n",
      "\n",
      "The max_iter was reached which means the coef_ did not converge\n",
      "\n",
      "/Users/v824975/anaconda3/lib/python3.6/site-packages/sklearn/linear_model/sag.py:326: ConvergenceWarning:\n",
      "\n",
      "The max_iter was reached which means the coef_ did not converge\n",
      "\n"
     ]
    },
    {
     "name": "stdout",
     "output_type": "stream",
     "text": [
      "[CV]  clf__estimator__C=1, clf__estimator__class_weight=balanced, tfidf__max_df=0.25, tfidf__ngram_range=(1, 1), score=0.2044328065089311, total=12.3min\n",
      "[CV] clf__estimator__C=1, clf__estimator__class_weight=balanced, tfidf__max_df=0.25, tfidf__ngram_range=(1, 3) \n"
     ]
    },
    {
     "name": "stderr",
     "output_type": "stream",
     "text": [
      "/Users/v824975/anaconda3/lib/python3.6/site-packages/sklearn/linear_model/sag.py:326: ConvergenceWarning:\n",
      "\n",
      "The max_iter was reached which means the coef_ did not converge\n",
      "\n",
      "/Users/v824975/anaconda3/lib/python3.6/site-packages/sklearn/linear_model/sag.py:326: ConvergenceWarning:\n",
      "\n",
      "The max_iter was reached which means the coef_ did not converge\n",
      "\n",
      "/Users/v824975/anaconda3/lib/python3.6/site-packages/sklearn/linear_model/sag.py:326: ConvergenceWarning:\n",
      "\n",
      "The max_iter was reached which means the coef_ did not converge\n",
      "\n",
      "/Users/v824975/anaconda3/lib/python3.6/site-packages/sklearn/linear_model/sag.py:326: ConvergenceWarning:\n",
      "\n",
      "The max_iter was reached which means the coef_ did not converge\n",
      "\n",
      "/Users/v824975/anaconda3/lib/python3.6/site-packages/sklearn/linear_model/sag.py:326: ConvergenceWarning:\n",
      "\n",
      "The max_iter was reached which means the coef_ did not converge\n",
      "\n",
      "/Users/v824975/anaconda3/lib/python3.6/site-packages/sklearn/linear_model/sag.py:326: ConvergenceWarning:\n",
      "\n",
      "The max_iter was reached which means the coef_ did not converge\n",
      "\n",
      "/Users/v824975/anaconda3/lib/python3.6/site-packages/sklearn/linear_model/sag.py:326: ConvergenceWarning:\n",
      "\n",
      "The max_iter was reached which means the coef_ did not converge\n",
      "\n",
      "/Users/v824975/anaconda3/lib/python3.6/site-packages/sklearn/linear_model/sag.py:326: ConvergenceWarning:\n",
      "\n",
      "The max_iter was reached which means the coef_ did not converge\n",
      "\n",
      "/Users/v824975/anaconda3/lib/python3.6/site-packages/sklearn/linear_model/sag.py:326: ConvergenceWarning:\n",
      "\n",
      "The max_iter was reached which means the coef_ did not converge\n",
      "\n",
      "/Users/v824975/anaconda3/lib/python3.6/site-packages/sklearn/linear_model/sag.py:326: ConvergenceWarning:\n",
      "\n",
      "The max_iter was reached which means the coef_ did not converge\n",
      "\n",
      "/Users/v824975/anaconda3/lib/python3.6/site-packages/sklearn/linear_model/sag.py:326: ConvergenceWarning:\n",
      "\n",
      "The max_iter was reached which means the coef_ did not converge\n",
      "\n",
      "/Users/v824975/anaconda3/lib/python3.6/site-packages/sklearn/linear_model/sag.py:326: ConvergenceWarning:\n",
      "\n",
      "The max_iter was reached which means the coef_ did not converge\n",
      "\n",
      "/Users/v824975/anaconda3/lib/python3.6/site-packages/sklearn/linear_model/sag.py:326: ConvergenceWarning:\n",
      "\n",
      "The max_iter was reached which means the coef_ did not converge\n",
      "\n",
      "/Users/v824975/anaconda3/lib/python3.6/site-packages/sklearn/linear_model/sag.py:326: ConvergenceWarning:\n",
      "\n",
      "The max_iter was reached which means the coef_ did not converge\n",
      "\n",
      "/Users/v824975/anaconda3/lib/python3.6/site-packages/sklearn/linear_model/sag.py:326: ConvergenceWarning:\n",
      "\n",
      "The max_iter was reached which means the coef_ did not converge\n",
      "\n",
      "/Users/v824975/anaconda3/lib/python3.6/site-packages/sklearn/linear_model/sag.py:326: ConvergenceWarning:\n",
      "\n",
      "The max_iter was reached which means the coef_ did not converge\n",
      "\n",
      "/Users/v824975/anaconda3/lib/python3.6/site-packages/sklearn/linear_model/sag.py:326: ConvergenceWarning:\n",
      "\n",
      "The max_iter was reached which means the coef_ did not converge\n",
      "\n",
      "/Users/v824975/anaconda3/lib/python3.6/site-packages/sklearn/linear_model/sag.py:326: ConvergenceWarning:\n",
      "\n",
      "The max_iter was reached which means the coef_ did not converge\n",
      "\n",
      "/Users/v824975/anaconda3/lib/python3.6/site-packages/sklearn/linear_model/sag.py:326: ConvergenceWarning:\n",
      "\n",
      "The max_iter was reached which means the coef_ did not converge\n",
      "\n",
      "/Users/v824975/anaconda3/lib/python3.6/site-packages/sklearn/linear_model/sag.py:326: ConvergenceWarning:\n",
      "\n",
      "The max_iter was reached which means the coef_ did not converge\n",
      "\n",
      "/Users/v824975/anaconda3/lib/python3.6/site-packages/sklearn/linear_model/sag.py:326: ConvergenceWarning:\n",
      "\n",
      "The max_iter was reached which means the coef_ did not converge\n",
      "\n",
      "/Users/v824975/anaconda3/lib/python3.6/site-packages/sklearn/linear_model/sag.py:326: ConvergenceWarning:\n",
      "\n",
      "The max_iter was reached which means the coef_ did not converge\n",
      "\n",
      "/Users/v824975/anaconda3/lib/python3.6/site-packages/sklearn/linear_model/sag.py:326: ConvergenceWarning:\n",
      "\n",
      "The max_iter was reached which means the coef_ did not converge\n",
      "\n",
      "/Users/v824975/anaconda3/lib/python3.6/site-packages/sklearn/linear_model/sag.py:326: ConvergenceWarning:\n",
      "\n",
      "The max_iter was reached which means the coef_ did not converge\n",
      "\n",
      "/Users/v824975/anaconda3/lib/python3.6/site-packages/sklearn/linear_model/sag.py:326: ConvergenceWarning:\n",
      "\n",
      "The max_iter was reached which means the coef_ did not converge\n",
      "\n",
      "/Users/v824975/anaconda3/lib/python3.6/site-packages/sklearn/linear_model/sag.py:326: ConvergenceWarning:\n",
      "\n",
      "The max_iter was reached which means the coef_ did not converge\n",
      "\n",
      "/Users/v824975/anaconda3/lib/python3.6/site-packages/sklearn/linear_model/sag.py:326: ConvergenceWarning:\n",
      "\n",
      "The max_iter was reached which means the coef_ did not converge\n",
      "\n",
      "/Users/v824975/anaconda3/lib/python3.6/site-packages/sklearn/linear_model/sag.py:326: ConvergenceWarning:\n",
      "\n",
      "The max_iter was reached which means the coef_ did not converge\n",
      "\n",
      "/Users/v824975/anaconda3/lib/python3.6/site-packages/sklearn/linear_model/sag.py:326: ConvergenceWarning:\n",
      "\n",
      "The max_iter was reached which means the coef_ did not converge\n",
      "\n",
      "/Users/v824975/anaconda3/lib/python3.6/site-packages/sklearn/linear_model/sag.py:326: ConvergenceWarning:\n",
      "\n",
      "The max_iter was reached which means the coef_ did not converge\n",
      "\n",
      "/Users/v824975/anaconda3/lib/python3.6/site-packages/sklearn/linear_model/sag.py:326: ConvergenceWarning:\n",
      "\n",
      "The max_iter was reached which means the coef_ did not converge\n",
      "\n",
      "/Users/v824975/anaconda3/lib/python3.6/site-packages/sklearn/linear_model/sag.py:326: ConvergenceWarning:\n",
      "\n",
      "The max_iter was reached which means the coef_ did not converge\n",
      "\n",
      "/Users/v824975/anaconda3/lib/python3.6/site-packages/sklearn/linear_model/sag.py:326: ConvergenceWarning:\n",
      "\n",
      "The max_iter was reached which means the coef_ did not converge\n",
      "\n",
      "/Users/v824975/anaconda3/lib/python3.6/site-packages/sklearn/linear_model/sag.py:326: ConvergenceWarning:\n",
      "\n",
      "The max_iter was reached which means the coef_ did not converge\n",
      "\n",
      "/Users/v824975/anaconda3/lib/python3.6/site-packages/sklearn/linear_model/sag.py:326: ConvergenceWarning:\n",
      "\n",
      "The max_iter was reached which means the coef_ did not converge\n",
      "\n",
      "/Users/v824975/anaconda3/lib/python3.6/site-packages/sklearn/linear_model/sag.py:326: ConvergenceWarning:\n",
      "\n",
      "The max_iter was reached which means the coef_ did not converge\n",
      "\n",
      "/Users/v824975/anaconda3/lib/python3.6/site-packages/sklearn/linear_model/sag.py:326: ConvergenceWarning:\n",
      "\n",
      "The max_iter was reached which means the coef_ did not converge\n",
      "\n",
      "/Users/v824975/anaconda3/lib/python3.6/site-packages/sklearn/linear_model/sag.py:326: ConvergenceWarning:\n",
      "\n",
      "The max_iter was reached which means the coef_ did not converge\n",
      "\n",
      "/Users/v824975/anaconda3/lib/python3.6/site-packages/sklearn/linear_model/sag.py:326: ConvergenceWarning:\n",
      "\n",
      "The max_iter was reached which means the coef_ did not converge\n",
      "\n"
     ]
    },
    {
     "name": "stdout",
     "output_type": "stream",
     "text": [
      "[CV]  clf__estimator__C=1, clf__estimator__class_weight=balanced, tfidf__max_df=0.25, tfidf__ngram_range=(1, 2), score=0.32925348033261703, total=38.7min\n",
      "[CV] clf__estimator__C=1, clf__estimator__class_weight=balanced, tfidf__max_df=0.25, tfidf__ngram_range=(1, 3) \n"
     ]
    },
    {
     "name": "stderr",
     "output_type": "stream",
     "text": [
      "/Users/v824975/anaconda3/lib/python3.6/site-packages/sklearn/linear_model/sag.py:326: ConvergenceWarning:\n",
      "\n",
      "The max_iter was reached which means the coef_ did not converge\n",
      "\n",
      "/Users/v824975/anaconda3/lib/python3.6/site-packages/sklearn/linear_model/sag.py:326: ConvergenceWarning:\n",
      "\n",
      "The max_iter was reached which means the coef_ did not converge\n",
      "\n",
      "/Users/v824975/anaconda3/lib/python3.6/site-packages/sklearn/linear_model/sag.py:326: ConvergenceWarning:\n",
      "\n",
      "The max_iter was reached which means the coef_ did not converge\n",
      "\n",
      "/Users/v824975/anaconda3/lib/python3.6/site-packages/sklearn/linear_model/sag.py:326: ConvergenceWarning:\n",
      "\n",
      "The max_iter was reached which means the coef_ did not converge\n",
      "\n",
      "/Users/v824975/anaconda3/lib/python3.6/site-packages/sklearn/linear_model/sag.py:326: ConvergenceWarning:\n",
      "\n",
      "The max_iter was reached which means the coef_ did not converge\n",
      "\n",
      "/Users/v824975/anaconda3/lib/python3.6/site-packages/sklearn/linear_model/sag.py:326: ConvergenceWarning:\n",
      "\n",
      "The max_iter was reached which means the coef_ did not converge\n",
      "\n",
      "/Users/v824975/anaconda3/lib/python3.6/site-packages/sklearn/linear_model/sag.py:326: ConvergenceWarning:\n",
      "\n",
      "The max_iter was reached which means the coef_ did not converge\n",
      "\n",
      "/Users/v824975/anaconda3/lib/python3.6/site-packages/sklearn/linear_model/sag.py:326: ConvergenceWarning:\n",
      "\n",
      "The max_iter was reached which means the coef_ did not converge\n",
      "\n",
      "/Users/v824975/anaconda3/lib/python3.6/site-packages/sklearn/linear_model/sag.py:326: ConvergenceWarning:\n",
      "\n",
      "The max_iter was reached which means the coef_ did not converge\n",
      "\n",
      "/Users/v824975/anaconda3/lib/python3.6/site-packages/sklearn/linear_model/sag.py:326: ConvergenceWarning:\n",
      "\n",
      "The max_iter was reached which means the coef_ did not converge\n",
      "\n",
      "/Users/v824975/anaconda3/lib/python3.6/site-packages/sklearn/linear_model/sag.py:326: ConvergenceWarning:\n",
      "\n",
      "The max_iter was reached which means the coef_ did not converge\n",
      "\n"
     ]
    },
    {
     "name": "stdout",
     "output_type": "stream",
     "text": [
      "[CV]  clf__estimator__C=1, clf__estimator__class_weight=balanced, tfidf__max_df=0.25, tfidf__ngram_range=(1, 2), score=0.24819975685027587, total=38.7min\n",
      "[CV] clf__estimator__C=1, clf__estimator__class_weight=balanced, tfidf__max_df=0.5, tfidf__ngram_range=(1, 1) \n"
     ]
    },
    {
     "name": "stderr",
     "output_type": "stream",
     "text": [
      "/Users/v824975/anaconda3/lib/python3.6/site-packages/sklearn/linear_model/sag.py:326: ConvergenceWarning:\n",
      "\n",
      "The max_iter was reached which means the coef_ did not converge\n",
      "\n",
      "/Users/v824975/anaconda3/lib/python3.6/site-packages/sklearn/linear_model/sag.py:326: ConvergenceWarning:\n",
      "\n",
      "The max_iter was reached which means the coef_ did not converge\n",
      "\n",
      "/Users/v824975/anaconda3/lib/python3.6/site-packages/sklearn/linear_model/sag.py:326: ConvergenceWarning:\n",
      "\n",
      "The max_iter was reached which means the coef_ did not converge\n",
      "\n",
      "/Users/v824975/anaconda3/lib/python3.6/site-packages/sklearn/linear_model/sag.py:326: ConvergenceWarning:\n",
      "\n",
      "The max_iter was reached which means the coef_ did not converge\n",
      "\n",
      "/Users/v824975/anaconda3/lib/python3.6/site-packages/sklearn/linear_model/sag.py:326: ConvergenceWarning:\n",
      "\n",
      "The max_iter was reached which means the coef_ did not converge\n",
      "\n",
      "/Users/v824975/anaconda3/lib/python3.6/site-packages/sklearn/linear_model/sag.py:326: ConvergenceWarning:\n",
      "\n",
      "The max_iter was reached which means the coef_ did not converge\n",
      "\n",
      "/Users/v824975/anaconda3/lib/python3.6/site-packages/sklearn/linear_model/sag.py:326: ConvergenceWarning:\n",
      "\n",
      "The max_iter was reached which means the coef_ did not converge\n",
      "\n",
      "/Users/v824975/anaconda3/lib/python3.6/site-packages/sklearn/linear_model/sag.py:326: ConvergenceWarning:\n",
      "\n",
      "The max_iter was reached which means the coef_ did not converge\n",
      "\n",
      "/Users/v824975/anaconda3/lib/python3.6/site-packages/sklearn/linear_model/sag.py:326: ConvergenceWarning:\n",
      "\n",
      "The max_iter was reached which means the coef_ did not converge\n",
      "\n",
      "/Users/v824975/anaconda3/lib/python3.6/site-packages/sklearn/linear_model/sag.py:326: ConvergenceWarning:\n",
      "\n",
      "The max_iter was reached which means the coef_ did not converge\n",
      "\n",
      "/Users/v824975/anaconda3/lib/python3.6/site-packages/sklearn/linear_model/sag.py:326: ConvergenceWarning:\n",
      "\n",
      "The max_iter was reached which means the coef_ did not converge\n",
      "\n",
      "/Users/v824975/anaconda3/lib/python3.6/site-packages/sklearn/linear_model/sag.py:326: ConvergenceWarning:\n",
      "\n",
      "The max_iter was reached which means the coef_ did not converge\n",
      "\n",
      "/Users/v824975/anaconda3/lib/python3.6/site-packages/sklearn/linear_model/sag.py:326: ConvergenceWarning:\n",
      "\n",
      "The max_iter was reached which means the coef_ did not converge\n",
      "\n",
      "/Users/v824975/anaconda3/lib/python3.6/site-packages/sklearn/linear_model/sag.py:326: ConvergenceWarning:\n",
      "\n",
      "The max_iter was reached which means the coef_ did not converge\n",
      "\n",
      "/Users/v824975/anaconda3/lib/python3.6/site-packages/sklearn/linear_model/sag.py:326: ConvergenceWarning:\n",
      "\n",
      "The max_iter was reached which means the coef_ did not converge\n",
      "\n",
      "/Users/v824975/anaconda3/lib/python3.6/site-packages/sklearn/linear_model/sag.py:326: ConvergenceWarning:\n",
      "\n",
      "The max_iter was reached which means the coef_ did not converge\n",
      "\n",
      "/Users/v824975/anaconda3/lib/python3.6/site-packages/sklearn/linear_model/sag.py:326: ConvergenceWarning:\n",
      "\n",
      "The max_iter was reached which means the coef_ did not converge\n",
      "\n",
      "/Users/v824975/anaconda3/lib/python3.6/site-packages/sklearn/linear_model/sag.py:326: ConvergenceWarning:\n",
      "\n",
      "The max_iter was reached which means the coef_ did not converge\n",
      "\n",
      "/Users/v824975/anaconda3/lib/python3.6/site-packages/sklearn/linear_model/sag.py:326: ConvergenceWarning:\n",
      "\n",
      "The max_iter was reached which means the coef_ did not converge\n",
      "\n",
      "/Users/v824975/anaconda3/lib/python3.6/site-packages/sklearn/linear_model/sag.py:326: ConvergenceWarning:\n",
      "\n",
      "The max_iter was reached which means the coef_ did not converge\n",
      "\n",
      "/Users/v824975/anaconda3/lib/python3.6/site-packages/sklearn/linear_model/sag.py:326: ConvergenceWarning:\n",
      "\n",
      "The max_iter was reached which means the coef_ did not converge\n",
      "\n",
      "/Users/v824975/anaconda3/lib/python3.6/site-packages/sklearn/linear_model/sag.py:326: ConvergenceWarning:\n",
      "\n",
      "The max_iter was reached which means the coef_ did not converge\n",
      "\n",
      "/Users/v824975/anaconda3/lib/python3.6/site-packages/sklearn/linear_model/sag.py:326: ConvergenceWarning:\n",
      "\n",
      "The max_iter was reached which means the coef_ did not converge\n",
      "\n",
      "/Users/v824975/anaconda3/lib/python3.6/site-packages/sklearn/linear_model/sag.py:326: ConvergenceWarning:\n",
      "\n",
      "The max_iter was reached which means the coef_ did not converge\n",
      "\n",
      "/Users/v824975/anaconda3/lib/python3.6/site-packages/sklearn/linear_model/sag.py:326: ConvergenceWarning:\n",
      "\n",
      "The max_iter was reached which means the coef_ did not converge\n",
      "\n",
      "/Users/v824975/anaconda3/lib/python3.6/site-packages/sklearn/linear_model/sag.py:326: ConvergenceWarning:\n",
      "\n",
      "The max_iter was reached which means the coef_ did not converge\n",
      "\n",
      "/Users/v824975/anaconda3/lib/python3.6/site-packages/sklearn/linear_model/sag.py:326: ConvergenceWarning:\n",
      "\n",
      "The max_iter was reached which means the coef_ did not converge\n",
      "\n",
      "/Users/v824975/anaconda3/lib/python3.6/site-packages/sklearn/linear_model/sag.py:326: ConvergenceWarning:\n",
      "\n",
      "The max_iter was reached which means the coef_ did not converge\n",
      "\n"
     ]
    },
    {
     "name": "stdout",
     "output_type": "stream",
     "text": [
      "[CV]  clf__estimator__C=1, clf__estimator__class_weight=balanced, tfidf__max_df=0.5, tfidf__ngram_range=(1, 1), score=0.19779501074465103, total=12.1min\n",
      "[CV] clf__estimator__C=1, clf__estimator__class_weight=balanced, tfidf__max_df=0.5, tfidf__ngram_range=(1, 1) \n"
     ]
    },
    {
     "name": "stderr",
     "output_type": "stream",
     "text": [
      "/Users/v824975/anaconda3/lib/python3.6/site-packages/sklearn/linear_model/sag.py:326: ConvergenceWarning:\n",
      "\n",
      "The max_iter was reached which means the coef_ did not converge\n",
      "\n",
      "/Users/v824975/anaconda3/lib/python3.6/site-packages/sklearn/linear_model/sag.py:326: ConvergenceWarning:\n",
      "\n",
      "The max_iter was reached which means the coef_ did not converge\n",
      "\n",
      "/Users/v824975/anaconda3/lib/python3.6/site-packages/sklearn/linear_model/sag.py:326: ConvergenceWarning:\n",
      "\n",
      "The max_iter was reached which means the coef_ did not converge\n",
      "\n",
      "/Users/v824975/anaconda3/lib/python3.6/site-packages/sklearn/linear_model/sag.py:326: ConvergenceWarning:\n",
      "\n",
      "The max_iter was reached which means the coef_ did not converge\n",
      "\n",
      "/Users/v824975/anaconda3/lib/python3.6/site-packages/sklearn/linear_model/sag.py:326: ConvergenceWarning:\n",
      "\n",
      "The max_iter was reached which means the coef_ did not converge\n",
      "\n",
      "/Users/v824975/anaconda3/lib/python3.6/site-packages/sklearn/linear_model/sag.py:326: ConvergenceWarning:\n",
      "\n",
      "The max_iter was reached which means the coef_ did not converge\n",
      "\n",
      "/Users/v824975/anaconda3/lib/python3.6/site-packages/sklearn/linear_model/sag.py:326: ConvergenceWarning:\n",
      "\n",
      "The max_iter was reached which means the coef_ did not converge\n",
      "\n",
      "/Users/v824975/anaconda3/lib/python3.6/site-packages/sklearn/linear_model/sag.py:326: ConvergenceWarning:\n",
      "\n",
      "The max_iter was reached which means the coef_ did not converge\n",
      "\n",
      "/Users/v824975/anaconda3/lib/python3.6/site-packages/sklearn/linear_model/sag.py:326: ConvergenceWarning:\n",
      "\n",
      "The max_iter was reached which means the coef_ did not converge\n",
      "\n",
      "/Users/v824975/anaconda3/lib/python3.6/site-packages/sklearn/linear_model/sag.py:326: ConvergenceWarning:\n",
      "\n",
      "The max_iter was reached which means the coef_ did not converge\n",
      "\n",
      "/Users/v824975/anaconda3/lib/python3.6/site-packages/sklearn/linear_model/sag.py:326: ConvergenceWarning:\n",
      "\n",
      "The max_iter was reached which means the coef_ did not converge\n",
      "\n",
      "/Users/v824975/anaconda3/lib/python3.6/site-packages/sklearn/linear_model/sag.py:326: ConvergenceWarning:\n",
      "\n",
      "The max_iter was reached which means the coef_ did not converge\n",
      "\n",
      "/Users/v824975/anaconda3/lib/python3.6/site-packages/sklearn/linear_model/sag.py:326: ConvergenceWarning:\n",
      "\n",
      "The max_iter was reached which means the coef_ did not converge\n",
      "\n",
      "/Users/v824975/anaconda3/lib/python3.6/site-packages/sklearn/linear_model/sag.py:326: ConvergenceWarning:\n",
      "\n",
      "The max_iter was reached which means the coef_ did not converge\n",
      "\n",
      "/Users/v824975/anaconda3/lib/python3.6/site-packages/sklearn/linear_model/sag.py:326: ConvergenceWarning:\n",
      "\n",
      "The max_iter was reached which means the coef_ did not converge\n",
      "\n",
      "/Users/v824975/anaconda3/lib/python3.6/site-packages/sklearn/linear_model/sag.py:326: ConvergenceWarning:\n",
      "\n",
      "The max_iter was reached which means the coef_ did not converge\n",
      "\n",
      "/Users/v824975/anaconda3/lib/python3.6/site-packages/sklearn/linear_model/sag.py:326: ConvergenceWarning:\n",
      "\n",
      "The max_iter was reached which means the coef_ did not converge\n",
      "\n",
      "/Users/v824975/anaconda3/lib/python3.6/site-packages/sklearn/linear_model/sag.py:326: ConvergenceWarning:\n",
      "\n",
      "The max_iter was reached which means the coef_ did not converge\n",
      "\n",
      "/Users/v824975/anaconda3/lib/python3.6/site-packages/sklearn/linear_model/sag.py:326: ConvergenceWarning:\n",
      "\n",
      "The max_iter was reached which means the coef_ did not converge\n",
      "\n",
      "/Users/v824975/anaconda3/lib/python3.6/site-packages/sklearn/linear_model/sag.py:326: ConvergenceWarning:\n",
      "\n",
      "The max_iter was reached which means the coef_ did not converge\n",
      "\n",
      "/Users/v824975/anaconda3/lib/python3.6/site-packages/sklearn/linear_model/sag.py:326: ConvergenceWarning:\n",
      "\n",
      "The max_iter was reached which means the coef_ did not converge\n",
      "\n",
      "/Users/v824975/anaconda3/lib/python3.6/site-packages/sklearn/linear_model/sag.py:326: ConvergenceWarning:\n",
      "\n",
      "The max_iter was reached which means the coef_ did not converge\n",
      "\n"
     ]
    },
    {
     "name": "stdout",
     "output_type": "stream",
     "text": [
      "[CV]  clf__estimator__C=1, clf__estimator__class_weight=balanced, tfidf__max_df=0.25, tfidf__ngram_range=(1, 3), score=0.3470989442212464, total=58.6min\n",
      "[CV] clf__estimator__C=1, clf__estimator__class_weight=balanced, tfidf__max_df=0.5, tfidf__ngram_range=(1, 2) \n"
     ]
    },
    {
     "name": "stderr",
     "output_type": "stream",
     "text": [
      "/Users/v824975/anaconda3/lib/python3.6/site-packages/sklearn/linear_model/sag.py:326: ConvergenceWarning:\n",
      "\n",
      "The max_iter was reached which means the coef_ did not converge\n",
      "\n",
      "/Users/v824975/anaconda3/lib/python3.6/site-packages/sklearn/linear_model/sag.py:326: ConvergenceWarning:\n",
      "\n",
      "The max_iter was reached which means the coef_ did not converge\n",
      "\n",
      "/Users/v824975/anaconda3/lib/python3.6/site-packages/sklearn/linear_model/sag.py:326: ConvergenceWarning:\n",
      "\n",
      "The max_iter was reached which means the coef_ did not converge\n",
      "\n",
      "/Users/v824975/anaconda3/lib/python3.6/site-packages/sklearn/linear_model/sag.py:326: ConvergenceWarning:\n",
      "\n",
      "The max_iter was reached which means the coef_ did not converge\n",
      "\n",
      "/Users/v824975/anaconda3/lib/python3.6/site-packages/sklearn/linear_model/sag.py:326: ConvergenceWarning:\n",
      "\n",
      "The max_iter was reached which means the coef_ did not converge\n",
      "\n",
      "/Users/v824975/anaconda3/lib/python3.6/site-packages/sklearn/linear_model/sag.py:326: ConvergenceWarning:\n",
      "\n",
      "The max_iter was reached which means the coef_ did not converge\n",
      "\n",
      "/Users/v824975/anaconda3/lib/python3.6/site-packages/sklearn/linear_model/sag.py:326: ConvergenceWarning:\n",
      "\n",
      "The max_iter was reached which means the coef_ did not converge\n",
      "\n"
     ]
    },
    {
     "name": "stdout",
     "output_type": "stream",
     "text": [
      "[CV]  clf__estimator__C=1, clf__estimator__class_weight=balanced, tfidf__max_df=0.5, tfidf__ngram_range=(1, 1), score=0.2002244458991864, total=12.3min\n",
      "[CV] clf__estimator__C=1, clf__estimator__class_weight=balanced, tfidf__max_df=0.5, tfidf__ngram_range=(1, 2) \n"
     ]
    },
    {
     "name": "stderr",
     "output_type": "stream",
     "text": [
      "[Parallel(n_jobs=3)]: Done  79 tasks      | elapsed: 154.0min\n",
      "/Users/v824975/anaconda3/lib/python3.6/site-packages/sklearn/linear_model/sag.py:326: ConvergenceWarning:\n",
      "\n",
      "The max_iter was reached which means the coef_ did not converge\n",
      "\n",
      "/Users/v824975/anaconda3/lib/python3.6/site-packages/sklearn/linear_model/sag.py:326: ConvergenceWarning:\n",
      "\n",
      "The max_iter was reached which means the coef_ did not converge\n",
      "\n",
      "/Users/v824975/anaconda3/lib/python3.6/site-packages/sklearn/linear_model/sag.py:326: ConvergenceWarning:\n",
      "\n",
      "The max_iter was reached which means the coef_ did not converge\n",
      "\n",
      "/Users/v824975/anaconda3/lib/python3.6/site-packages/sklearn/linear_model/sag.py:326: ConvergenceWarning:\n",
      "\n",
      "The max_iter was reached which means the coef_ did not converge\n",
      "\n",
      "/Users/v824975/anaconda3/lib/python3.6/site-packages/sklearn/linear_model/sag.py:326: ConvergenceWarning:\n",
      "\n",
      "The max_iter was reached which means the coef_ did not converge\n",
      "\n",
      "/Users/v824975/anaconda3/lib/python3.6/site-packages/sklearn/linear_model/sag.py:326: ConvergenceWarning:\n",
      "\n",
      "The max_iter was reached which means the coef_ did not converge\n",
      "\n",
      "/Users/v824975/anaconda3/lib/python3.6/site-packages/sklearn/linear_model/sag.py:326: ConvergenceWarning:\n",
      "\n",
      "The max_iter was reached which means the coef_ did not converge\n",
      "\n",
      "/Users/v824975/anaconda3/lib/python3.6/site-packages/sklearn/linear_model/sag.py:326: ConvergenceWarning:\n",
      "\n",
      "The max_iter was reached which means the coef_ did not converge\n",
      "\n",
      "/Users/v824975/anaconda3/lib/python3.6/site-packages/sklearn/linear_model/sag.py:326: ConvergenceWarning:\n",
      "\n",
      "The max_iter was reached which means the coef_ did not converge\n",
      "\n",
      "/Users/v824975/anaconda3/lib/python3.6/site-packages/sklearn/linear_model/sag.py:326: ConvergenceWarning:\n",
      "\n",
      "The max_iter was reached which means the coef_ did not converge\n",
      "\n",
      "/Users/v824975/anaconda3/lib/python3.6/site-packages/sklearn/linear_model/sag.py:326: ConvergenceWarning:\n",
      "\n",
      "The max_iter was reached which means the coef_ did not converge\n",
      "\n",
      "/Users/v824975/anaconda3/lib/python3.6/site-packages/sklearn/linear_model/sag.py:326: ConvergenceWarning:\n",
      "\n",
      "The max_iter was reached which means the coef_ did not converge\n",
      "\n",
      "/Users/v824975/anaconda3/lib/python3.6/site-packages/sklearn/linear_model/sag.py:326: ConvergenceWarning:\n",
      "\n",
      "The max_iter was reached which means the coef_ did not converge\n",
      "\n",
      "/Users/v824975/anaconda3/lib/python3.6/site-packages/sklearn/linear_model/sag.py:326: ConvergenceWarning:\n",
      "\n",
      "The max_iter was reached which means the coef_ did not converge\n",
      "\n",
      "/Users/v824975/anaconda3/lib/python3.6/site-packages/sklearn/linear_model/sag.py:326: ConvergenceWarning:\n",
      "\n",
      "The max_iter was reached which means the coef_ did not converge\n",
      "\n",
      "/Users/v824975/anaconda3/lib/python3.6/site-packages/sklearn/linear_model/sag.py:326: ConvergenceWarning:\n",
      "\n",
      "The max_iter was reached which means the coef_ did not converge\n",
      "\n",
      "/Users/v824975/anaconda3/lib/python3.6/site-packages/sklearn/linear_model/sag.py:326: ConvergenceWarning:\n",
      "\n",
      "The max_iter was reached which means the coef_ did not converge\n",
      "\n",
      "/Users/v824975/anaconda3/lib/python3.6/site-packages/sklearn/linear_model/sag.py:326: ConvergenceWarning:\n",
      "\n",
      "The max_iter was reached which means the coef_ did not converge\n",
      "\n",
      "/Users/v824975/anaconda3/lib/python3.6/site-packages/sklearn/linear_model/sag.py:326: ConvergenceWarning:\n",
      "\n",
      "The max_iter was reached which means the coef_ did not converge\n",
      "\n",
      "/Users/v824975/anaconda3/lib/python3.6/site-packages/sklearn/linear_model/sag.py:326: ConvergenceWarning:\n",
      "\n",
      "The max_iter was reached which means the coef_ did not converge\n",
      "\n",
      "/Users/v824975/anaconda3/lib/python3.6/site-packages/sklearn/linear_model/sag.py:326: ConvergenceWarning:\n",
      "\n",
      "The max_iter was reached which means the coef_ did not converge\n",
      "\n",
      "/Users/v824975/anaconda3/lib/python3.6/site-packages/sklearn/linear_model/sag.py:326: ConvergenceWarning:\n",
      "\n",
      "The max_iter was reached which means the coef_ did not converge\n",
      "\n",
      "/Users/v824975/anaconda3/lib/python3.6/site-packages/sklearn/linear_model/sag.py:326: ConvergenceWarning:\n",
      "\n",
      "The max_iter was reached which means the coef_ did not converge\n",
      "\n",
      "/Users/v824975/anaconda3/lib/python3.6/site-packages/sklearn/linear_model/sag.py:326: ConvergenceWarning:\n",
      "\n",
      "The max_iter was reached which means the coef_ did not converge\n",
      "\n",
      "/Users/v824975/anaconda3/lib/python3.6/site-packages/sklearn/linear_model/sag.py:326: ConvergenceWarning:\n",
      "\n",
      "The max_iter was reached which means the coef_ did not converge\n",
      "\n",
      "/Users/v824975/anaconda3/lib/python3.6/site-packages/sklearn/linear_model/sag.py:326: ConvergenceWarning:\n",
      "\n",
      "The max_iter was reached which means the coef_ did not converge\n",
      "\n",
      "/Users/v824975/anaconda3/lib/python3.6/site-packages/sklearn/linear_model/sag.py:326: ConvergenceWarning:\n",
      "\n",
      "The max_iter was reached which means the coef_ did not converge\n",
      "\n",
      "/Users/v824975/anaconda3/lib/python3.6/site-packages/sklearn/linear_model/sag.py:326: ConvergenceWarning:\n",
      "\n",
      "The max_iter was reached which means the coef_ did not converge\n",
      "\n",
      "/Users/v824975/anaconda3/lib/python3.6/site-packages/sklearn/linear_model/sag.py:326: ConvergenceWarning:\n",
      "\n",
      "The max_iter was reached which means the coef_ did not converge\n",
      "\n",
      "/Users/v824975/anaconda3/lib/python3.6/site-packages/sklearn/linear_model/sag.py:326: ConvergenceWarning:\n",
      "\n",
      "The max_iter was reached which means the coef_ did not converge\n",
      "\n",
      "/Users/v824975/anaconda3/lib/python3.6/site-packages/sklearn/linear_model/sag.py:326: ConvergenceWarning:\n",
      "\n",
      "The max_iter was reached which means the coef_ did not converge\n",
      "\n",
      "/Users/v824975/anaconda3/lib/python3.6/site-packages/sklearn/linear_model/sag.py:326: ConvergenceWarning:\n",
      "\n",
      "The max_iter was reached which means the coef_ did not converge\n",
      "\n",
      "/Users/v824975/anaconda3/lib/python3.6/site-packages/sklearn/linear_model/sag.py:326: ConvergenceWarning:\n",
      "\n",
      "The max_iter was reached which means the coef_ did not converge\n",
      "\n"
     ]
    },
    {
     "name": "stdout",
     "output_type": "stream",
     "text": [
      "[CV]  clf__estimator__C=1, clf__estimator__class_weight=balanced, tfidf__max_df=0.25, tfidf__ngram_range=(1, 3), score=0.356401384083045, total=57.9min\n",
      "[CV] clf__estimator__C=1, clf__estimator__class_weight=balanced, tfidf__max_df=0.5, tfidf__ngram_range=(1, 3) \n"
     ]
    },
    {
     "name": "stderr",
     "output_type": "stream",
     "text": [
      "/Users/v824975/anaconda3/lib/python3.6/site-packages/sklearn/linear_model/sag.py:326: ConvergenceWarning:\n",
      "\n",
      "The max_iter was reached which means the coef_ did not converge\n",
      "\n",
      "/Users/v824975/anaconda3/lib/python3.6/site-packages/sklearn/linear_model/sag.py:326: ConvergenceWarning:\n",
      "\n",
      "The max_iter was reached which means the coef_ did not converge\n",
      "\n",
      "/Users/v824975/anaconda3/lib/python3.6/site-packages/sklearn/linear_model/sag.py:326: ConvergenceWarning:\n",
      "\n",
      "The max_iter was reached which means the coef_ did not converge\n",
      "\n",
      "/Users/v824975/anaconda3/lib/python3.6/site-packages/sklearn/linear_model/sag.py:326: ConvergenceWarning:\n",
      "\n",
      "The max_iter was reached which means the coef_ did not converge\n",
      "\n",
      "/Users/v824975/anaconda3/lib/python3.6/site-packages/sklearn/linear_model/sag.py:326: ConvergenceWarning:\n",
      "\n",
      "The max_iter was reached which means the coef_ did not converge\n",
      "\n",
      "/Users/v824975/anaconda3/lib/python3.6/site-packages/sklearn/linear_model/sag.py:326: ConvergenceWarning:\n",
      "\n",
      "The max_iter was reached which means the coef_ did not converge\n",
      "\n",
      "/Users/v824975/anaconda3/lib/python3.6/site-packages/sklearn/linear_model/sag.py:326: ConvergenceWarning:\n",
      "\n",
      "The max_iter was reached which means the coef_ did not converge\n",
      "\n",
      "/Users/v824975/anaconda3/lib/python3.6/site-packages/sklearn/linear_model/sag.py:326: ConvergenceWarning:\n",
      "\n",
      "The max_iter was reached which means the coef_ did not converge\n",
      "\n",
      "/Users/v824975/anaconda3/lib/python3.6/site-packages/sklearn/linear_model/sag.py:326: ConvergenceWarning:\n",
      "\n",
      "The max_iter was reached which means the coef_ did not converge\n",
      "\n",
      "/Users/v824975/anaconda3/lib/python3.6/site-packages/sklearn/linear_model/sag.py:326: ConvergenceWarning:\n",
      "\n",
      "The max_iter was reached which means the coef_ did not converge\n",
      "\n",
      "/Users/v824975/anaconda3/lib/python3.6/site-packages/sklearn/linear_model/sag.py:326: ConvergenceWarning:\n",
      "\n",
      "The max_iter was reached which means the coef_ did not converge\n",
      "\n",
      "/Users/v824975/anaconda3/lib/python3.6/site-packages/sklearn/linear_model/sag.py:326: ConvergenceWarning:\n",
      "\n",
      "The max_iter was reached which means the coef_ did not converge\n",
      "\n",
      "/Users/v824975/anaconda3/lib/python3.6/site-packages/sklearn/linear_model/sag.py:326: ConvergenceWarning:\n",
      "\n",
      "The max_iter was reached which means the coef_ did not converge\n",
      "\n",
      "/Users/v824975/anaconda3/lib/python3.6/site-packages/sklearn/linear_model/sag.py:326: ConvergenceWarning:\n",
      "\n",
      "The max_iter was reached which means the coef_ did not converge\n",
      "\n",
      "/Users/v824975/anaconda3/lib/python3.6/site-packages/sklearn/linear_model/sag.py:326: ConvergenceWarning:\n",
      "\n",
      "The max_iter was reached which means the coef_ did not converge\n",
      "\n",
      "/Users/v824975/anaconda3/lib/python3.6/site-packages/sklearn/linear_model/sag.py:326: ConvergenceWarning:\n",
      "\n",
      "The max_iter was reached which means the coef_ did not converge\n",
      "\n"
     ]
    },
    {
     "name": "stdout",
     "output_type": "stream",
     "text": [
      "[CV]  clf__estimator__C=1, clf__estimator__class_weight=balanced, tfidf__max_df=0.5, tfidf__ngram_range=(1, 2), score=0.33336447724936935, total=38.7min\n",
      "[CV] clf__estimator__C=1, clf__estimator__class_weight=balanced, tfidf__max_df=0.5, tfidf__ngram_range=(1, 3) \n"
     ]
    },
    {
     "name": "stderr",
     "output_type": "stream",
     "text": [
      "/Users/v824975/anaconda3/lib/python3.6/site-packages/sklearn/linear_model/sag.py:326: ConvergenceWarning:\n",
      "\n",
      "The max_iter was reached which means the coef_ did not converge\n",
      "\n",
      "/Users/v824975/anaconda3/lib/python3.6/site-packages/sklearn/linear_model/sag.py:326: ConvergenceWarning:\n",
      "\n",
      "The max_iter was reached which means the coef_ did not converge\n",
      "\n",
      "/Users/v824975/anaconda3/lib/python3.6/site-packages/sklearn/linear_model/sag.py:326: ConvergenceWarning:\n",
      "\n",
      "The max_iter was reached which means the coef_ did not converge\n",
      "\n"
     ]
    },
    {
     "name": "stdout",
     "output_type": "stream",
     "text": [
      "[CV]  clf__estimator__C=1, clf__estimator__class_weight=balanced, tfidf__max_df=0.5, tfidf__ngram_range=(1, 2), score=0.12353876367717198, total=38.6min\n",
      "[CV] clf__estimator__C=1, clf__estimator__class_weight=balanced, tfidf__max_df=0.75, tfidf__ngram_range=(1, 1) \n"
     ]
    },
    {
     "name": "stderr",
     "output_type": "stream",
     "text": [
      "/Users/v824975/anaconda3/lib/python3.6/site-packages/sklearn/linear_model/sag.py:326: ConvergenceWarning:\n",
      "\n",
      "The max_iter was reached which means the coef_ did not converge\n",
      "\n",
      "/Users/v824975/anaconda3/lib/python3.6/site-packages/sklearn/linear_model/sag.py:326: ConvergenceWarning:\n",
      "\n",
      "The max_iter was reached which means the coef_ did not converge\n",
      "\n",
      "/Users/v824975/anaconda3/lib/python3.6/site-packages/sklearn/linear_model/sag.py:326: ConvergenceWarning:\n",
      "\n",
      "The max_iter was reached which means the coef_ did not converge\n",
      "\n",
      "/Users/v824975/anaconda3/lib/python3.6/site-packages/sklearn/linear_model/sag.py:326: ConvergenceWarning:\n",
      "\n",
      "The max_iter was reached which means the coef_ did not converge\n",
      "\n",
      "/Users/v824975/anaconda3/lib/python3.6/site-packages/sklearn/linear_model/sag.py:326: ConvergenceWarning:\n",
      "\n",
      "The max_iter was reached which means the coef_ did not converge\n",
      "\n",
      "/Users/v824975/anaconda3/lib/python3.6/site-packages/sklearn/linear_model/sag.py:326: ConvergenceWarning:\n",
      "\n",
      "The max_iter was reached which means the coef_ did not converge\n",
      "\n",
      "/Users/v824975/anaconda3/lib/python3.6/site-packages/sklearn/linear_model/sag.py:326: ConvergenceWarning:\n",
      "\n",
      "The max_iter was reached which means the coef_ did not converge\n",
      "\n",
      "/Users/v824975/anaconda3/lib/python3.6/site-packages/sklearn/linear_model/sag.py:326: ConvergenceWarning:\n",
      "\n",
      "The max_iter was reached which means the coef_ did not converge\n",
      "\n",
      "/Users/v824975/anaconda3/lib/python3.6/site-packages/sklearn/linear_model/sag.py:326: ConvergenceWarning:\n",
      "\n",
      "The max_iter was reached which means the coef_ did not converge\n",
      "\n",
      "/Users/v824975/anaconda3/lib/python3.6/site-packages/sklearn/linear_model/sag.py:326: ConvergenceWarning:\n",
      "\n",
      "The max_iter was reached which means the coef_ did not converge\n",
      "\n",
      "/Users/v824975/anaconda3/lib/python3.6/site-packages/sklearn/linear_model/sag.py:326: ConvergenceWarning:\n",
      "\n",
      "The max_iter was reached which means the coef_ did not converge\n",
      "\n",
      "/Users/v824975/anaconda3/lib/python3.6/site-packages/sklearn/linear_model/sag.py:326: ConvergenceWarning:\n",
      "\n",
      "The max_iter was reached which means the coef_ did not converge\n",
      "\n",
      "/Users/v824975/anaconda3/lib/python3.6/site-packages/sklearn/linear_model/sag.py:326: ConvergenceWarning:\n",
      "\n",
      "The max_iter was reached which means the coef_ did not converge\n",
      "\n",
      "/Users/v824975/anaconda3/lib/python3.6/site-packages/sklearn/linear_model/sag.py:326: ConvergenceWarning:\n",
      "\n",
      "The max_iter was reached which means the coef_ did not converge\n",
      "\n",
      "/Users/v824975/anaconda3/lib/python3.6/site-packages/sklearn/linear_model/sag.py:326: ConvergenceWarning:\n",
      "\n",
      "The max_iter was reached which means the coef_ did not converge\n",
      "\n",
      "/Users/v824975/anaconda3/lib/python3.6/site-packages/sklearn/linear_model/sag.py:326: ConvergenceWarning:\n",
      "\n",
      "The max_iter was reached which means the coef_ did not converge\n",
      "\n",
      "/Users/v824975/anaconda3/lib/python3.6/site-packages/sklearn/linear_model/sag.py:326: ConvergenceWarning:\n",
      "\n",
      "The max_iter was reached which means the coef_ did not converge\n",
      "\n",
      "/Users/v824975/anaconda3/lib/python3.6/site-packages/sklearn/linear_model/sag.py:326: ConvergenceWarning:\n",
      "\n",
      "The max_iter was reached which means the coef_ did not converge\n",
      "\n",
      "/Users/v824975/anaconda3/lib/python3.6/site-packages/sklearn/linear_model/sag.py:326: ConvergenceWarning:\n",
      "\n",
      "The max_iter was reached which means the coef_ did not converge\n",
      "\n",
      "/Users/v824975/anaconda3/lib/python3.6/site-packages/sklearn/linear_model/sag.py:326: ConvergenceWarning:\n",
      "\n",
      "The max_iter was reached which means the coef_ did not converge\n",
      "\n",
      "/Users/v824975/anaconda3/lib/python3.6/site-packages/sklearn/linear_model/sag.py:326: ConvergenceWarning:\n",
      "\n",
      "The max_iter was reached which means the coef_ did not converge\n",
      "\n",
      "/Users/v824975/anaconda3/lib/python3.6/site-packages/sklearn/linear_model/sag.py:326: ConvergenceWarning:\n",
      "\n",
      "The max_iter was reached which means the coef_ did not converge\n",
      "\n",
      "/Users/v824975/anaconda3/lib/python3.6/site-packages/sklearn/linear_model/sag.py:326: ConvergenceWarning:\n",
      "\n",
      "The max_iter was reached which means the coef_ did not converge\n",
      "\n",
      "/Users/v824975/anaconda3/lib/python3.6/site-packages/sklearn/linear_model/sag.py:326: ConvergenceWarning:\n",
      "\n",
      "The max_iter was reached which means the coef_ did not converge\n",
      "\n",
      "/Users/v824975/anaconda3/lib/python3.6/site-packages/sklearn/linear_model/sag.py:326: ConvergenceWarning:\n",
      "\n",
      "The max_iter was reached which means the coef_ did not converge\n",
      "\n",
      "/Users/v824975/anaconda3/lib/python3.6/site-packages/sklearn/linear_model/sag.py:326: ConvergenceWarning:\n",
      "\n",
      "The max_iter was reached which means the coef_ did not converge\n",
      "\n",
      "/Users/v824975/anaconda3/lib/python3.6/site-packages/sklearn/linear_model/sag.py:326: ConvergenceWarning:\n",
      "\n",
      "The max_iter was reached which means the coef_ did not converge\n",
      "\n",
      "/Users/v824975/anaconda3/lib/python3.6/site-packages/sklearn/linear_model/sag.py:326: ConvergenceWarning:\n",
      "\n",
      "The max_iter was reached which means the coef_ did not converge\n",
      "\n",
      "/Users/v824975/anaconda3/lib/python3.6/site-packages/sklearn/linear_model/sag.py:326: ConvergenceWarning:\n",
      "\n",
      "The max_iter was reached which means the coef_ did not converge\n",
      "\n",
      "/Users/v824975/anaconda3/lib/python3.6/site-packages/sklearn/linear_model/sag.py:326: ConvergenceWarning:\n",
      "\n",
      "The max_iter was reached which means the coef_ did not converge\n",
      "\n"
     ]
    },
    {
     "name": "stdout",
     "output_type": "stream",
     "text": [
      "[CV]  clf__estimator__C=1, clf__estimator__class_weight=balanced, tfidf__max_df=0.75, tfidf__ngram_range=(1, 1), score=0.11529477716528076, total=13.0min\n",
      "[CV] clf__estimator__C=1, clf__estimator__class_weight=balanced, tfidf__max_df=0.75, tfidf__ngram_range=(1, 1) \n"
     ]
    },
    {
     "name": "stderr",
     "output_type": "stream",
     "text": [
      "/Users/v824975/anaconda3/lib/python3.6/site-packages/sklearn/linear_model/sag.py:326: ConvergenceWarning:\n",
      "\n",
      "The max_iter was reached which means the coef_ did not converge\n",
      "\n",
      "/Users/v824975/anaconda3/lib/python3.6/site-packages/sklearn/linear_model/sag.py:326: ConvergenceWarning:\n",
      "\n",
      "The max_iter was reached which means the coef_ did not converge\n",
      "\n",
      "/Users/v824975/anaconda3/lib/python3.6/site-packages/sklearn/linear_model/sag.py:326: ConvergenceWarning:\n",
      "\n",
      "The max_iter was reached which means the coef_ did not converge\n",
      "\n",
      "/Users/v824975/anaconda3/lib/python3.6/site-packages/sklearn/linear_model/sag.py:326: ConvergenceWarning:\n",
      "\n",
      "The max_iter was reached which means the coef_ did not converge\n",
      "\n",
      "/Users/v824975/anaconda3/lib/python3.6/site-packages/sklearn/linear_model/sag.py:326: ConvergenceWarning:\n",
      "\n",
      "The max_iter was reached which means the coef_ did not converge\n",
      "\n",
      "/Users/v824975/anaconda3/lib/python3.6/site-packages/sklearn/linear_model/sag.py:326: ConvergenceWarning:\n",
      "\n",
      "The max_iter was reached which means the coef_ did not converge\n",
      "\n",
      "/Users/v824975/anaconda3/lib/python3.6/site-packages/sklearn/linear_model/sag.py:326: ConvergenceWarning:\n",
      "\n",
      "The max_iter was reached which means the coef_ did not converge\n",
      "\n",
      "/Users/v824975/anaconda3/lib/python3.6/site-packages/sklearn/linear_model/sag.py:326: ConvergenceWarning:\n",
      "\n",
      "The max_iter was reached which means the coef_ did not converge\n",
      "\n",
      "/Users/v824975/anaconda3/lib/python3.6/site-packages/sklearn/linear_model/sag.py:326: ConvergenceWarning:\n",
      "\n",
      "The max_iter was reached which means the coef_ did not converge\n",
      "\n",
      "/Users/v824975/anaconda3/lib/python3.6/site-packages/sklearn/linear_model/sag.py:326: ConvergenceWarning:\n",
      "\n",
      "The max_iter was reached which means the coef_ did not converge\n",
      "\n",
      "/Users/v824975/anaconda3/lib/python3.6/site-packages/sklearn/linear_model/sag.py:326: ConvergenceWarning:\n",
      "\n",
      "The max_iter was reached which means the coef_ did not converge\n",
      "\n",
      "/Users/v824975/anaconda3/lib/python3.6/site-packages/sklearn/linear_model/sag.py:326: ConvergenceWarning:\n",
      "\n",
      "The max_iter was reached which means the coef_ did not converge\n",
      "\n",
      "/Users/v824975/anaconda3/lib/python3.6/site-packages/sklearn/linear_model/sag.py:326: ConvergenceWarning:\n",
      "\n",
      "The max_iter was reached which means the coef_ did not converge\n",
      "\n",
      "/Users/v824975/anaconda3/lib/python3.6/site-packages/sklearn/linear_model/sag.py:326: ConvergenceWarning:\n",
      "\n",
      "The max_iter was reached which means the coef_ did not converge\n",
      "\n",
      "/Users/v824975/anaconda3/lib/python3.6/site-packages/sklearn/linear_model/sag.py:326: ConvergenceWarning:\n",
      "\n",
      "The max_iter was reached which means the coef_ did not converge\n",
      "\n",
      "/Users/v824975/anaconda3/lib/python3.6/site-packages/sklearn/linear_model/sag.py:326: ConvergenceWarning:\n",
      "\n",
      "The max_iter was reached which means the coef_ did not converge\n",
      "\n",
      "/Users/v824975/anaconda3/lib/python3.6/site-packages/sklearn/linear_model/sag.py:326: ConvergenceWarning:\n",
      "\n",
      "The max_iter was reached which means the coef_ did not converge\n",
      "\n",
      "/Users/v824975/anaconda3/lib/python3.6/site-packages/sklearn/linear_model/sag.py:326: ConvergenceWarning:\n",
      "\n",
      "The max_iter was reached which means the coef_ did not converge\n",
      "\n",
      "/Users/v824975/anaconda3/lib/python3.6/site-packages/sklearn/linear_model/sag.py:326: ConvergenceWarning:\n",
      "\n",
      "The max_iter was reached which means the coef_ did not converge\n",
      "\n",
      "/Users/v824975/anaconda3/lib/python3.6/site-packages/sklearn/linear_model/sag.py:326: ConvergenceWarning:\n",
      "\n",
      "The max_iter was reached which means the coef_ did not converge\n",
      "\n",
      "/Users/v824975/anaconda3/lib/python3.6/site-packages/sklearn/linear_model/sag.py:326: ConvergenceWarning:\n",
      "\n",
      "The max_iter was reached which means the coef_ did not converge\n",
      "\n",
      "/Users/v824975/anaconda3/lib/python3.6/site-packages/sklearn/linear_model/sag.py:326: ConvergenceWarning:\n",
      "\n",
      "The max_iter was reached which means the coef_ did not converge\n",
      "\n",
      "/Users/v824975/anaconda3/lib/python3.6/site-packages/sklearn/linear_model/sag.py:326: ConvergenceWarning:\n",
      "\n",
      "The max_iter was reached which means the coef_ did not converge\n",
      "\n",
      "/Users/v824975/anaconda3/lib/python3.6/site-packages/sklearn/linear_model/sag.py:326: ConvergenceWarning:\n",
      "\n",
      "The max_iter was reached which means the coef_ did not converge\n",
      "\n",
      "/Users/v824975/anaconda3/lib/python3.6/site-packages/sklearn/linear_model/sag.py:326: ConvergenceWarning:\n",
      "\n",
      "The max_iter was reached which means the coef_ did not converge\n",
      "\n",
      "/Users/v824975/anaconda3/lib/python3.6/site-packages/sklearn/linear_model/sag.py:326: ConvergenceWarning:\n",
      "\n",
      "The max_iter was reached which means the coef_ did not converge\n",
      "\n",
      "/Users/v824975/anaconda3/lib/python3.6/site-packages/sklearn/linear_model/sag.py:326: ConvergenceWarning:\n",
      "\n",
      "The max_iter was reached which means the coef_ did not converge\n",
      "\n",
      "/Users/v824975/anaconda3/lib/python3.6/site-packages/sklearn/linear_model/sag.py:326: ConvergenceWarning:\n",
      "\n",
      "The max_iter was reached which means the coef_ did not converge\n",
      "\n"
     ]
    },
    {
     "name": "stdout",
     "output_type": "stream",
     "text": [
      "[CV]  clf__estimator__C=1, clf__estimator__class_weight=balanced, tfidf__max_df=0.75, tfidf__ngram_range=(1, 1), score=0.14140091648742167, total=13.6min\n",
      "[CV] clf__estimator__C=1, clf__estimator__class_weight=balanced, tfidf__max_df=0.75, tfidf__ngram_range=(1, 2) \n"
     ]
    },
    {
     "name": "stderr",
     "output_type": "stream",
     "text": [
      "/Users/v824975/anaconda3/lib/python3.6/site-packages/sklearn/linear_model/sag.py:326: ConvergenceWarning:\n",
      "\n",
      "The max_iter was reached which means the coef_ did not converge\n",
      "\n",
      "/Users/v824975/anaconda3/lib/python3.6/site-packages/sklearn/linear_model/sag.py:326: ConvergenceWarning:\n",
      "\n",
      "The max_iter was reached which means the coef_ did not converge\n",
      "\n",
      "/Users/v824975/anaconda3/lib/python3.6/site-packages/sklearn/linear_model/sag.py:326: ConvergenceWarning:\n",
      "\n",
      "The max_iter was reached which means the coef_ did not converge\n",
      "\n",
      "/Users/v824975/anaconda3/lib/python3.6/site-packages/sklearn/linear_model/sag.py:326: ConvergenceWarning:\n",
      "\n",
      "The max_iter was reached which means the coef_ did not converge\n",
      "\n",
      "/Users/v824975/anaconda3/lib/python3.6/site-packages/sklearn/linear_model/sag.py:326: ConvergenceWarning:\n",
      "\n",
      "The max_iter was reached which means the coef_ did not converge\n",
      "\n",
      "/Users/v824975/anaconda3/lib/python3.6/site-packages/sklearn/linear_model/sag.py:326: ConvergenceWarning:\n",
      "\n",
      "The max_iter was reached which means the coef_ did not converge\n",
      "\n",
      "/Users/v824975/anaconda3/lib/python3.6/site-packages/sklearn/linear_model/sag.py:326: ConvergenceWarning:\n",
      "\n",
      "The max_iter was reached which means the coef_ did not converge\n",
      "\n",
      "/Users/v824975/anaconda3/lib/python3.6/site-packages/sklearn/linear_model/sag.py:326: ConvergenceWarning:\n",
      "\n",
      "The max_iter was reached which means the coef_ did not converge\n",
      "\n",
      "/Users/v824975/anaconda3/lib/python3.6/site-packages/sklearn/linear_model/sag.py:326: ConvergenceWarning:\n",
      "\n",
      "The max_iter was reached which means the coef_ did not converge\n",
      "\n",
      "/Users/v824975/anaconda3/lib/python3.6/site-packages/sklearn/linear_model/sag.py:326: ConvergenceWarning:\n",
      "\n",
      "The max_iter was reached which means the coef_ did not converge\n",
      "\n",
      "/Users/v824975/anaconda3/lib/python3.6/site-packages/sklearn/linear_model/sag.py:326: ConvergenceWarning:\n",
      "\n",
      "The max_iter was reached which means the coef_ did not converge\n",
      "\n",
      "/Users/v824975/anaconda3/lib/python3.6/site-packages/sklearn/linear_model/sag.py:326: ConvergenceWarning:\n",
      "\n",
      "The max_iter was reached which means the coef_ did not converge\n",
      "\n",
      "/Users/v824975/anaconda3/lib/python3.6/site-packages/sklearn/linear_model/sag.py:326: ConvergenceWarning:\n",
      "\n",
      "The max_iter was reached which means the coef_ did not converge\n",
      "\n",
      "/Users/v824975/anaconda3/lib/python3.6/site-packages/sklearn/linear_model/sag.py:326: ConvergenceWarning:\n",
      "\n",
      "The max_iter was reached which means the coef_ did not converge\n",
      "\n",
      "/Users/v824975/anaconda3/lib/python3.6/site-packages/sklearn/linear_model/sag.py:326: ConvergenceWarning:\n",
      "\n",
      "The max_iter was reached which means the coef_ did not converge\n",
      "\n",
      "/Users/v824975/anaconda3/lib/python3.6/site-packages/sklearn/linear_model/sag.py:326: ConvergenceWarning:\n",
      "\n",
      "The max_iter was reached which means the coef_ did not converge\n",
      "\n",
      "/Users/v824975/anaconda3/lib/python3.6/site-packages/sklearn/linear_model/sag.py:326: ConvergenceWarning:\n",
      "\n",
      "The max_iter was reached which means the coef_ did not converge\n",
      "\n",
      "/Users/v824975/anaconda3/lib/python3.6/site-packages/sklearn/linear_model/sag.py:326: ConvergenceWarning:\n",
      "\n",
      "The max_iter was reached which means the coef_ did not converge\n",
      "\n",
      "/Users/v824975/anaconda3/lib/python3.6/site-packages/sklearn/linear_model/sag.py:326: ConvergenceWarning:\n",
      "\n",
      "The max_iter was reached which means the coef_ did not converge\n",
      "\n",
      "/Users/v824975/anaconda3/lib/python3.6/site-packages/sklearn/linear_model/sag.py:326: ConvergenceWarning:\n",
      "\n",
      "The max_iter was reached which means the coef_ did not converge\n",
      "\n",
      "/Users/v824975/anaconda3/lib/python3.6/site-packages/sklearn/linear_model/sag.py:326: ConvergenceWarning:\n",
      "\n",
      "The max_iter was reached which means the coef_ did not converge\n",
      "\n",
      "/Users/v824975/anaconda3/lib/python3.6/site-packages/sklearn/linear_model/sag.py:326: ConvergenceWarning:\n",
      "\n",
      "The max_iter was reached which means the coef_ did not converge\n",
      "\n",
      "/Users/v824975/anaconda3/lib/python3.6/site-packages/sklearn/linear_model/sag.py:326: ConvergenceWarning:\n",
      "\n",
      "The max_iter was reached which means the coef_ did not converge\n",
      "\n"
     ]
    },
    {
     "name": "stdout",
     "output_type": "stream",
     "text": [
      "[CV]  clf__estimator__C=1, clf__estimator__class_weight=balanced, tfidf__max_df=0.5, tfidf__ngram_range=(1, 3), score=0.30318602261048305, total=62.8min\n",
      "[CV] clf__estimator__C=1, clf__estimator__class_weight=balanced, tfidf__max_df=0.75, tfidf__ngram_range=(1, 2) \n"
     ]
    },
    {
     "name": "stderr",
     "output_type": "stream",
     "text": [
      "/Users/v824975/anaconda3/lib/python3.6/site-packages/sklearn/linear_model/sag.py:326: ConvergenceWarning:\n",
      "\n",
      "The max_iter was reached which means the coef_ did not converge\n",
      "\n",
      "/Users/v824975/anaconda3/lib/python3.6/site-packages/sklearn/linear_model/sag.py:326: ConvergenceWarning:\n",
      "\n",
      "The max_iter was reached which means the coef_ did not converge\n",
      "\n",
      "/Users/v824975/anaconda3/lib/python3.6/site-packages/sklearn/linear_model/sag.py:326: ConvergenceWarning:\n",
      "\n",
      "The max_iter was reached which means the coef_ did not converge\n",
      "\n",
      "/Users/v824975/anaconda3/lib/python3.6/site-packages/sklearn/linear_model/sag.py:326: ConvergenceWarning:\n",
      "\n",
      "The max_iter was reached which means the coef_ did not converge\n",
      "\n",
      "/Users/v824975/anaconda3/lib/python3.6/site-packages/sklearn/linear_model/sag.py:326: ConvergenceWarning:\n",
      "\n",
      "The max_iter was reached which means the coef_ did not converge\n",
      "\n",
      "/Users/v824975/anaconda3/lib/python3.6/site-packages/sklearn/linear_model/sag.py:326: ConvergenceWarning:\n",
      "\n",
      "The max_iter was reached which means the coef_ did not converge\n",
      "\n",
      "/Users/v824975/anaconda3/lib/python3.6/site-packages/sklearn/linear_model/sag.py:326: ConvergenceWarning:\n",
      "\n",
      "The max_iter was reached which means the coef_ did not converge\n",
      "\n",
      "/Users/v824975/anaconda3/lib/python3.6/site-packages/sklearn/linear_model/sag.py:326: ConvergenceWarning:\n",
      "\n",
      "The max_iter was reached which means the coef_ did not converge\n",
      "\n",
      "/Users/v824975/anaconda3/lib/python3.6/site-packages/sklearn/linear_model/sag.py:326: ConvergenceWarning:\n",
      "\n",
      "The max_iter was reached which means the coef_ did not converge\n",
      "\n",
      "/Users/v824975/anaconda3/lib/python3.6/site-packages/sklearn/linear_model/sag.py:326: ConvergenceWarning:\n",
      "\n",
      "The max_iter was reached which means the coef_ did not converge\n",
      "\n",
      "/Users/v824975/anaconda3/lib/python3.6/site-packages/sklearn/linear_model/sag.py:326: ConvergenceWarning:\n",
      "\n",
      "The max_iter was reached which means the coef_ did not converge\n",
      "\n",
      "/Users/v824975/anaconda3/lib/python3.6/site-packages/sklearn/linear_model/sag.py:326: ConvergenceWarning:\n",
      "\n",
      "The max_iter was reached which means the coef_ did not converge\n",
      "\n",
      "/Users/v824975/anaconda3/lib/python3.6/site-packages/sklearn/linear_model/sag.py:326: ConvergenceWarning:\n",
      "\n",
      "The max_iter was reached which means the coef_ did not converge\n",
      "\n",
      "/Users/v824975/anaconda3/lib/python3.6/site-packages/sklearn/linear_model/sag.py:326: ConvergenceWarning:\n",
      "\n",
      "The max_iter was reached which means the coef_ did not converge\n",
      "\n",
      "/Users/v824975/anaconda3/lib/python3.6/site-packages/sklearn/linear_model/sag.py:326: ConvergenceWarning:\n",
      "\n",
      "The max_iter was reached which means the coef_ did not converge\n",
      "\n"
     ]
    },
    {
     "name": "stdout",
     "output_type": "stream",
     "text": [
      "[CV]  clf__estimator__C=1, clf__estimator__class_weight=balanced, tfidf__max_df=0.5, tfidf__ngram_range=(1, 3), score=0.3049658655194987, total=62.9min\n",
      "[CV] clf__estimator__C=1, clf__estimator__class_weight=balanced, tfidf__max_df=0.75, tfidf__ngram_range=(1, 3) \n"
     ]
    },
    {
     "name": "stderr",
     "output_type": "stream",
     "text": [
      "/Users/v824975/anaconda3/lib/python3.6/site-packages/sklearn/linear_model/sag.py:326: ConvergenceWarning:\n",
      "\n",
      "The max_iter was reached which means the coef_ did not converge\n",
      "\n",
      "/Users/v824975/anaconda3/lib/python3.6/site-packages/sklearn/linear_model/sag.py:326: ConvergenceWarning:\n",
      "\n",
      "The max_iter was reached which means the coef_ did not converge\n",
      "\n",
      "/Users/v824975/anaconda3/lib/python3.6/site-packages/sklearn/linear_model/sag.py:326: ConvergenceWarning:\n",
      "\n",
      "The max_iter was reached which means the coef_ did not converge\n",
      "\n",
      "/Users/v824975/anaconda3/lib/python3.6/site-packages/sklearn/linear_model/sag.py:326: ConvergenceWarning:\n",
      "\n",
      "The max_iter was reached which means the coef_ did not converge\n",
      "\n",
      "/Users/v824975/anaconda3/lib/python3.6/site-packages/sklearn/linear_model/sag.py:326: ConvergenceWarning:\n",
      "\n",
      "The max_iter was reached which means the coef_ did not converge\n",
      "\n",
      "/Users/v824975/anaconda3/lib/python3.6/site-packages/sklearn/linear_model/sag.py:326: ConvergenceWarning:\n",
      "\n",
      "The max_iter was reached which means the coef_ did not converge\n",
      "\n",
      "/Users/v824975/anaconda3/lib/python3.6/site-packages/sklearn/linear_model/sag.py:326: ConvergenceWarning:\n",
      "\n",
      "The max_iter was reached which means the coef_ did not converge\n",
      "\n",
      "/Users/v824975/anaconda3/lib/python3.6/site-packages/sklearn/linear_model/sag.py:326: ConvergenceWarning:\n",
      "\n",
      "The max_iter was reached which means the coef_ did not converge\n",
      "\n",
      "/Users/v824975/anaconda3/lib/python3.6/site-packages/sklearn/linear_model/sag.py:326: ConvergenceWarning:\n",
      "\n",
      "The max_iter was reached which means the coef_ did not converge\n",
      "\n",
      "/Users/v824975/anaconda3/lib/python3.6/site-packages/sklearn/linear_model/sag.py:326: ConvergenceWarning:\n",
      "\n",
      "The max_iter was reached which means the coef_ did not converge\n",
      "\n",
      "/Users/v824975/anaconda3/lib/python3.6/site-packages/sklearn/linear_model/sag.py:326: ConvergenceWarning:\n",
      "\n",
      "The max_iter was reached which means the coef_ did not converge\n",
      "\n",
      "/Users/v824975/anaconda3/lib/python3.6/site-packages/sklearn/linear_model/sag.py:326: ConvergenceWarning:\n",
      "\n",
      "The max_iter was reached which means the coef_ did not converge\n",
      "\n"
     ]
    },
    {
     "name": "stdout",
     "output_type": "stream",
     "text": [
      "[CV]  clf__estimator__C=1, clf__estimator__class_weight=balanced, tfidf__max_df=0.75, tfidf__ngram_range=(1, 2), score=0.2671213678407923, total=42.8min\n",
      "[CV] clf__estimator__C=1, clf__estimator__class_weight=balanced, tfidf__max_df=0.75, tfidf__ngram_range=(1, 3) \n"
     ]
    },
    {
     "name": "stderr",
     "output_type": "stream",
     "text": [
      "/Users/v824975/anaconda3/lib/python3.6/site-packages/sklearn/linear_model/sag.py:326: ConvergenceWarning:\n",
      "\n",
      "The max_iter was reached which means the coef_ did not converge\n",
      "\n",
      "/Users/v824975/anaconda3/lib/python3.6/site-packages/sklearn/linear_model/sag.py:326: ConvergenceWarning:\n",
      "\n",
      "The max_iter was reached which means the coef_ did not converge\n",
      "\n",
      "/Users/v824975/anaconda3/lib/python3.6/site-packages/sklearn/linear_model/sag.py:326: ConvergenceWarning:\n",
      "\n",
      "The max_iter was reached which means the coef_ did not converge\n",
      "\n",
      "/Users/v824975/anaconda3/lib/python3.6/site-packages/sklearn/linear_model/sag.py:326: ConvergenceWarning:\n",
      "\n",
      "The max_iter was reached which means the coef_ did not converge\n",
      "\n",
      "/Users/v824975/anaconda3/lib/python3.6/site-packages/sklearn/linear_model/sag.py:326: ConvergenceWarning:\n",
      "\n",
      "The max_iter was reached which means the coef_ did not converge\n",
      "\n",
      "/Users/v824975/anaconda3/lib/python3.6/site-packages/sklearn/linear_model/sag.py:326: ConvergenceWarning:\n",
      "\n",
      "The max_iter was reached which means the coef_ did not converge\n",
      "\n",
      "/Users/v824975/anaconda3/lib/python3.6/site-packages/sklearn/linear_model/sag.py:326: ConvergenceWarning:\n",
      "\n",
      "The max_iter was reached which means the coef_ did not converge\n",
      "\n",
      "/Users/v824975/anaconda3/lib/python3.6/site-packages/sklearn/linear_model/sag.py:326: ConvergenceWarning:\n",
      "\n",
      "The max_iter was reached which means the coef_ did not converge\n",
      "\n",
      "/Users/v824975/anaconda3/lib/python3.6/site-packages/sklearn/linear_model/sag.py:326: ConvergenceWarning:\n",
      "\n",
      "The max_iter was reached which means the coef_ did not converge\n",
      "\n",
      "/Users/v824975/anaconda3/lib/python3.6/site-packages/sklearn/linear_model/sag.py:326: ConvergenceWarning:\n",
      "\n",
      "The max_iter was reached which means the coef_ did not converge\n",
      "\n",
      "/Users/v824975/anaconda3/lib/python3.6/site-packages/sklearn/linear_model/sag.py:326: ConvergenceWarning:\n",
      "\n",
      "The max_iter was reached which means the coef_ did not converge\n",
      "\n",
      "/Users/v824975/anaconda3/lib/python3.6/site-packages/sklearn/linear_model/sag.py:326: ConvergenceWarning:\n",
      "\n",
      "The max_iter was reached which means the coef_ did not converge\n",
      "\n",
      "/Users/v824975/anaconda3/lib/python3.6/site-packages/sklearn/linear_model/sag.py:326: ConvergenceWarning:\n",
      "\n",
      "The max_iter was reached which means the coef_ did not converge\n",
      "\n",
      "/Users/v824975/anaconda3/lib/python3.6/site-packages/sklearn/linear_model/sag.py:326: ConvergenceWarning:\n",
      "\n",
      "The max_iter was reached which means the coef_ did not converge\n",
      "\n",
      "/Users/v824975/anaconda3/lib/python3.6/site-packages/sklearn/linear_model/sag.py:326: ConvergenceWarning:\n",
      "\n",
      "The max_iter was reached which means the coef_ did not converge\n",
      "\n",
      "/Users/v824975/anaconda3/lib/python3.6/site-packages/sklearn/linear_model/sag.py:326: ConvergenceWarning:\n",
      "\n",
      "The max_iter was reached which means the coef_ did not converge\n",
      "\n",
      "/Users/v824975/anaconda3/lib/python3.6/site-packages/sklearn/linear_model/sag.py:326: ConvergenceWarning:\n",
      "\n",
      "The max_iter was reached which means the coef_ did not converge\n",
      "\n",
      "/Users/v824975/anaconda3/lib/python3.6/site-packages/sklearn/linear_model/sag.py:326: ConvergenceWarning:\n",
      "\n",
      "The max_iter was reached which means the coef_ did not converge\n",
      "\n",
      "/Users/v824975/anaconda3/lib/python3.6/site-packages/sklearn/linear_model/sag.py:326: ConvergenceWarning:\n",
      "\n",
      "The max_iter was reached which means the coef_ did not converge\n",
      "\n",
      "/Users/v824975/anaconda3/lib/python3.6/site-packages/sklearn/linear_model/sag.py:326: ConvergenceWarning:\n",
      "\n",
      "The max_iter was reached which means the coef_ did not converge\n",
      "\n",
      "/Users/v824975/anaconda3/lib/python3.6/site-packages/sklearn/linear_model/sag.py:326: ConvergenceWarning:\n",
      "\n",
      "The max_iter was reached which means the coef_ did not converge\n",
      "\n",
      "/Users/v824975/anaconda3/lib/python3.6/site-packages/sklearn/linear_model/sag.py:326: ConvergenceWarning:\n",
      "\n",
      "The max_iter was reached which means the coef_ did not converge\n",
      "\n",
      "/Users/v824975/anaconda3/lib/python3.6/site-packages/sklearn/linear_model/sag.py:326: ConvergenceWarning:\n",
      "\n",
      "The max_iter was reached which means the coef_ did not converge\n",
      "\n"
     ]
    },
    {
     "name": "stdout",
     "output_type": "stream",
     "text": [
      "[CV]  clf__estimator__C=1, clf__estimator__class_weight=balanced, tfidf__max_df=0.75, tfidf__ngram_range=(1, 2), score=0.3132890676143271, total=42.4min\n",
      "[CV] clf__estimator__C=1, clf__estimator__class_weight=None, tfidf__max_df=0.25, tfidf__ngram_range=(1, 1) \n",
      "[CV]  clf__estimator__C=1, clf__estimator__class_weight=None, tfidf__max_df=0.25, tfidf__ngram_range=(1, 1), score=0.368307951041764, total=   5.5s\n",
      "[CV] clf__estimator__C=1, clf__estimator__class_weight=None, tfidf__max_df=0.25, tfidf__ngram_range=(1, 1) \n",
      "[CV]  clf__estimator__C=1, clf__estimator__class_weight=None, tfidf__max_df=0.25, tfidf__ngram_range=(1, 1), score=0.3737959412699897, total=   5.4s\n",
      "[CV] clf__estimator__C=1, clf__estimator__class_weight=None, tfidf__max_df=0.25, tfidf__ngram_range=(1, 2) \n",
      "[CV]  clf__estimator__C=1, clf__estimator__class_weight=None, tfidf__max_df=0.25, tfidf__ngram_range=(1, 2), score=0.355507801550967, total=  16.8s\n",
      "[CV] clf__estimator__C=1, clf__estimator__class_weight=None, tfidf__max_df=0.25, tfidf__ngram_range=(1, 2) \n",
      "[CV]  clf__estimator__C=1, clf__estimator__class_weight=None, tfidf__max_df=0.25, tfidf__ngram_range=(1, 2), score=0.3610773403160946, total=  18.3s\n",
      "[CV] clf__estimator__C=1, clf__estimator__class_weight=None, tfidf__max_df=0.25, tfidf__ngram_range=(1, 3) \n"
     ]
    },
    {
     "name": "stderr",
     "output_type": "stream",
     "text": [
      "[Parallel(n_jobs=3)]: Done  92 tasks      | elapsed: 284.0min\n"
     ]
    },
    {
     "name": "stdout",
     "output_type": "stream",
     "text": [
      "[CV]  clf__estimator__C=1, clf__estimator__class_weight=None, tfidf__max_df=0.25, tfidf__ngram_range=(1, 3), score=0.34934130617583853, total=  29.0s\n",
      "[CV] clf__estimator__C=1, clf__estimator__class_weight=None, tfidf__max_df=0.25, tfidf__ngram_range=(1, 3) \n"
     ]
    },
    {
     "name": "stderr",
     "output_type": "stream",
     "text": [
      "/Users/v824975/anaconda3/lib/python3.6/site-packages/sklearn/linear_model/sag.py:326: ConvergenceWarning:\n",
      "\n",
      "The max_iter was reached which means the coef_ did not converge\n",
      "\n"
     ]
    },
    {
     "name": "stdout",
     "output_type": "stream",
     "text": [
      "[CV]  clf__estimator__C=1, clf__estimator__class_weight=None, tfidf__max_df=0.25, tfidf__ngram_range=(1, 3), score=0.35453100158982515, total=  28.9s\n",
      "[CV] clf__estimator__C=1, clf__estimator__class_weight=None, tfidf__max_df=0.5, tfidf__ngram_range=(1, 1) \n",
      "[CV]  clf__estimator__C=1, clf__estimator__class_weight=None, tfidf__max_df=0.5, tfidf__ngram_range=(1, 1), score=0.368307951041764, total=   5.7s\n",
      "[CV] clf__estimator__C=1, clf__estimator__class_weight=None, tfidf__max_df=0.5, tfidf__ngram_range=(1, 1) \n"
     ]
    },
    {
     "name": "stderr",
     "output_type": "stream",
     "text": [
      "/Users/v824975/anaconda3/lib/python3.6/site-packages/sklearn/linear_model/sag.py:326: ConvergenceWarning:\n",
      "\n",
      "The max_iter was reached which means the coef_ did not converge\n",
      "\n"
     ]
    },
    {
     "name": "stdout",
     "output_type": "stream",
     "text": [
      "[CV]  clf__estimator__C=1, clf__estimator__class_weight=None, tfidf__max_df=0.5, tfidf__ngram_range=(1, 1), score=0.3737959412699897, total=   5.5s\n",
      "[CV] clf__estimator__C=1, clf__estimator__class_weight=None, tfidf__max_df=0.5, tfidf__ngram_range=(1, 2) \n",
      "[CV]  clf__estimator__C=1, clf__estimator__class_weight=None, tfidf__max_df=0.5, tfidf__ngram_range=(1, 2), score=0.355507801550967, total=  16.8s\n",
      "[CV] clf__estimator__C=1, clf__estimator__class_weight=None, tfidf__max_df=0.5, tfidf__ngram_range=(1, 2) \n",
      "[CV]  clf__estimator__C=1, clf__estimator__class_weight=None, tfidf__max_df=0.5, tfidf__ngram_range=(1, 2), score=0.3610773403160946, total=  16.7s\n",
      "[CV] clf__estimator__C=1, clf__estimator__class_weight=None, tfidf__max_df=0.5, tfidf__ngram_range=(1, 3) \n",
      "[CV]  clf__estimator__C=1, clf__estimator__class_weight=None, tfidf__max_df=0.5, tfidf__ngram_range=(1, 3), score=0.34934130617583853, total=  29.6s\n",
      "[CV] clf__estimator__C=1, clf__estimator__class_weight=None, tfidf__max_df=0.5, tfidf__ngram_range=(1, 3) \n",
      "[CV]  clf__estimator__C=1, clf__estimator__class_weight=None, tfidf__max_df=0.5, tfidf__ngram_range=(1, 3), score=0.35453100158982515, total=  34.4s\n",
      "[CV] clf__estimator__C=1, clf__estimator__class_weight=None, tfidf__max_df=0.75, tfidf__ngram_range=(1, 1) \n",
      "[CV]  clf__estimator__C=1, clf__estimator__class_weight=None, tfidf__max_df=0.75, tfidf__ngram_range=(1, 1), score=0.368307951041764, total=   6.5s\n",
      "[CV] clf__estimator__C=1, clf__estimator__class_weight=None, tfidf__max_df=0.75, tfidf__ngram_range=(1, 1) \n",
      "[CV]  clf__estimator__C=1, clf__estimator__class_weight=None, tfidf__max_df=0.75, tfidf__ngram_range=(1, 1), score=0.3737959412699897, total=   6.8s\n",
      "[CV] clf__estimator__C=1, clf__estimator__class_weight=None, tfidf__max_df=0.75, tfidf__ngram_range=(1, 2) \n",
      "[CV]  clf__estimator__C=1, clf__estimator__class_weight=None, tfidf__max_df=0.75, tfidf__ngram_range=(1, 2), score=0.355507801550967, total=  16.8s\n",
      "[CV] clf__estimator__C=1, clf__estimator__class_weight=None, tfidf__max_df=0.75, tfidf__ngram_range=(1, 2) \n",
      "[CV]  clf__estimator__C=1, clf__estimator__class_weight=None, tfidf__max_df=0.75, tfidf__ngram_range=(1, 2), score=0.3610773403160946, total=  16.4s\n",
      "[CV] clf__estimator__C=1, clf__estimator__class_weight=None, tfidf__max_df=0.75, tfidf__ngram_range=(1, 3) \n"
     ]
    },
    {
     "name": "stderr",
     "output_type": "stream",
     "text": [
      "/Users/v824975/anaconda3/lib/python3.6/site-packages/sklearn/linear_model/sag.py:326: ConvergenceWarning:\n",
      "\n",
      "The max_iter was reached which means the coef_ did not converge\n",
      "\n"
     ]
    },
    {
     "name": "stdout",
     "output_type": "stream",
     "text": [
      "[CV]  clf__estimator__C=1, clf__estimator__class_weight=None, tfidf__max_df=0.75, tfidf__ngram_range=(1, 3), score=0.34934130617583853, total=  27.4s\n",
      "[CV] clf__estimator__C=1, clf__estimator__class_weight=None, tfidf__max_df=0.75, tfidf__ngram_range=(1, 3) \n"
     ]
    },
    {
     "name": "stderr",
     "output_type": "stream",
     "text": [
      "/Users/v824975/anaconda3/lib/python3.6/site-packages/sklearn/linear_model/sag.py:326: ConvergenceWarning:\n",
      "\n",
      "The max_iter was reached which means the coef_ did not converge\n",
      "\n"
     ]
    },
    {
     "name": "stdout",
     "output_type": "stream",
     "text": [
      "[CV]  clf__estimator__C=1, clf__estimator__class_weight=None, tfidf__max_df=0.75, tfidf__ngram_range=(1, 3), score=0.35453100158982515, total=  27.5s\n"
     ]
    },
    {
     "name": "stderr",
     "output_type": "stream",
     "text": [
      "/Users/v824975/anaconda3/lib/python3.6/site-packages/sklearn/linear_model/sag.py:326: ConvergenceWarning:\n",
      "\n",
      "The max_iter was reached which means the coef_ did not converge\n",
      "\n",
      "/Users/v824975/anaconda3/lib/python3.6/site-packages/sklearn/linear_model/sag.py:326: ConvergenceWarning:\n",
      "\n",
      "The max_iter was reached which means the coef_ did not converge\n",
      "\n",
      "/Users/v824975/anaconda3/lib/python3.6/site-packages/sklearn/linear_model/sag.py:326: ConvergenceWarning:\n",
      "\n",
      "The max_iter was reached which means the coef_ did not converge\n",
      "\n",
      "/Users/v824975/anaconda3/lib/python3.6/site-packages/sklearn/linear_model/sag.py:326: ConvergenceWarning:\n",
      "\n",
      "The max_iter was reached which means the coef_ did not converge\n",
      "\n",
      "/Users/v824975/anaconda3/lib/python3.6/site-packages/sklearn/linear_model/sag.py:326: ConvergenceWarning:\n",
      "\n",
      "The max_iter was reached which means the coef_ did not converge\n",
      "\n",
      "/Users/v824975/anaconda3/lib/python3.6/site-packages/sklearn/linear_model/sag.py:326: ConvergenceWarning:\n",
      "\n",
      "The max_iter was reached which means the coef_ did not converge\n",
      "\n",
      "/Users/v824975/anaconda3/lib/python3.6/site-packages/sklearn/linear_model/sag.py:326: ConvergenceWarning:\n",
      "\n",
      "The max_iter was reached which means the coef_ did not converge\n",
      "\n",
      "/Users/v824975/anaconda3/lib/python3.6/site-packages/sklearn/linear_model/sag.py:326: ConvergenceWarning:\n",
      "\n",
      "The max_iter was reached which means the coef_ did not converge\n",
      "\n",
      "/Users/v824975/anaconda3/lib/python3.6/site-packages/sklearn/linear_model/sag.py:326: ConvergenceWarning:\n",
      "\n",
      "The max_iter was reached which means the coef_ did not converge\n",
      "\n",
      "/Users/v824975/anaconda3/lib/python3.6/site-packages/sklearn/linear_model/sag.py:326: ConvergenceWarning:\n",
      "\n",
      "The max_iter was reached which means the coef_ did not converge\n",
      "\n",
      "/Users/v824975/anaconda3/lib/python3.6/site-packages/sklearn/linear_model/sag.py:326: ConvergenceWarning:\n",
      "\n",
      "The max_iter was reached which means the coef_ did not converge\n",
      "\n",
      "/Users/v824975/anaconda3/lib/python3.6/site-packages/sklearn/linear_model/sag.py:326: ConvergenceWarning:\n",
      "\n",
      "The max_iter was reached which means the coef_ did not converge\n",
      "\n",
      "/Users/v824975/anaconda3/lib/python3.6/site-packages/sklearn/linear_model/sag.py:326: ConvergenceWarning:\n",
      "\n",
      "The max_iter was reached which means the coef_ did not converge\n",
      "\n",
      "/Users/v824975/anaconda3/lib/python3.6/site-packages/sklearn/linear_model/sag.py:326: ConvergenceWarning:\n",
      "\n",
      "The max_iter was reached which means the coef_ did not converge\n",
      "\n",
      "/Users/v824975/anaconda3/lib/python3.6/site-packages/sklearn/linear_model/sag.py:326: ConvergenceWarning:\n",
      "\n",
      "The max_iter was reached which means the coef_ did not converge\n",
      "\n",
      "/Users/v824975/anaconda3/lib/python3.6/site-packages/sklearn/linear_model/sag.py:326: ConvergenceWarning:\n",
      "\n",
      "The max_iter was reached which means the coef_ did not converge\n",
      "\n",
      "/Users/v824975/anaconda3/lib/python3.6/site-packages/sklearn/linear_model/sag.py:326: ConvergenceWarning:\n",
      "\n",
      "The max_iter was reached which means the coef_ did not converge\n",
      "\n",
      "/Users/v824975/anaconda3/lib/python3.6/site-packages/sklearn/linear_model/sag.py:326: ConvergenceWarning:\n",
      "\n",
      "The max_iter was reached which means the coef_ did not converge\n",
      "\n"
     ]
    },
    {
     "name": "stdout",
     "output_type": "stream",
     "text": [
      "[CV]  clf__estimator__C=1, clf__estimator__class_weight=balanced, tfidf__max_df=0.75, tfidf__ngram_range=(1, 3), score=0.2924413715780622, total=61.8min\n"
     ]
    },
    {
     "name": "stderr",
     "output_type": "stream",
     "text": [
      "/Users/v824975/anaconda3/lib/python3.6/site-packages/sklearn/linear_model/sag.py:326: ConvergenceWarning:\n",
      "\n",
      "The max_iter was reached which means the coef_ did not converge\n",
      "\n",
      "/Users/v824975/anaconda3/lib/python3.6/site-packages/sklearn/linear_model/sag.py:326: ConvergenceWarning:\n",
      "\n",
      "The max_iter was reached which means the coef_ did not converge\n",
      "\n",
      "/Users/v824975/anaconda3/lib/python3.6/site-packages/sklearn/linear_model/sag.py:326: ConvergenceWarning:\n",
      "\n",
      "The max_iter was reached which means the coef_ did not converge\n",
      "\n"
     ]
    },
    {
     "name": "stdout",
     "output_type": "stream",
     "text": [
      "[CV]  clf__estimator__C=1, clf__estimator__class_weight=balanced, tfidf__max_df=0.75, tfidf__ngram_range=(1, 3), score=0.2784064341157767, total=59.6min\n"
     ]
    },
    {
     "name": "stderr",
     "output_type": "stream",
     "text": [
      "[Parallel(n_jobs=3)]: Done 108 out of 108 | elapsed: 321.7min finished\n",
      "/Users/v824975/anaconda3/lib/python3.6/site-packages/sklearn/linear_model/sag.py:326: ConvergenceWarning:\n",
      "\n",
      "The max_iter was reached which means the coef_ did not converge\n",
      "\n",
      "/Users/v824975/anaconda3/lib/python3.6/site-packages/sklearn/linear_model/sag.py:326: ConvergenceWarning:\n",
      "\n",
      "The max_iter was reached which means the coef_ did not converge\n",
      "\n",
      "/Users/v824975/anaconda3/lib/python3.6/site-packages/sklearn/linear_model/sag.py:326: ConvergenceWarning:\n",
      "\n",
      "The max_iter was reached which means the coef_ did not converge\n",
      "\n",
      "/Users/v824975/anaconda3/lib/python3.6/site-packages/sklearn/linear_model/sag.py:326: ConvergenceWarning:\n",
      "\n",
      "The max_iter was reached which means the coef_ did not converge\n",
      "\n"
     ]
    },
    {
     "name": "stdout",
     "output_type": "stream",
     "text": [
      "Best parameters set:\n",
      "[('tfidf', TfidfVectorizer(analyzer='word', binary=False, decode_error='strict',\n",
      "        dtype=<class 'numpy.int64'>, encoding='utf-8', input='content',\n",
      "        lowercase=True, max_df=0.25, max_features=None, min_df=1,\n",
      "        ngram_range=(1, 2), norm='l2', preprocessor=None, smooth_idf=True,\n",
      "        stop_words='english', strip_accents=None, sublinear_tf=False,\n",
      "        token_pattern='(?u)\\\\b\\\\w\\\\w+\\\\b', tokenizer=None, use_idf=True,\n",
      "        vocabulary=None)), ('clf', OneVsRestClassifier(estimator=LogisticRegression(C=0.1, class_weight='balanced', dual=False,\n",
      "          fit_intercept=True, intercept_scaling=1, max_iter=4000,\n",
      "          multi_class='ovr', n_jobs=1, penalty='l2', random_state=None,\n",
      "          solver='sag', tol=0.0001, verbose=0, warm_start=False),\n",
      "          n_jobs=1))]\n",
      "\n",
      "Applying best classifier on test data:\n",
      "\n",
      "Accuracy Score: 0.404687351741 \n",
      "\n",
      "             precision    recall  f1-score   support\n",
      "\n",
      "     Action       0.32      0.26      0.29       333\n",
      "      Adult       0.03      0.38      0.05         8\n",
      "  Adventure       0.21      0.04      0.06       194\n",
      "  Animation       0.26      0.12      0.17       308\n",
      "  Biography       0.29      0.07      0.12       109\n",
      "     Comedy       0.51      0.53      0.52      2179\n",
      "      Crime       0.23      0.28      0.25       281\n",
      "Documentary       0.54      0.65      0.59      1282\n",
      "      Drama       0.36      0.40      0.38      1767\n",
      "     Family       0.36      0.31      0.33       552\n",
      "    Fantasy       0.29      0.23      0.26       289\n",
      "    History       0.36      0.21      0.26       208\n",
      "     Horror       0.48      0.22      0.30       179\n",
      "      Music       0.45      0.63      0.52       222\n",
      "    Musical       0.00      0.00      0.00        69\n",
      "    Mystery       0.20      0.11      0.14       249\n",
      "    Romance       0.35      0.45      0.40       599\n",
      "     Sci-Fi       0.39      0.51      0.45       574\n",
      "      Short       0.15      0.01      0.02       201\n",
      "      Sport       0.48      0.60      0.53       226\n",
      "   Thriller       0.23      0.20      0.21       495\n",
      "        War       0.30      0.48      0.37       141\n",
      "    Western       0.27      0.12      0.17        74\n",
      "\n",
      "avg / total       0.39      0.40      0.39     10539\n",
      "\n"
     ]
    }
   ],
   "source": [
    "pipeline = Pipeline([('tfidf', TfidfVectorizer(stop_words='english')),\n",
    "                     ('clf', OneVsRestClassifier(LogisticRegression(solver='sag',max_iter=4000), n_jobs=1))])\n",
    "\n",
    "parameters = {'tfidf__max_df': (0.25, 0.5, 0.75),\n",
    "              'tfidf__ngram_range': [(1, 1), (1, 2), (1, 3)],\n",
    "              \"clf__estimator__C\": [0.01, 0.1, 1],\n",
    "              \"clf__estimator__class_weight\": ['balanced', None]}\n",
    "\n",
    "gridSearch(pipeline,parameters,train_x,y_train, x_test, y_test)"
   ]
  },
  {
   "cell_type": "code",
   "execution_count": 296,
   "metadata": {},
   "outputs": [
    {
     "name": "stdout",
     "output_type": "stream",
     "text": [
      "Fitting 2 folds for each of 54 candidates, totalling 108 fits\n",
      "[CV] clf__estimator__C=0.01, clf__estimator__class_weight=balanced, tfidf__max_df=0.25, tfidf__ngram_range=(1, 1) \n",
      "[CV] clf__estimator__C=0.01, clf__estimator__class_weight=balanced, tfidf__max_df=0.25, tfidf__ngram_range=(1, 1) \n",
      "[CV] clf__estimator__C=0.01, clf__estimator__class_weight=balanced, tfidf__max_df=0.25, tfidf__ngram_range=(1, 2) \n",
      "[CV]  clf__estimator__C=0.01, clf__estimator__class_weight=balanced, tfidf__max_df=0.25, tfidf__ngram_range=(1, 1), score=0.3925067738017378, total=   2.3s\n",
      "[CV] clf__estimator__C=0.01, clf__estimator__class_weight=balanced, tfidf__max_df=0.25, tfidf__ngram_range=(1, 2) \n",
      "[CV]  clf__estimator__C=0.01, clf__estimator__class_weight=balanced, tfidf__max_df=0.25, tfidf__ngram_range=(1, 1), score=0.3982979519311699, total=   2.3s\n",
      "[CV] clf__estimator__C=0.01, clf__estimator__class_weight=balanced, tfidf__max_df=0.25, tfidf__ngram_range=(1, 3) \n"
     ]
    },
    {
     "name": "stderr",
     "output_type": "stream",
     "text": [
      "[Parallel(n_jobs=3)]: Done   2 tasks      | elapsed:    3.2s\n"
     ]
    },
    {
     "name": "stdout",
     "output_type": "stream",
     "text": [
      "[CV]  clf__estimator__C=0.01, clf__estimator__class_weight=balanced, tfidf__max_df=0.25, tfidf__ngram_range=(1, 2), score=0.39400168177146594, total=   6.3s\n",
      "[CV] clf__estimator__C=0.01, clf__estimator__class_weight=balanced, tfidf__max_df=0.25, tfidf__ngram_range=(1, 3) \n",
      "[CV]  clf__estimator__C=0.01, clf__estimator__class_weight=balanced, tfidf__max_df=0.25, tfidf__ngram_range=(1, 2), score=0.3987655475544749, total=   6.1s\n",
      "[CV] clf__estimator__C=0.01, clf__estimator__class_weight=balanced, tfidf__max_df=0.5, tfidf__ngram_range=(1, 1) \n",
      "[CV]  clf__estimator__C=0.01, clf__estimator__class_weight=balanced, tfidf__max_df=0.5, tfidf__ngram_range=(1, 1), score=0.3925067738017378, total=   2.2s\n",
      "[CV] clf__estimator__C=0.01, clf__estimator__class_weight=balanced, tfidf__max_df=0.5, tfidf__ngram_range=(1, 1) \n",
      "[CV]  clf__estimator__C=0.01, clf__estimator__class_weight=balanced, tfidf__max_df=0.25, tfidf__ngram_range=(1, 3), score=0.38895636737363354, total=   9.9s\n",
      "[CV] clf__estimator__C=0.01, clf__estimator__class_weight=balanced, tfidf__max_df=0.5, tfidf__ngram_range=(1, 2) \n",
      "[CV]  clf__estimator__C=0.01, clf__estimator__class_weight=balanced, tfidf__max_df=0.5, tfidf__ngram_range=(1, 1), score=0.3982979519311699, total=   2.4s\n",
      "[CV] clf__estimator__C=0.01, clf__estimator__class_weight=balanced, tfidf__max_df=0.5, tfidf__ngram_range=(1, 2) \n"
     ]
    },
    {
     "name": "stderr",
     "output_type": "stream",
     "text": [
      "[Parallel(n_jobs=3)]: Done   7 tasks      | elapsed:   16.9s\n"
     ]
    },
    {
     "name": "stdout",
     "output_type": "stream",
     "text": [
      "[CV]  clf__estimator__C=0.01, clf__estimator__class_weight=balanced, tfidf__max_df=0.25, tfidf__ngram_range=(1, 3), score=0.3951183016926962, total=   9.6s\n",
      "[CV] clf__estimator__C=0.01, clf__estimator__class_weight=balanced, tfidf__max_df=0.5, tfidf__ngram_range=(1, 3) \n",
      "[CV]  clf__estimator__C=0.01, clf__estimator__class_weight=balanced, tfidf__max_df=0.5, tfidf__ngram_range=(1, 2), score=0.39400168177146594, total=   6.1s\n",
      "[CV] clf__estimator__C=0.01, clf__estimator__class_weight=balanced, tfidf__max_df=0.5, tfidf__ngram_range=(1, 3) \n",
      "[CV]  clf__estimator__C=0.01, clf__estimator__class_weight=balanced, tfidf__max_df=0.5, tfidf__ngram_range=(1, 2), score=0.3987655475544749, total=   6.1s\n",
      "[CV] clf__estimator__C=0.01, clf__estimator__class_weight=balanced, tfidf__max_df=0.75, tfidf__ngram_range=(1, 1) \n",
      "[CV]  clf__estimator__C=0.01, clf__estimator__class_weight=balanced, tfidf__max_df=0.75, tfidf__ngram_range=(1, 1), score=0.3925067738017378, total=   2.4s\n",
      "[CV] clf__estimator__C=0.01, clf__estimator__class_weight=balanced, tfidf__max_df=0.75, tfidf__ngram_range=(1, 1) \n",
      "[CV]  clf__estimator__C=0.01, clf__estimator__class_weight=balanced, tfidf__max_df=0.75, tfidf__ngram_range=(1, 1), score=0.3982979519311699, total=   2.5s\n",
      "[CV] clf__estimator__C=0.01, clf__estimator__class_weight=balanced, tfidf__max_df=0.75, tfidf__ngram_range=(1, 2) \n"
     ]
    },
    {
     "name": "stderr",
     "output_type": "stream",
     "text": [
      "[Parallel(n_jobs=3)]: Done  12 tasks      | elapsed:   31.1s\n"
     ]
    },
    {
     "name": "stdout",
     "output_type": "stream",
     "text": [
      "[CV]  clf__estimator__C=0.01, clf__estimator__class_weight=balanced, tfidf__max_df=0.5, tfidf__ngram_range=(1, 3), score=0.38895636737363354, total=   9.8s\n",
      "[CV] clf__estimator__C=0.01, clf__estimator__class_weight=balanced, tfidf__max_df=0.75, tfidf__ngram_range=(1, 2) \n",
      "[CV]  clf__estimator__C=0.01, clf__estimator__class_weight=balanced, tfidf__max_df=0.5, tfidf__ngram_range=(1, 3), score=0.3951183016926962, total=  10.0s\n",
      "[CV] clf__estimator__C=0.01, clf__estimator__class_weight=balanced, tfidf__max_df=0.75, tfidf__ngram_range=(1, 3) \n",
      "[CV]  clf__estimator__C=0.01, clf__estimator__class_weight=balanced, tfidf__max_df=0.75, tfidf__ngram_range=(1, 2), score=0.39400168177146594, total=   7.0s\n",
      "[CV] clf__estimator__C=0.01, clf__estimator__class_weight=balanced, tfidf__max_df=0.75, tfidf__ngram_range=(1, 3) \n",
      "[CV]  clf__estimator__C=0.01, clf__estimator__class_weight=balanced, tfidf__max_df=0.75, tfidf__ngram_range=(1, 2), score=0.3987655475544749, total=   6.9s\n",
      "[CV] clf__estimator__C=0.01, clf__estimator__class_weight=None, tfidf__max_df=0.25, tfidf__ngram_range=(1, 1) \n",
      "[CV]  clf__estimator__C=0.01, clf__estimator__class_weight=None, tfidf__max_df=0.25, tfidf__ngram_range=(1, 1), score=0.289171260394282, total=   2.2s\n",
      "[CV] clf__estimator__C=0.01, clf__estimator__class_weight=None, tfidf__max_df=0.25, tfidf__ngram_range=(1, 1) \n",
      "[CV]  clf__estimator__C=0.01, clf__estimator__class_weight=None, tfidf__max_df=0.25, tfidf__ngram_range=(1, 1), score=0.2904704011970448, total=   2.2s\n",
      "[CV] clf__estimator__C=0.01, clf__estimator__class_weight=None, tfidf__max_df=0.25, tfidf__ngram_range=(1, 2) \n",
      "[CV]  clf__estimator__C=0.01, clf__estimator__class_weight=balanced, tfidf__max_df=0.75, tfidf__ngram_range=(1, 3), score=0.38895636737363354, total=  10.3s\n",
      "[CV] clf__estimator__C=0.01, clf__estimator__class_weight=None, tfidf__max_df=0.25, tfidf__ngram_range=(1, 2) \n"
     ]
    },
    {
     "name": "stderr",
     "output_type": "stream",
     "text": [
      "[Parallel(n_jobs=3)]: Done  19 tasks      | elapsed:   47.9s\n"
     ]
    },
    {
     "name": "stdout",
     "output_type": "stream",
     "text": [
      "[CV]  clf__estimator__C=0.01, clf__estimator__class_weight=balanced, tfidf__max_df=0.75, tfidf__ngram_range=(1, 3), score=0.3951183016926962, total=  10.1s\n",
      "[CV] clf__estimator__C=0.01, clf__estimator__class_weight=None, tfidf__max_df=0.25, tfidf__ngram_range=(1, 3) \n",
      "[CV]  clf__estimator__C=0.01, clf__estimator__class_weight=None, tfidf__max_df=0.25, tfidf__ngram_range=(1, 2), score=0.2462860880127067, total=   5.8s\n",
      "[CV] clf__estimator__C=0.01, clf__estimator__class_weight=None, tfidf__max_df=0.25, tfidf__ngram_range=(1, 3) \n",
      "[CV]  clf__estimator__C=0.01, clf__estimator__class_weight=None, tfidf__max_df=0.25, tfidf__ngram_range=(1, 2), score=0.24745160385298792, total=   5.7s\n",
      "[CV] clf__estimator__C=0.01, clf__estimator__class_weight=None, tfidf__max_df=0.5, tfidf__ngram_range=(1, 1) \n",
      "[CV]  clf__estimator__C=0.01, clf__estimator__class_weight=None, tfidf__max_df=0.5, tfidf__ngram_range=(1, 1), score=0.289171260394282, total=   2.2s\n",
      "[CV] clf__estimator__C=0.01, clf__estimator__class_weight=None, tfidf__max_df=0.5, tfidf__ngram_range=(1, 1) \n",
      "[CV]  clf__estimator__C=0.01, clf__estimator__class_weight=None, tfidf__max_df=0.5, tfidf__ngram_range=(1, 1), score=0.2904704011970448, total=   2.3s\n",
      "[CV] clf__estimator__C=0.01, clf__estimator__class_weight=None, tfidf__max_df=0.5, tfidf__ngram_range=(1, 2) \n",
      "[CV]  clf__estimator__C=0.01, clf__estimator__class_weight=None, tfidf__max_df=0.25, tfidf__ngram_range=(1, 3), score=0.23208446230028965, total=   9.3s\n",
      "[CV] clf__estimator__C=0.01, clf__estimator__class_weight=None, tfidf__max_df=0.5, tfidf__ngram_range=(1, 2) \n",
      "[CV]  clf__estimator__C=0.01, clf__estimator__class_weight=None, tfidf__max_df=0.25, tfidf__ngram_range=(1, 3), score=0.22987000841672123, total=   9.4s\n",
      "[CV] clf__estimator__C=0.01, clf__estimator__class_weight=None, tfidf__max_df=0.5, tfidf__ngram_range=(1, 3) \n"
     ]
    },
    {
     "name": "stderr",
     "output_type": "stream",
     "text": [
      "[Parallel(n_jobs=3)]: Done  26 tasks      | elapsed:  1.1min\n"
     ]
    },
    {
     "name": "stdout",
     "output_type": "stream",
     "text": [
      "[CV]  clf__estimator__C=0.01, clf__estimator__class_weight=None, tfidf__max_df=0.5, tfidf__ngram_range=(1, 2), score=0.2462860880127067, total=   5.8s\n",
      "[CV] clf__estimator__C=0.01, clf__estimator__class_weight=None, tfidf__max_df=0.5, tfidf__ngram_range=(1, 3) \n",
      "[CV]  clf__estimator__C=0.01, clf__estimator__class_weight=None, tfidf__max_df=0.5, tfidf__ngram_range=(1, 2), score=0.24745160385298792, total=   5.7s\n",
      "[CV] clf__estimator__C=0.01, clf__estimator__class_weight=None, tfidf__max_df=0.75, tfidf__ngram_range=(1, 1) \n",
      "[CV]  clf__estimator__C=0.01, clf__estimator__class_weight=None, tfidf__max_df=0.75, tfidf__ngram_range=(1, 1), score=0.289171260394282, total=   2.4s\n",
      "[CV] clf__estimator__C=0.01, clf__estimator__class_weight=None, tfidf__max_df=0.75, tfidf__ngram_range=(1, 1) \n",
      "[CV]  clf__estimator__C=0.01, clf__estimator__class_weight=None, tfidf__max_df=0.75, tfidf__ngram_range=(1, 1), score=0.2904704011970448, total=   2.2s\n",
      "[CV] clf__estimator__C=0.01, clf__estimator__class_weight=None, tfidf__max_df=0.75, tfidf__ngram_range=(1, 2) \n",
      "[CV]  clf__estimator__C=0.01, clf__estimator__class_weight=None, tfidf__max_df=0.5, tfidf__ngram_range=(1, 3), score=0.23208446230028965, total=   9.4s\n",
      "[CV] clf__estimator__C=0.01, clf__estimator__class_weight=None, tfidf__max_df=0.75, tfidf__ngram_range=(1, 2) \n",
      "[CV]  clf__estimator__C=0.01, clf__estimator__class_weight=None, tfidf__max_df=0.5, tfidf__ngram_range=(1, 3), score=0.22987000841672123, total=   9.6s\n",
      "[CV] clf__estimator__C=0.01, clf__estimator__class_weight=None, tfidf__max_df=0.75, tfidf__ngram_range=(1, 3) \n",
      "[CV]  clf__estimator__C=0.01, clf__estimator__class_weight=None, tfidf__max_df=0.75, tfidf__ngram_range=(1, 2), score=0.2462860880127067, total=   6.0s\n",
      "[CV] clf__estimator__C=0.01, clf__estimator__class_weight=None, tfidf__max_df=0.75, tfidf__ngram_range=(1, 3) \n",
      "[CV]  clf__estimator__C=0.01, clf__estimator__class_weight=None, tfidf__max_df=0.75, tfidf__ngram_range=(1, 2), score=0.24745160385298792, total=   5.9s\n",
      "[CV] clf__estimator__C=0.1, clf__estimator__class_weight=balanced, tfidf__max_df=0.25, tfidf__ngram_range=(1, 1) \n",
      "[CV]  clf__estimator__C=0.1, clf__estimator__class_weight=balanced, tfidf__max_df=0.25, tfidf__ngram_range=(1, 1), score=0.40343828833037465, total=   3.0s\n",
      "[CV] clf__estimator__C=0.1, clf__estimator__class_weight=balanced, tfidf__max_df=0.25, tfidf__ngram_range=(1, 1) \n"
     ]
    },
    {
     "name": "stderr",
     "output_type": "stream",
     "text": [
      "[Parallel(n_jobs=3)]: Done  35 tasks      | elapsed:  1.5min\n"
     ]
    },
    {
     "name": "stdout",
     "output_type": "stream",
     "text": [
      "[CV]  clf__estimator__C=0.01, clf__estimator__class_weight=None, tfidf__max_df=0.75, tfidf__ngram_range=(1, 3), score=0.23208446230028965, total=   9.3s\n",
      "[CV] clf__estimator__C=0.1, clf__estimator__class_weight=balanced, tfidf__max_df=0.25, tfidf__ngram_range=(1, 2) \n",
      "[CV]  clf__estimator__C=0.1, clf__estimator__class_weight=balanced, tfidf__max_df=0.25, tfidf__ngram_range=(1, 1), score=0.4027868699148976, total=   3.3s\n",
      "[CV] clf__estimator__C=0.1, clf__estimator__class_weight=balanced, tfidf__max_df=0.25, tfidf__ngram_range=(1, 2) \n",
      "[CV]  clf__estimator__C=0.01, clf__estimator__class_weight=None, tfidf__max_df=0.75, tfidf__ngram_range=(1, 3), score=0.22987000841672123, total=   9.7s\n",
      "[CV] clf__estimator__C=0.1, clf__estimator__class_weight=balanced, tfidf__max_df=0.25, tfidf__ngram_range=(1, 3) \n",
      "[CV]  clf__estimator__C=0.1, clf__estimator__class_weight=balanced, tfidf__max_df=0.25, tfidf__ngram_range=(1, 2), score=0.4071755582546949, total=   8.3s\n",
      "[CV] clf__estimator__C=0.1, clf__estimator__class_weight=balanced, tfidf__max_df=0.25, tfidf__ngram_range=(1, 3) \n",
      "[CV]  clf__estimator__C=0.1, clf__estimator__class_weight=balanced, tfidf__max_df=0.25, tfidf__ngram_range=(1, 2), score=0.41008136163845504, total=   8.2s\n",
      "[CV] clf__estimator__C=0.1, clf__estimator__class_weight=balanced, tfidf__max_df=0.5, tfidf__ngram_range=(1, 1) \n",
      "[CV]  clf__estimator__C=0.1, clf__estimator__class_weight=balanced, tfidf__max_df=0.5, tfidf__ngram_range=(1, 1), score=0.40343828833037465, total=   3.2s\n",
      "[CV] clf__estimator__C=0.1, clf__estimator__class_weight=balanced, tfidf__max_df=0.5, tfidf__ngram_range=(1, 1) \n",
      "[CV]  clf__estimator__C=0.1, clf__estimator__class_weight=balanced, tfidf__max_df=0.5, tfidf__ngram_range=(1, 1), score=0.4027868699148976, total=   3.1s\n",
      "[CV] clf__estimator__C=0.1, clf__estimator__class_weight=balanced, tfidf__max_df=0.5, tfidf__ngram_range=(1, 2) \n",
      "[CV]  clf__estimator__C=0.1, clf__estimator__class_weight=balanced, tfidf__max_df=0.25, tfidf__ngram_range=(1, 3), score=0.4011024946276745, total=  11.7s\n",
      "[CV] clf__estimator__C=0.1, clf__estimator__class_weight=balanced, tfidf__max_df=0.5, tfidf__ngram_range=(1, 2) \n",
      "[CV]  clf__estimator__C=0.1, clf__estimator__class_weight=balanced, tfidf__max_df=0.25, tfidf__ngram_range=(1, 3), score=0.4043766950341345, total=  11.6s\n"
     ]
    },
    {
     "name": "stderr",
     "output_type": "stream",
     "text": [
      "[Parallel(n_jobs=3)]: Done  44 tasks      | elapsed:  1.9min\n"
     ]
    },
    {
     "name": "stdout",
     "output_type": "stream",
     "text": [
      "[CV] clf__estimator__C=0.1, clf__estimator__class_weight=balanced, tfidf__max_df=0.5, tfidf__ngram_range=(1, 3) \n",
      "[CV]  clf__estimator__C=0.1, clf__estimator__class_weight=balanced, tfidf__max_df=0.5, tfidf__ngram_range=(1, 2), score=0.4071755582546949, total=   7.6s\n",
      "[CV] clf__estimator__C=0.1, clf__estimator__class_weight=balanced, tfidf__max_df=0.5, tfidf__ngram_range=(1, 3) \n",
      "[CV]  clf__estimator__C=0.1, clf__estimator__class_weight=balanced, tfidf__max_df=0.5, tfidf__ngram_range=(1, 2), score=0.41008136163845504, total=   7.5s\n",
      "[CV] clf__estimator__C=0.1, clf__estimator__class_weight=balanced, tfidf__max_df=0.75, tfidf__ngram_range=(1, 1) \n",
      "[CV]  clf__estimator__C=0.1, clf__estimator__class_weight=balanced, tfidf__max_df=0.75, tfidf__ngram_range=(1, 1), score=0.40343828833037465, total=   3.3s\n",
      "[CV] clf__estimator__C=0.1, clf__estimator__class_weight=balanced, tfidf__max_df=0.75, tfidf__ngram_range=(1, 1) \n",
      "[CV]  clf__estimator__C=0.1, clf__estimator__class_weight=balanced, tfidf__max_df=0.75, tfidf__ngram_range=(1, 1), score=0.4027868699148976, total=   3.2s\n",
      "[CV] clf__estimator__C=0.1, clf__estimator__class_weight=balanced, tfidf__max_df=0.75, tfidf__ngram_range=(1, 2) \n",
      "[CV]  clf__estimator__C=0.1, clf__estimator__class_weight=balanced, tfidf__max_df=0.5, tfidf__ngram_range=(1, 3), score=0.4011024946276745, total=  12.0s\n",
      "[CV] clf__estimator__C=0.1, clf__estimator__class_weight=balanced, tfidf__max_df=0.75, tfidf__ngram_range=(1, 2) \n",
      "[CV]  clf__estimator__C=0.1, clf__estimator__class_weight=balanced, tfidf__max_df=0.5, tfidf__ngram_range=(1, 3), score=0.4043766950341345, total=  11.7s\n",
      "[CV] clf__estimator__C=0.1, clf__estimator__class_weight=balanced, tfidf__max_df=0.75, tfidf__ngram_range=(1, 3) \n",
      "[CV]  clf__estimator__C=0.1, clf__estimator__class_weight=balanced, tfidf__max_df=0.75, tfidf__ngram_range=(1, 2), score=0.4071755582546949, total=   7.5s\n",
      "[CV] clf__estimator__C=0.1, clf__estimator__class_weight=balanced, tfidf__max_df=0.75, tfidf__ngram_range=(1, 3) \n",
      "[CV]  clf__estimator__C=0.1, clf__estimator__class_weight=balanced, tfidf__max_df=0.75, tfidf__ngram_range=(1, 2), score=0.41008136163845504, total=   7.4s\n",
      "[CV] clf__estimator__C=0.1, clf__estimator__class_weight=None, tfidf__max_df=0.25, tfidf__ngram_range=(1, 1) \n",
      "[CV]  clf__estimator__C=0.1, clf__estimator__class_weight=None, tfidf__max_df=0.25, tfidf__ngram_range=(1, 1), score=0.3881154816406615, total=   2.5s\n",
      "[CV] clf__estimator__C=0.1, clf__estimator__class_weight=None, tfidf__max_df=0.25, tfidf__ngram_range=(1, 1) \n",
      "[CV]  clf__estimator__C=0.1, clf__estimator__class_weight=None, tfidf__max_df=0.25, tfidf__ngram_range=(1, 1), score=0.38857196296642665, total=   2.4s\n",
      "[CV] clf__estimator__C=0.1, clf__estimator__class_weight=None, tfidf__max_df=0.25, tfidf__ngram_range=(1, 2) \n",
      "[CV]  clf__estimator__C=0.1, clf__estimator__class_weight=balanced, tfidf__max_df=0.75, tfidf__ngram_range=(1, 3), score=0.4011024946276745, total=  11.6s\n"
     ]
    },
    {
     "name": "stderr",
     "output_type": "stream",
     "text": [
      "[Parallel(n_jobs=3)]: Done  55 tasks      | elapsed:  2.5min\n"
     ]
    },
    {
     "name": "stdout",
     "output_type": "stream",
     "text": [
      "[CV] clf__estimator__C=0.1, clf__estimator__class_weight=None, tfidf__max_df=0.25, tfidf__ngram_range=(1, 2) \n",
      "[CV]  clf__estimator__C=0.1, clf__estimator__class_weight=balanced, tfidf__max_df=0.75, tfidf__ngram_range=(1, 3), score=0.4043766950341345, total=  12.6s\n",
      "[CV] clf__estimator__C=0.1, clf__estimator__class_weight=None, tfidf__max_df=0.25, tfidf__ngram_range=(1, 3) \n",
      "[CV]  clf__estimator__C=0.1, clf__estimator__class_weight=None, tfidf__max_df=0.25, tfidf__ngram_range=(1, 2), score=0.37671680837148463, total=   7.3s\n",
      "[CV] clf__estimator__C=0.1, clf__estimator__class_weight=None, tfidf__max_df=0.25, tfidf__ngram_range=(1, 3) \n",
      "[CV]  clf__estimator__C=0.1, clf__estimator__class_weight=None, tfidf__max_df=0.25, tfidf__ngram_range=(1, 2), score=0.3821191433648181, total=   6.8s\n",
      "[CV] clf__estimator__C=0.1, clf__estimator__class_weight=None, tfidf__max_df=0.5, tfidf__ngram_range=(1, 1) \n",
      "[CV]  clf__estimator__C=0.1, clf__estimator__class_weight=None, tfidf__max_df=0.5, tfidf__ngram_range=(1, 1), score=0.3881154816406615, total=   2.5s\n",
      "[CV] clf__estimator__C=0.1, clf__estimator__class_weight=None, tfidf__max_df=0.5, tfidf__ngram_range=(1, 1) \n",
      "[CV]  clf__estimator__C=0.1, clf__estimator__class_weight=None, tfidf__max_df=0.5, tfidf__ngram_range=(1, 1), score=0.38857196296642665, total=   2.6s\n",
      "[CV] clf__estimator__C=0.1, clf__estimator__class_weight=None, tfidf__max_df=0.5, tfidf__ngram_range=(1, 2) \n",
      "[CV]  clf__estimator__C=0.1, clf__estimator__class_weight=None, tfidf__max_df=0.25, tfidf__ngram_range=(1, 3), score=0.37316640194338035, total=  10.5s\n",
      "[CV] clf__estimator__C=0.1, clf__estimator__class_weight=None, tfidf__max_df=0.5, tfidf__ngram_range=(1, 2) \n",
      "[CV]  clf__estimator__C=0.1, clf__estimator__class_weight=None, tfidf__max_df=0.25, tfidf__ngram_range=(1, 3), score=0.3764144767604975, total=  10.5s\n",
      "[CV] clf__estimator__C=0.1, clf__estimator__class_weight=None, tfidf__max_df=0.5, tfidf__ngram_range=(1, 3) \n",
      "[CV]  clf__estimator__C=0.1, clf__estimator__class_weight=None, tfidf__max_df=0.5, tfidf__ngram_range=(1, 2), score=0.37671680837148463, total=   6.5s\n",
      "[CV] clf__estimator__C=0.1, clf__estimator__class_weight=None, tfidf__max_df=0.5, tfidf__ngram_range=(1, 3) \n",
      "[CV]  clf__estimator__C=0.1, clf__estimator__class_weight=None, tfidf__max_df=0.5, tfidf__ngram_range=(1, 2), score=0.3821191433648181, total=   6.5s\n",
      "[CV] clf__estimator__C=0.1, clf__estimator__class_weight=None, tfidf__max_df=0.75, tfidf__ngram_range=(1, 1) \n",
      "[CV]  clf__estimator__C=0.1, clf__estimator__class_weight=None, tfidf__max_df=0.75, tfidf__ngram_range=(1, 1), score=0.3881154816406615, total=   2.5s\n",
      "[CV] clf__estimator__C=0.1, clf__estimator__class_weight=None, tfidf__max_df=0.75, tfidf__ngram_range=(1, 1) \n",
      "[CV]  clf__estimator__C=0.1, clf__estimator__class_weight=None, tfidf__max_df=0.75, tfidf__ngram_range=(1, 1), score=0.38857196296642665, total=   2.7s\n",
      "[CV] clf__estimator__C=0.1, clf__estimator__class_weight=None, tfidf__max_df=0.75, tfidf__ngram_range=(1, 2) \n"
     ]
    },
    {
     "name": "stderr",
     "output_type": "stream",
     "text": [
      "[Parallel(n_jobs=3)]: Done  66 tasks      | elapsed:  3.0min\n"
     ]
    },
    {
     "name": "stdout",
     "output_type": "stream",
     "text": [
      "[CV]  clf__estimator__C=0.1, clf__estimator__class_weight=None, tfidf__max_df=0.5, tfidf__ngram_range=(1, 3), score=0.37316640194338035, total=  10.6s\n",
      "[CV] clf__estimator__C=0.1, clf__estimator__class_weight=None, tfidf__max_df=0.75, tfidf__ngram_range=(1, 2) \n",
      "[CV]  clf__estimator__C=0.1, clf__estimator__class_weight=None, tfidf__max_df=0.5, tfidf__ngram_range=(1, 3), score=0.3764144767604975, total=  10.8s\n",
      "[CV] clf__estimator__C=0.1, clf__estimator__class_weight=None, tfidf__max_df=0.75, tfidf__ngram_range=(1, 3) \n",
      "[CV]  clf__estimator__C=0.1, clf__estimator__class_weight=None, tfidf__max_df=0.75, tfidf__ngram_range=(1, 2), score=0.37671680837148463, total=   6.9s\n",
      "[CV] clf__estimator__C=0.1, clf__estimator__class_weight=None, tfidf__max_df=0.75, tfidf__ngram_range=(1, 3) \n",
      "[CV]  clf__estimator__C=0.1, clf__estimator__class_weight=None, tfidf__max_df=0.75, tfidf__ngram_range=(1, 2), score=0.3821191433648181, total=   6.8s\n",
      "[CV] clf__estimator__C=1, clf__estimator__class_weight=balanced, tfidf__max_df=0.25, tfidf__ngram_range=(1, 1) \n",
      "[CV]  clf__estimator__C=1, clf__estimator__class_weight=balanced, tfidf__max_df=0.25, tfidf__ngram_range=(1, 1), score=0.3785854433336448, total=   3.5s\n",
      "[CV] clf__estimator__C=1, clf__estimator__class_weight=balanced, tfidf__max_df=0.25, tfidf__ngram_range=(1, 1) \n",
      "[CV]  clf__estimator__C=0.1, clf__estimator__class_weight=None, tfidf__max_df=0.75, tfidf__ngram_range=(1, 3), score=0.37316640194338035, total=  10.4s\n",
      "[CV] clf__estimator__C=1, clf__estimator__class_weight=balanced, tfidf__max_df=0.25, tfidf__ngram_range=(1, 2) \n",
      "[CV]  clf__estimator__C=1, clf__estimator__class_weight=balanced, tfidf__max_df=0.25, tfidf__ngram_range=(1, 1), score=0.3770691106331245, total=   3.4s\n",
      "[CV] clf__estimator__C=1, clf__estimator__class_weight=balanced, tfidf__max_df=0.25, tfidf__ngram_range=(1, 2) \n",
      "[CV]  clf__estimator__C=0.1, clf__estimator__class_weight=None, tfidf__max_df=0.75, tfidf__ngram_range=(1, 3), score=0.3764144767604975, total=  10.3s\n",
      "[CV] clf__estimator__C=1, clf__estimator__class_weight=balanced, tfidf__max_df=0.25, tfidf__ngram_range=(1, 3) \n",
      "[CV]  clf__estimator__C=1, clf__estimator__class_weight=balanced, tfidf__max_df=0.25, tfidf__ngram_range=(1, 2), score=0.4071822687739643, total=   9.3s\n",
      "[CV]  clf__estimator__C=1, clf__estimator__class_weight=balanced, tfidf__max_df=0.25, tfidf__ngram_range=(1, 2), score=0.40577408203307486, total=   9.5s\n",
      "[CV] clf__estimator__C=1, clf__estimator__class_weight=balanced, tfidf__max_df=0.25, tfidf__ngram_range=(1, 3) \n",
      "[CV] clf__estimator__C=1, clf__estimator__class_weight=balanced, tfidf__max_df=0.5, tfidf__ngram_range=(1, 1) \n",
      "[CV]  clf__estimator__C=1, clf__estimator__class_weight=balanced, tfidf__max_df=0.5, tfidf__ngram_range=(1, 1), score=0.3785854433336448, total=   3.9s\n",
      "[CV] clf__estimator__C=1, clf__estimator__class_weight=balanced, tfidf__max_df=0.5, tfidf__ngram_range=(1, 1) \n",
      "[CV]  clf__estimator__C=1, clf__estimator__class_weight=balanced, tfidf__max_df=0.5, tfidf__ngram_range=(1, 1), score=0.3770691106331245, total=   3.5s\n",
      "[CV] clf__estimator__C=1, clf__estimator__class_weight=balanced, tfidf__max_df=0.5, tfidf__ngram_range=(1, 2) \n",
      "[CV]  clf__estimator__C=1, clf__estimator__class_weight=balanced, tfidf__max_df=0.25, tfidf__ngram_range=(1, 3), score=0.40698869475847893, total=  14.8s\n",
      "[CV] clf__estimator__C=1, clf__estimator__class_weight=balanced, tfidf__max_df=0.5, tfidf__ngram_range=(1, 2) \n"
     ]
    },
    {
     "name": "stderr",
     "output_type": "stream",
     "text": [
      "[Parallel(n_jobs=3)]: Done  79 tasks      | elapsed:  3.7min\n"
     ]
    },
    {
     "name": "stdout",
     "output_type": "stream",
     "text": [
      "[CV]  clf__estimator__C=1, clf__estimator__class_weight=balanced, tfidf__max_df=0.25, tfidf__ngram_range=(1, 3), score=0.40998784251379405, total=  14.6s\n",
      "[CV] clf__estimator__C=1, clf__estimator__class_weight=balanced, tfidf__max_df=0.5, tfidf__ngram_range=(1, 3) \n",
      "[CV]  clf__estimator__C=1, clf__estimator__class_weight=balanced, tfidf__max_df=0.5, tfidf__ngram_range=(1, 2), score=0.40577408203307486, total=   9.2s\n",
      "[CV] clf__estimator__C=1, clf__estimator__class_weight=balanced, tfidf__max_df=0.5, tfidf__ngram_range=(1, 3) \n",
      "[CV]  clf__estimator__C=1, clf__estimator__class_weight=balanced, tfidf__max_df=0.5, tfidf__ngram_range=(1, 2), score=0.4071822687739643, total=   9.0s\n",
      "[CV] clf__estimator__C=1, clf__estimator__class_weight=balanced, tfidf__max_df=0.75, tfidf__ngram_range=(1, 1) \n",
      "[CV]  clf__estimator__C=1, clf__estimator__class_weight=balanced, tfidf__max_df=0.75, tfidf__ngram_range=(1, 1), score=0.3785854433336448, total=   3.5s\n",
      "[CV] clf__estimator__C=1, clf__estimator__class_weight=balanced, tfidf__max_df=0.75, tfidf__ngram_range=(1, 1) \n",
      "[CV]  clf__estimator__C=1, clf__estimator__class_weight=balanced, tfidf__max_df=0.75, tfidf__ngram_range=(1, 1), score=0.3770691106331245, total=   3.8s\n",
      "[CV] clf__estimator__C=1, clf__estimator__class_weight=balanced, tfidf__max_df=0.75, tfidf__ngram_range=(1, 2) \n",
      "[CV]  clf__estimator__C=1, clf__estimator__class_weight=balanced, tfidf__max_df=0.5, tfidf__ngram_range=(1, 3), score=0.40698869475847893, total=  14.8s\n",
      "[CV] clf__estimator__C=1, clf__estimator__class_weight=balanced, tfidf__max_df=0.75, tfidf__ngram_range=(1, 2) \n",
      "[CV]  clf__estimator__C=1, clf__estimator__class_weight=balanced, tfidf__max_df=0.5, tfidf__ngram_range=(1, 3), score=0.40998784251379405, total=  14.6s\n",
      "[CV] clf__estimator__C=1, clf__estimator__class_weight=balanced, tfidf__max_df=0.75, tfidf__ngram_range=(1, 3) \n",
      "[CV]  clf__estimator__C=1, clf__estimator__class_weight=balanced, tfidf__max_df=0.75, tfidf__ngram_range=(1, 2), score=0.40577408203307486, total=   8.7s\n",
      "[CV] clf__estimator__C=1, clf__estimator__class_weight=balanced, tfidf__max_df=0.75, tfidf__ngram_range=(1, 3) \n",
      "[CV]  clf__estimator__C=1, clf__estimator__class_weight=balanced, tfidf__max_df=0.75, tfidf__ngram_range=(1, 2), score=0.4071822687739643, total=   8.6s\n",
      "[CV] clf__estimator__C=1, clf__estimator__class_weight=None, tfidf__max_df=0.25, tfidf__ngram_range=(1, 1) \n",
      "[CV]  clf__estimator__C=1, clf__estimator__class_weight=None, tfidf__max_df=0.25, tfidf__ngram_range=(1, 1), score=0.382135849761749, total=   3.1s\n",
      "[CV] clf__estimator__C=1, clf__estimator__class_weight=None, tfidf__max_df=0.25, tfidf__ngram_range=(1, 1) \n",
      "[CV]  clf__estimator__C=1, clf__estimator__class_weight=None, tfidf__max_df=0.25, tfidf__ngram_range=(1, 1), score=0.38137099036753014, total=   3.1s\n",
      "[CV] clf__estimator__C=1, clf__estimator__class_weight=None, tfidf__max_df=0.25, tfidf__ngram_range=(1, 2) \n",
      "[CV]  clf__estimator__C=1, clf__estimator__class_weight=balanced, tfidf__max_df=0.75, tfidf__ngram_range=(1, 3), score=0.40698869475847893, total=  14.8s\n",
      "[CV] clf__estimator__C=1, clf__estimator__class_weight=None, tfidf__max_df=0.25, tfidf__ngram_range=(1, 2) \n",
      "[CV]  clf__estimator__C=1, clf__estimator__class_weight=balanced, tfidf__max_df=0.75, tfidf__ngram_range=(1, 3), score=0.40998784251379405, total=  14.7s\n",
      "[CV] clf__estimator__C=1, clf__estimator__class_weight=None, tfidf__max_df=0.25, tfidf__ngram_range=(1, 3) \n"
     ]
    },
    {
     "name": "stderr",
     "output_type": "stream",
     "text": [
      "[Parallel(n_jobs=3)]: Done  92 tasks      | elapsed:  4.5min\n"
     ]
    },
    {
     "name": "stdout",
     "output_type": "stream",
     "text": [
      "[CV]  clf__estimator__C=1, clf__estimator__class_weight=None, tfidf__max_df=0.25, tfidf__ngram_range=(1, 2), score=0.40502662804821077, total=   8.0s\n",
      "[CV] clf__estimator__C=1, clf__estimator__class_weight=None, tfidf__max_df=0.25, tfidf__ngram_range=(1, 3) \n",
      "[CV]  clf__estimator__C=1, clf__estimator__class_weight=None, tfidf__max_df=0.25, tfidf__ngram_range=(1, 2), score=0.40531188628074444, total=   7.9s\n",
      "[CV] clf__estimator__C=1, clf__estimator__class_weight=None, tfidf__max_df=0.5, tfidf__ngram_range=(1, 1) \n",
      "[CV]  clf__estimator__C=1, clf__estimator__class_weight=None, tfidf__max_df=0.5, tfidf__ngram_range=(1, 1), score=0.382135849761749, total=   3.0s\n",
      "[CV] clf__estimator__C=1, clf__estimator__class_weight=None, tfidf__max_df=0.5, tfidf__ngram_range=(1, 1) \n",
      "[CV]  clf__estimator__C=1, clf__estimator__class_weight=None, tfidf__max_df=0.5, tfidf__ngram_range=(1, 1), score=0.38137099036753014, total=   3.1s\n",
      "[CV] clf__estimator__C=1, clf__estimator__class_weight=None, tfidf__max_df=0.5, tfidf__ngram_range=(1, 2) \n",
      "[CV]  clf__estimator__C=1, clf__estimator__class_weight=None, tfidf__max_df=0.25, tfidf__ngram_range=(1, 3), score=0.4054937867887508, total=  13.5s\n",
      "[CV] clf__estimator__C=1, clf__estimator__class_weight=None, tfidf__max_df=0.5, tfidf__ngram_range=(1, 2) \n",
      "[CV]  clf__estimator__C=1, clf__estimator__class_weight=None, tfidf__max_df=0.25, tfidf__ngram_range=(1, 3), score=0.4065276349013373, total=  13.4s\n",
      "[CV] clf__estimator__C=1, clf__estimator__class_weight=None, tfidf__max_df=0.5, tfidf__ngram_range=(1, 3) \n",
      "[CV]  clf__estimator__C=1, clf__estimator__class_weight=None, tfidf__max_df=0.5, tfidf__ngram_range=(1, 2), score=0.40502662804821077, total=   7.7s\n",
      "[CV] clf__estimator__C=1, clf__estimator__class_weight=None, tfidf__max_df=0.5, tfidf__ngram_range=(1, 3) \n",
      "[CV]  clf__estimator__C=1, clf__estimator__class_weight=None, tfidf__max_df=0.5, tfidf__ngram_range=(1, 2), score=0.40531188628074444, total=   7.7s\n",
      "[CV] clf__estimator__C=1, clf__estimator__class_weight=None, tfidf__max_df=0.75, tfidf__ngram_range=(1, 1) \n",
      "[CV]  clf__estimator__C=1, clf__estimator__class_weight=None, tfidf__max_df=0.75, tfidf__ngram_range=(1, 1), score=0.382135849761749, total=   2.8s\n",
      "[CV] clf__estimator__C=1, clf__estimator__class_weight=None, tfidf__max_df=0.75, tfidf__ngram_range=(1, 1) \n",
      "[CV]  clf__estimator__C=1, clf__estimator__class_weight=None, tfidf__max_df=0.75, tfidf__ngram_range=(1, 1), score=0.38137099036753014, total=   3.1s\n",
      "[CV] clf__estimator__C=1, clf__estimator__class_weight=None, tfidf__max_df=0.75, tfidf__ngram_range=(1, 2) \n",
      "[CV]  clf__estimator__C=1, clf__estimator__class_weight=None, tfidf__max_df=0.5, tfidf__ngram_range=(1, 3), score=0.4054937867887508, total=  13.4s\n",
      "[CV] clf__estimator__C=1, clf__estimator__class_weight=None, tfidf__max_df=0.75, tfidf__ngram_range=(1, 2) \n",
      "[CV]  clf__estimator__C=1, clf__estimator__class_weight=None, tfidf__max_df=0.5, tfidf__ngram_range=(1, 3), score=0.4065276349013373, total=  13.6s\n",
      "[CV] clf__estimator__C=1, clf__estimator__class_weight=None, tfidf__max_df=0.75, tfidf__ngram_range=(1, 3) \n",
      "[CV]  clf__estimator__C=1, clf__estimator__class_weight=None, tfidf__max_df=0.75, tfidf__ngram_range=(1, 2), score=0.40502662804821077, total=   8.4s\n",
      "[CV] clf__estimator__C=1, clf__estimator__class_weight=None, tfidf__max_df=0.75, tfidf__ngram_range=(1, 3) \n",
      "[CV]  clf__estimator__C=1, clf__estimator__class_weight=None, tfidf__max_df=0.75, tfidf__ngram_range=(1, 2), score=0.40531188628074444, total=   8.0s\n",
      "[CV]  clf__estimator__C=1, clf__estimator__class_weight=None, tfidf__max_df=0.75, tfidf__ngram_range=(1, 3), score=0.4054937867887508, total=  13.6s\n",
      "[CV]  clf__estimator__C=1, clf__estimator__class_weight=None, tfidf__max_df=0.75, tfidf__ngram_range=(1, 3), score=0.4065276349013373, total=  13.3s\n"
     ]
    },
    {
     "name": "stderr",
     "output_type": "stream",
     "text": [
      "[Parallel(n_jobs=3)]: Done 108 out of 108 | elapsed:  5.4min finished\n"
     ]
    },
    {
     "name": "stdout",
     "output_type": "stream",
     "text": [
      "Best parameters set:\n",
      "[('tfidf', TfidfVectorizer(analyzer='word', binary=False, decode_error='strict',\n",
      "        dtype=<class 'numpy.int64'>, encoding='utf-8', input='content',\n",
      "        lowercase=True, max_df=0.25, max_features=None, min_df=1,\n",
      "        ngram_range=(1, 2), norm='l2', preprocessor=None, smooth_idf=True,\n",
      "        stop_words='english', strip_accents=None, sublinear_tf=False,\n",
      "        token_pattern='(?u)\\\\b\\\\w\\\\w+\\\\b', tokenizer=None, use_idf=True,\n",
      "        vocabulary=None)), ('clf', OneVsRestClassifier(estimator=LinearSVC(C=0.1, class_weight='balanced', dual=True, fit_intercept=True,\n",
      "     intercept_scaling=1, loss='squared_hinge', max_iter=1000,\n",
      "     multi_class='ovr', penalty='l2', random_state=None, tol=0.0001,\n",
      "     verbose=0),\n",
      "          n_jobs=1))]\n",
      "\n",
      "Applying best classifier on test data:\n",
      "\n",
      "Accuracy Score: 0.425467311889 \n",
      "\n",
      "             precision    recall  f1-score   support\n",
      "\n",
      "     Action       0.32      0.26      0.29       333\n",
      "      Adult       0.00      0.00      0.00         8\n",
      "  Adventure       0.14      0.02      0.04       194\n",
      "  Animation       0.28      0.11      0.16       308\n",
      "  Biography       0.25      0.02      0.03       109\n",
      "     Comedy       0.50      0.60      0.55      2179\n",
      "      Crime       0.24      0.18      0.21       281\n",
      "Documentary       0.54      0.70      0.61      1282\n",
      "      Drama       0.37      0.49      0.42      1767\n",
      "     Family       0.35      0.29      0.32       552\n",
      "    Fantasy       0.29      0.21      0.24       289\n",
      "    History       0.38      0.15      0.22       208\n",
      "     Horror       0.50      0.21      0.30       179\n",
      "      Music       0.52      0.56      0.54       222\n",
      "    Musical       0.00      0.00      0.00        69\n",
      "    Mystery       0.22      0.09      0.13       249\n",
      "    Romance       0.39      0.36      0.37       599\n",
      "     Sci-Fi       0.41      0.52      0.46       574\n",
      "      Short       0.10      0.00      0.01       201\n",
      "      Sport       0.54      0.56      0.55       226\n",
      "   Thriller       0.23      0.20      0.21       495\n",
      "        War       0.34      0.36      0.35       141\n",
      "    Western       0.41      0.12      0.19        74\n",
      "\n",
      "avg / total       0.40      0.43      0.40     10539\n",
      "\n"
     ]
    },
    {
     "name": "stderr",
     "output_type": "stream",
     "text": [
      "/Users/v824975/anaconda3/lib/python3.6/site-packages/sklearn/metrics/classification.py:1135: UndefinedMetricWarning:\n",
      "\n",
      "Precision and F-score are ill-defined and being set to 0.0 in labels with no predicted samples.\n",
      "\n"
     ]
    }
   ],
   "source": [
    "pipeline = Pipeline([('tfidf', TfidfVectorizer(stop_words='english')),\n",
    "                     ('clf', OneVsRestClassifier(LinearSVC(), n_jobs=1))])\n",
    "\n",
    "parameters = {'tfidf__max_df': (0.25, 0.5, 0.75),\n",
    "              'tfidf__ngram_range': [(1, 1), (1, 2), (1, 3)],\n",
    "              \"clf__estimator__C\": [0.01, 0.1, 1],\n",
    "              \"clf__estimator__class_weight\": ['balanced', None],}\n",
    "\n",
    "gridSearch(pipeline,parameters,train_x,y_train, x_test, y_test)"
   ]
  },
  {
   "cell_type": "markdown",
   "metadata": {},
   "source": [
    "# Thank you"
   ]
  }
 ],
 "metadata": {
  "celltoolbar": "Slideshow",
  "kernelspec": {
   "display_name": "Python 3",
   "language": "python",
   "name": "python3"
  },
  "language_info": {
   "codemirror_mode": {
    "name": "ipython",
    "version": 3
   },
   "file_extension": ".py",
   "mimetype": "text/x-python",
   "name": "python",
   "nbconvert_exporter": "python",
   "pygments_lexer": "ipython3",
   "version": "3.6.3"
  }
 },
 "nbformat": 4,
 "nbformat_minor": 2
}
